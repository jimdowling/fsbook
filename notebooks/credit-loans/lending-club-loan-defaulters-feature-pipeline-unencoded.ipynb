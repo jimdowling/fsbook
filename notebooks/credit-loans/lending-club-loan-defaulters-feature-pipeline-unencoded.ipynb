{
 "cells": [
  {
   "cell_type": "markdown",
   "id": "4e1e2fcc",
   "metadata": {
    "papermill": {
     "duration": 0.029083,
     "end_time": "2023-01-31T14:11:23.008968",
     "exception": false,
     "start_time": "2023-01-31T14:11:22.979885",
     "status": "completed"
    },
    "tags": []
   },
   "source": [
    "# 🏦 Loan Analysis Problem Statement\n",
    "\n",
    "https://www.kaggle.com/code/faressayah/lending-club-loan-defaulters-prediction \n",
    "\n",
    "\n",
    "\n",
    "# 📑 Introduction\n",
    "\n",
    "> `LendingClub` is a US peer-to-peer lending company, headquartered in San Francisco, California. It was the first peer-to-peer lender to register its offerings as securities with the Securities and Exchange Commission (SEC), and to offer loan trading on a secondary market. `LendingClub` is the world's largest peer-to-peer lending platform.\n",
    "\n",
    "> Solving this case study will give us an idea about how real business problems are solved using EDA and Machine Learning. In this case study, we will also develop a basic understanding of risk analytics in banking and financial services and understand how data is used to minimise the risk of losing money while lending to customers.\n",
    "\n",
    "# 📝 Business Understanding\n",
    "\n",
    "> You work for the `LendingClub` company which specialises in lending various types of loans to urban customers. When the company receives a loan application, the company has to make a decision for loan approval based on the applicant’s profile. Two types of risks are associated with the bank’s decision:\n",
    "\n",
    "> - If the applicant is likely to repay the loan, then not approving the loan results in a loss of business to the company\n",
    "> - If the applicant is not likely to repay the loan, i.e. he/she is likely to default, then approving the loan may lead to a financial loss for the company\n",
    "\n",
    "> The data given contains the information about past loan applicants and whether they ‘defaulted’ or not. The aim is to identify patterns which indicate if a person is likely to default, which may be used for takin actions such as denying the loan, reducing the amount of loan, lending (to risky applicants) at a higher interest rate, etc.\n",
    "\n",
    "> When a person applies for a loan, there are two types of decisions that could be taken by the company:\n",
    "> 1. `Loan accepted`: If the company approves the loan, there are 3 possible scenarios described below:\n",
    "    - `Fully paid`: Applicant has fully paid the loan (the principal and the interest rate)\n",
    "    - `Current`: Applicant is in the process of paying the instalments, i.e. the tenure of the loan is not yet completed. These candidates are not labelled as 'defaulted'.\n",
    "    - `Charged-off`: Applicant has not paid the instalments in due time for a long period of time, i.e. he/she has defaulted on the loan\n",
    "> 2. `Loan rejected`: The company had rejected the loan (because the candidate does not meet their requirements etc.). Since the loan was rejected, there is no transactional history of those applicants with the company and so this data is not available with the company (and thus in this dataset)\n",
    "\n",
    "# 🎯 Business Objectives\n",
    "> - `LendingClub` is the largest online loan marketplace, facilitating personal loans, business loans, and financing of medical procedures. Borrowers can easily access lower interest rate loans through a fast online interface. \n",
    "> - Like most other lending companies, lending loans to ‘`risky`’ applicants is the largest source of financial loss (called `credit loss`). The credit loss is the amount of money lost by the lender when the borrower refuses to pay or runs away with the money owed. In other words, borrowers who defaultcause the largest amount of loss to the lenders. In this case, the customers labelled as '`charged-off`' are the '`defaulters`'. \n",
    "> - If one is able to identify these risky loan applicants, then such loans can be reduced thereby cutting down the amount of credit loss. Identification of such applicants using EDA and machine learning is the aim of this case study. \n",
    "> - In other words, the company wants to understand the driving factors (or driver variables) behind loan default, i.e. the variables which are strong indicators of default. The company can utilise this knowledge for its portfolio and risk assessment. \n",
    "> - To develop your understanding of the domain, you are advised to independently research a little about risk analytics (understanding the types of variables and their significance should be enough).\n",
    "\n",
    "# 💾 Data Description\n",
    "\n",
    "----\n",
    "-----\n",
    "Here is the information on this particular data set:\n",
    "\n",
    "<table border=\"1\" class=\"dataframe\">\n",
    "  <thead>\n",
    "    <tr style=\"text-align: right;\">\n",
    "      <th></th>\n",
    "      <th>LoanStatNew</th>\n",
    "      <th>Description</th>\n",
    "    </tr>\n",
    "  </thead>\n",
    "  <tbody>\n",
    "    <tr>\n",
    "      <th>0</th>\n",
    "      <td>loan_amnt</td>\n",
    "      <td>The listed amount of the loan applied for by the borrower. If at some point in time, the credit department reduces the loan amount, then it will be reflected in this value.</td>\n",
    "    </tr>\n",
    "    <tr>\n",
    "      <th>1</th>\n",
    "      <td>term</td>\n",
    "      <td>The number of payments on the loan. Values are in months and can be either 36 or 60.</td>\n",
    "    </tr>\n",
    "    <tr>\n",
    "      <th>2</th>\n",
    "      <td>int_rate</td>\n",
    "      <td>Interest Rate on the loan</td>\n",
    "    </tr>\n",
    "    <tr>\n",
    "      <th>3</th>\n",
    "      <td>installment</td>\n",
    "      <td>The monthly payment owed by the borrower if the loan originates.</td>\n",
    "    </tr>\n",
    "    <tr>\n",
    "      <th>4</th>\n",
    "      <td>grade</td>\n",
    "      <td>LC assigned loan grade</td>\n",
    "    </tr>\n",
    "    <tr>\n",
    "      <th>5</th>\n",
    "      <td>sub_grade</td>\n",
    "      <td>LC assigned loan subgrade</td>\n",
    "    </tr>\n",
    "    <tr>\n",
    "      <th>6</th>\n",
    "      <td>emp_title</td>\n",
    "      <td>The job title supplied by the Borrower when applying for the loan.*</td>\n",
    "    </tr>\n",
    "    <tr>\n",
    "      <th>7</th>\n",
    "      <td>emp_length</td>\n",
    "      <td>Employment length in years. Possible values are between 0 and 10 where 0 means less than one year and 10 means ten or more years.</td>\n",
    "    </tr>\n",
    "    <tr>\n",
    "      <th>8</th>\n",
    "      <td>home_ownership</td>\n",
    "      <td>The home ownership status provided by the borrower during registration or obtained from the credit report. Our values are: RENT, OWN, MORTGAGE, OTHER</td>\n",
    "    </tr>\n",
    "    <tr>\n",
    "      <th>9</th>\n",
    "      <td>annual_inc</td>\n",
    "      <td>The self-reported annual income provided by the borrower during registration.</td>\n",
    "    </tr>\n",
    "    <tr>\n",
    "      <th>10</th>\n",
    "      <td>verification_status</td>\n",
    "      <td>Indicates if income was verified by LC, not verified, or if the income source was verified</td>\n",
    "    </tr>\n",
    "    <tr>\n",
    "      <th>11</th>\n",
    "      <td>issue_d</td>\n",
    "      <td>The month which the loan was funded</td>\n",
    "    </tr>\n",
    "    <tr>\n",
    "      <th>12</th>\n",
    "      <td>loan_status</td>\n",
    "      <td>Current status of the loan</td>\n",
    "    </tr>\n",
    "    <tr>\n",
    "      <th>13</th>\n",
    "      <td>purpose</td>\n",
    "      <td>A category provided by the borrower for the loan request.</td>\n",
    "    </tr>\n",
    "    <tr>\n",
    "      <th>14</th>\n",
    "      <td>title</td>\n",
    "      <td>The loan title provided by the borrower</td>\n",
    "    </tr>\n",
    "    <tr>\n",
    "      <th>15</th>\n",
    "      <td>zip_code</td>\n",
    "      <td>The first 3 numbers of the zip code provided by the borrower in the loan application.</td>\n",
    "    </tr>\n",
    "    <tr>\n",
    "      <th>16</th>\n",
    "      <td>addr_state</td>\n",
    "      <td>The state provided by the borrower in the loan application</td>\n",
    "    </tr>\n",
    "    <tr>\n",
    "      <th>17</th>\n",
    "      <td>dti</td>\n",
    "      <td>A ratio calculated using the borrower’s total monthly debt payments on the total debt obligations, excluding mortgage and the requested LC loan, divided by the borrower’s self-reported monthly income.</td>\n",
    "    </tr>\n",
    "    <tr>\n",
    "      <th>18</th>\n",
    "      <td>earliest_cr_line</td>\n",
    "      <td>The month the borrower's earliest reported credit line was opened</td>\n",
    "    </tr>\n",
    "    <tr>\n",
    "      <th>19</th>\n",
    "      <td>open_acc</td>\n",
    "      <td>The number of open credit lines in the borrower's credit file.</td>\n",
    "    </tr>\n",
    "    <tr>\n",
    "      <th>20</th>\n",
    "      <td>pub_rec</td>\n",
    "      <td>Number of derogatory public records</td>\n",
    "    </tr>\n",
    "    <tr>\n",
    "      <th>21</th>\n",
    "      <td>revol_bal</td>\n",
    "      <td>Total credit revolving balance</td>\n",
    "    </tr>\n",
    "    <tr>\n",
    "      <th>22</th>\n",
    "      <td>revol_util</td>\n",
    "      <td>Revolving line utilization rate, or the amount of credit the borrower is using relative to all available revolving credit.</td>\n",
    "    </tr>\n",
    "    <tr>\n",
    "      <th>23</th>\n",
    "      <td>total_acc</td>\n",
    "      <td>The total number of credit lines currently in the borrower's credit file</td>\n",
    "    </tr>\n",
    "    <tr>\n",
    "      <th>24</th>\n",
    "      <td>initial_list_status</td>\n",
    "      <td>The initial listing status of the loan. Possible values are – W, F</td>\n",
    "    </tr>\n",
    "    <tr>\n",
    "      <th>25</th>\n",
    "      <td>application_type</td>\n",
    "      <td>Indicates whether the loan is an individual application or a joint application with two co-borrowers</td>\n",
    "    </tr>\n",
    "    <tr>\n",
    "      <th>26</th>\n",
    "      <td>mort_acc</td>\n",
    "      <td>Number of mortgage accounts.</td>\n",
    "    </tr>\n",
    "    <tr>\n",
    "      <th>27</th>\n",
    "      <td>pub_rec_bankruptcies</td>\n",
    "      <td>Number of public record bankruptcies</td>\n",
    "    </tr>\n",
    "  </tbody>\n",
    "</table>\n",
    "\n",
    "---\n",
    "----"
   ]
  },
  {
   "cell_type": "code",
   "execution_count": 1,
   "id": "7b696de8",
   "metadata": {},
   "outputs": [
    {
     "name": "stdout",
     "output_type": "stream",
     "text": [
      "Requirement already satisfied: hopsworks==3.1.0rc0 in /home/jdowling/anaconda3/lib/python3.9/site-packages (3.1.0rc0)\n",
      "Requirement already satisfied: furl in /home/jdowling/.local/lib/python3.9/site-packages (from hopsworks==3.1.0rc0) (2.1.3)\n",
      "Requirement already satisfied: boto3 in /home/jdowling/.local/lib/python3.9/site-packages (from hopsworks==3.1.0rc0) (1.20.24)\n",
      "Requirement already satisfied: hsml~=3.1.0rc0 in /home/jdowling/anaconda3/lib/python3.9/site-packages (from hopsworks==3.1.0rc0) (3.1.0rc0)\n",
      "Requirement already satisfied: pyjks in /home/jdowling/.local/lib/python3.9/site-packages (from hopsworks==3.1.0rc0) (20.0.0)\n",
      "Requirement already satisfied: pyhumps==1.6.1 in /home/jdowling/.local/lib/python3.9/site-packages (from hopsworks==3.1.0rc0) (1.6.1)\n",
      "Requirement already satisfied: tqdm in /home/jdowling/.local/lib/python3.9/site-packages (from hopsworks==3.1.0rc0) (4.62.3)\n",
      "Requirement already satisfied: hsfs[python]~=3.1.0rc0 in /home/jdowling/anaconda3/lib/python3.9/site-packages (from hopsworks==3.1.0rc0) (3.1.0rc3)\n",
      "Requirement already satisfied: requests in /home/jdowling/anaconda3/lib/python3.9/site-packages (from hopsworks==3.1.0rc0) (2.25.1)\n",
      "Requirement already satisfied: mock in /home/jdowling/.local/lib/python3.9/site-packages (from hopsworks==3.1.0rc0) (4.0.3)\n",
      "Requirement already satisfied: tzlocal in /home/jdowling/anaconda3/lib/python3.9/site-packages (from hsfs[python]~=3.1.0rc0->hopsworks==3.1.0rc0) (3.0)\n",
      "Requirement already satisfied: PyMySQL[rsa] in /home/jdowling/.local/lib/python3.9/site-packages (from hsfs[python]~=3.1.0rc0->hopsworks==3.1.0rc0) (1.0.2)\n",
      "Requirement already satisfied: numpy in /home/jdowling/anaconda3/lib/python3.9/site-packages (from hsfs[python]~=3.1.0rc0->hopsworks==3.1.0rc0) (1.19.5)\n",
      "Requirement already satisfied: sqlalchemy in /home/jdowling/.local/lib/python3.9/site-packages (from hsfs[python]~=3.1.0rc0->hopsworks==3.1.0rc0) (1.4.28)\n",
      "Requirement already satisfied: great-expectations==0.14.12 in /home/jdowling/anaconda3/lib/python3.9/site-packages (from hsfs[python]~=3.1.0rc0->hopsworks==3.1.0rc0) (0.14.12)\n",
      "Requirement already satisfied: pandas>=1.2.0 in /home/jdowling/.local/lib/python3.9/site-packages (from hsfs[python]~=3.1.0rc0->hopsworks==3.1.0rc0) (1.4.2)\n",
      "Requirement already satisfied: markupsafe<2.1.0 in /home/jdowling/.local/lib/python3.9/site-packages (from hsfs[python]~=3.1.0rc0->hopsworks==3.1.0rc0) (2.0.1)\n",
      "Requirement already satisfied: avro==1.10.2 in /home/jdowling/.local/lib/python3.9/site-packages (from hsfs[python]~=3.1.0rc0->hopsworks==3.1.0rc0) (1.10.2)\n",
      "Requirement already satisfied: gcsfs==2022.7.1 in /home/jdowling/anaconda3/lib/python3.9/site-packages (from hsfs[python]~=3.1.0rc0->hopsworks==3.1.0rc0) (2022.7.1)\n",
      "Requirement already satisfied: fastavro==1.4.11 in /home/jdowling/anaconda3/lib/python3.9/site-packages (from hsfs[python]~=3.1.0rc0->hopsworks==3.1.0rc0) (1.4.11)\n",
      "Requirement already satisfied: confluent-kafka==1.8.2 in /home/jdowling/anaconda3/lib/python3.9/site-packages (from hsfs[python]~=3.1.0rc0->hopsworks==3.1.0rc0) (1.8.2)\n",
      "Requirement already satisfied: pyhopshive[thrift] in /home/jdowling/.local/lib/python3.9/site-packages (from hsfs[python]~=3.1.0rc0->hopsworks==3.1.0rc0) (0.6.4.1.dev0)\n",
      "Requirement already satisfied: pyarrow in /home/jdowling/.local/lib/python3.9/site-packages (from hsfs[python]~=3.1.0rc0->hopsworks==3.1.0rc0) (6.0.1)\n",
      "Requirement already satisfied: google-auth>=1.2 in /home/jdowling/anaconda3/lib/python3.9/site-packages (from gcsfs==2022.7.1->hsfs[python]~=3.1.0rc0->hopsworks==3.1.0rc0) (2.16.1)\n",
      "Requirement already satisfied: google-auth-oauthlib in /home/jdowling/anaconda3/lib/python3.9/site-packages (from gcsfs==2022.7.1->hsfs[python]~=3.1.0rc0->hopsworks==3.1.0rc0) (0.4.6)\n",
      "Requirement already satisfied: decorator>4.1.2 in /home/jdowling/anaconda3/lib/python3.9/site-packages (from gcsfs==2022.7.1->hsfs[python]~=3.1.0rc0->hopsworks==3.1.0rc0) (5.1.0)\n",
      "Requirement already satisfied: aiohttp in /home/jdowling/anaconda3/lib/python3.9/site-packages (from gcsfs==2022.7.1->hsfs[python]~=3.1.0rc0->hopsworks==3.1.0rc0) (3.8.3)\n",
      "Requirement already satisfied: google-cloud-storage in /home/jdowling/anaconda3/lib/python3.9/site-packages (from gcsfs==2022.7.1->hsfs[python]~=3.1.0rc0->hopsworks==3.1.0rc0) (2.7.0)\n",
      "Requirement already satisfied: fsspec==2022.7.1 in /home/jdowling/anaconda3/lib/python3.9/site-packages (from gcsfs==2022.7.1->hsfs[python]~=3.1.0rc0->hopsworks==3.1.0rc0) (2022.7.1)\n",
      "Requirement already satisfied: cryptography>=3.2 in /home/jdowling/anaconda3/lib/python3.9/site-packages (from great-expectations==0.14.12->hsfs[python]~=3.1.0rc0->hopsworks==3.1.0rc0) (3.4.8)\n",
      "Requirement already satisfied: python-dateutil>=2.8.1 in /home/jdowling/anaconda3/lib/python3.9/site-packages (from great-expectations==0.14.12->hsfs[python]~=3.1.0rc0->hopsworks==3.1.0rc0) (2.8.2)\n",
      "Requirement already satisfied: jinja2<3.1.0,>=2.10 in /home/jdowling/anaconda3/lib/python3.9/site-packages (from great-expectations==0.14.12->hsfs[python]~=3.1.0rc0->hopsworks==3.1.0rc0) (3.0.3)\n",
      "Requirement already satisfied: importlib-metadata>=1.7.0 in /home/jdowling/anaconda3/lib/python3.9/site-packages (from great-expectations==0.14.12->hsfs[python]~=3.1.0rc0->hopsworks==3.1.0rc0) (5.0.0)\n",
      "Requirement already satisfied: pyparsing<3,>=2.4 in /home/jdowling/anaconda3/lib/python3.9/site-packages (from great-expectations==0.14.12->hsfs[python]~=3.1.0rc0->hopsworks==3.1.0rc0) (2.4.7)\n",
      "Requirement already satisfied: mistune<2.0.0,>=0.8.4 in /home/jdowling/anaconda3/lib/python3.9/site-packages (from great-expectations==0.14.12->hsfs[python]~=3.1.0rc0->hopsworks==3.1.0rc0) (0.8.4)\n",
      "Requirement already satisfied: termcolor>=1.1.0 in /home/jdowling/.local/lib/python3.9/site-packages (from great-expectations==0.14.12->hsfs[python]~=3.1.0rc0->hopsworks==3.1.0rc0) (1.1.0)\n",
      "Requirement already satisfied: Click>=7.1.2 in /home/jdowling/anaconda3/lib/python3.9/site-packages (from great-expectations==0.14.12->hsfs[python]~=3.1.0rc0->hopsworks==3.1.0rc0) (8.1.3)\n",
      "Requirement already satisfied: jsonpatch>=1.22 in /home/jdowling/.local/lib/python3.9/site-packages (from great-expectations==0.14.12->hsfs[python]~=3.1.0rc0->hopsworks==3.1.0rc0) (1.32)\n",
      "Requirement already satisfied: scipy>=0.19.0 in /home/jdowling/.local/lib/python3.9/site-packages (from great-expectations==0.14.12->hsfs[python]~=3.1.0rc0->hopsworks==3.1.0rc0) (1.7.3)\n",
      "Requirement already satisfied: urllib3<1.27,>=1.25.4 in /home/jdowling/anaconda3/lib/python3.9/site-packages (from great-expectations==0.14.12->hsfs[python]~=3.1.0rc0->hopsworks==3.1.0rc0) (1.26.12)\n",
      "Requirement already satisfied: altair<5,>=4.0.0 in /home/jdowling/.local/lib/python3.9/site-packages (from great-expectations==0.14.12->hsfs[python]~=3.1.0rc0->hopsworks==3.1.0rc0) (4.2.0)\n",
      "Requirement already satisfied: typing-extensions>=3.10.0.0 in /home/jdowling/anaconda3/lib/python3.9/site-packages (from great-expectations==0.14.12->hsfs[python]~=3.1.0rc0->hopsworks==3.1.0rc0) (3.10.0.2)\n",
      "Requirement already satisfied: nbformat>=5.0 in /home/jdowling/anaconda3/lib/python3.9/site-packages (from great-expectations==0.14.12->hsfs[python]~=3.1.0rc0->hopsworks==3.1.0rc0) (5.1.3)\n",
      "Requirement already satisfied: ipywidgets>=7.5.1 in /home/jdowling/.local/lib/python3.9/site-packages (from great-expectations==0.14.12->hsfs[python]~=3.1.0rc0->hopsworks==3.1.0rc0) (7.6.5)\n",
      "Requirement already satisfied: colorama>=0.4.3 in /home/jdowling/anaconda3/lib/python3.9/site-packages (from great-expectations==0.14.12->hsfs[python]~=3.1.0rc0->hopsworks==3.1.0rc0) (0.4.4)\n",
      "Requirement already satisfied: packaging in /home/jdowling/.local/lib/python3.9/site-packages (from great-expectations==0.14.12->hsfs[python]~=3.1.0rc0->hopsworks==3.1.0rc0) (21.3)\n",
      "Requirement already satisfied: jsonschema>=2.5.1 in /home/jdowling/anaconda3/lib/python3.9/site-packages (from great-expectations==0.14.12->hsfs[python]~=3.1.0rc0->hopsworks==3.1.0rc0) (3.2.0)\n",
      "Requirement already satisfied: pytz>=2021.3 in /home/jdowling/anaconda3/lib/python3.9/site-packages (from great-expectations==0.14.12->hsfs[python]~=3.1.0rc0->hopsworks==3.1.0rc0) (2021.3)\n",
      "Requirement already satisfied: ruamel.yaml<0.17.18,>=0.16 in /home/jdowling/anaconda3/lib/python3.9/site-packages (from great-expectations==0.14.12->hsfs[python]~=3.1.0rc0->hopsworks==3.1.0rc0) (0.17.17)\n",
      "Requirement already satisfied: entrypoints in /home/jdowling/anaconda3/lib/python3.9/site-packages (from altair<5,>=4.0.0->great-expectations==0.14.12->hsfs[python]~=3.1.0rc0->hopsworks==3.1.0rc0) (0.3)\n",
      "Requirement already satisfied: toolz in /home/jdowling/.local/lib/python3.9/site-packages (from altair<5,>=4.0.0->great-expectations==0.14.12->hsfs[python]~=3.1.0rc0->hopsworks==3.1.0rc0) (0.11.2)\n"
     ]
    },
    {
     "name": "stdout",
     "output_type": "stream",
     "text": [
      "Requirement already satisfied: cffi>=1.12 in /home/jdowling/.local/lib/python3.9/site-packages (from cryptography>=3.2->great-expectations==0.14.12->hsfs[python]~=3.1.0rc0->hopsworks==3.1.0rc0) (1.15.0)\n",
      "Requirement already satisfied: pycparser in /home/jdowling/.local/lib/python3.9/site-packages (from cffi>=1.12->cryptography>=3.2->great-expectations==0.14.12->hsfs[python]~=3.1.0rc0->hopsworks==3.1.0rc0) (2.21)\n",
      "Requirement already satisfied: cachetools<6.0,>=2.0.0 in /home/jdowling/anaconda3/lib/python3.9/site-packages (from google-auth>=1.2->gcsfs==2022.7.1->hsfs[python]~=3.1.0rc0->hopsworks==3.1.0rc0) (4.2.4)\n",
      "Requirement already satisfied: rsa<5,>=3.1.4 in /home/jdowling/anaconda3/lib/python3.9/site-packages (from google-auth>=1.2->gcsfs==2022.7.1->hsfs[python]~=3.1.0rc0->hopsworks==3.1.0rc0) (4.8)\n",
      "Requirement already satisfied: six>=1.9.0 in /home/jdowling/anaconda3/lib/python3.9/site-packages (from google-auth>=1.2->gcsfs==2022.7.1->hsfs[python]~=3.1.0rc0->hopsworks==3.1.0rc0) (1.15.0)\n",
      "Requirement already satisfied: pyasn1-modules>=0.2.1 in /home/jdowling/.local/lib/python3.9/site-packages (from google-auth>=1.2->gcsfs==2022.7.1->hsfs[python]~=3.1.0rc0->hopsworks==3.1.0rc0) (0.2.8)\n",
      "Requirement already satisfied: zipp>=0.5 in /home/jdowling/anaconda3/lib/python3.9/site-packages (from importlib-metadata>=1.7.0->great-expectations==0.14.12->hsfs[python]~=3.1.0rc0->hopsworks==3.1.0rc0) (3.10.0)\n",
      "Requirement already satisfied: ipython-genutils~=0.2.0 in /home/jdowling/anaconda3/lib/python3.9/site-packages (from ipywidgets>=7.5.1->great-expectations==0.14.12->hsfs[python]~=3.1.0rc0->hopsworks==3.1.0rc0) (0.2.0)\n",
      "Requirement already satisfied: widgetsnbextension~=3.5.0 in /home/jdowling/.local/lib/python3.9/site-packages (from ipywidgets>=7.5.1->great-expectations==0.14.12->hsfs[python]~=3.1.0rc0->hopsworks==3.1.0rc0) (3.5.2)\n",
      "Requirement already satisfied: traitlets>=4.3.1 in /home/jdowling/anaconda3/lib/python3.9/site-packages (from ipywidgets>=7.5.1->great-expectations==0.14.12->hsfs[python]~=3.1.0rc0->hopsworks==3.1.0rc0) (5.1.0)\n",
      "Requirement already satisfied: ipython>=4.0.0 in /home/jdowling/anaconda3/lib/python3.9/site-packages (from ipywidgets>=7.5.1->great-expectations==0.14.12->hsfs[python]~=3.1.0rc0->hopsworks==3.1.0rc0) (7.29.0)\n",
      "Requirement already satisfied: jupyterlab-widgets>=1.0.0 in /home/jdowling/.local/lib/python3.9/site-packages (from ipywidgets>=7.5.1->great-expectations==0.14.12->hsfs[python]~=3.1.0rc0->hopsworks==3.1.0rc0) (1.0.2)\n",
      "Requirement already satisfied: ipykernel>=4.5.1 in /home/jdowling/anaconda3/lib/python3.9/site-packages (from ipywidgets>=7.5.1->great-expectations==0.14.12->hsfs[python]~=3.1.0rc0->hopsworks==3.1.0rc0) (6.4.1)\n",
      "Requirement already satisfied: tornado<7.0,>=4.2 in /home/jdowling/anaconda3/lib/python3.9/site-packages (from ipykernel>=4.5.1->ipywidgets>=7.5.1->great-expectations==0.14.12->hsfs[python]~=3.1.0rc0->hopsworks==3.1.0rc0) (6.1)\n",
      "Requirement already satisfied: jupyter-client<8.0 in /home/jdowling/anaconda3/lib/python3.9/site-packages (from ipykernel>=4.5.1->ipywidgets>=7.5.1->great-expectations==0.14.12->hsfs[python]~=3.1.0rc0->hopsworks==3.1.0rc0) (6.1.12)\n",
      "Requirement already satisfied: matplotlib-inline<0.2.0,>=0.1.0 in /home/jdowling/anaconda3/lib/python3.9/site-packages (from ipykernel>=4.5.1->ipywidgets>=7.5.1->great-expectations==0.14.12->hsfs[python]~=3.1.0rc0->hopsworks==3.1.0rc0) (0.1.2)\n",
      "Requirement already satisfied: debugpy<2.0,>=1.0.0 in /home/jdowling/anaconda3/lib/python3.9/site-packages (from ipykernel>=4.5.1->ipywidgets>=7.5.1->great-expectations==0.14.12->hsfs[python]~=3.1.0rc0->hopsworks==3.1.0rc0) (1.4.1)\n",
      "Requirement already satisfied: setuptools>=18.5 in /home/jdowling/anaconda3/lib/python3.9/site-packages (from ipython>=4.0.0->ipywidgets>=7.5.1->great-expectations==0.14.12->hsfs[python]~=3.1.0rc0->hopsworks==3.1.0rc0) (58.0.4)\n",
      "Requirement already satisfied: jedi>=0.16 in /home/jdowling/anaconda3/lib/python3.9/site-packages (from ipython>=4.0.0->ipywidgets>=7.5.1->great-expectations==0.14.12->hsfs[python]~=3.1.0rc0->hopsworks==3.1.0rc0) (0.18.0)\n",
      "Requirement already satisfied: backcall in /home/jdowling/anaconda3/lib/python3.9/site-packages (from ipython>=4.0.0->ipywidgets>=7.5.1->great-expectations==0.14.12->hsfs[python]~=3.1.0rc0->hopsworks==3.1.0rc0) (0.2.0)\n",
      "Requirement already satisfied: pygments in /home/jdowling/anaconda3/lib/python3.9/site-packages (from ipython>=4.0.0->ipywidgets>=7.5.1->great-expectations==0.14.12->hsfs[python]~=3.1.0rc0->hopsworks==3.1.0rc0) (2.13.0)\n",
      "Requirement already satisfied: pickleshare in /home/jdowling/anaconda3/lib/python3.9/site-packages (from ipython>=4.0.0->ipywidgets>=7.5.1->great-expectations==0.14.12->hsfs[python]~=3.1.0rc0->hopsworks==3.1.0rc0) (0.7.5)\n",
      "Requirement already satisfied: prompt-toolkit!=3.0.0,!=3.0.1,<3.1.0,>=2.0.0 in /home/jdowling/anaconda3/lib/python3.9/site-packages (from ipython>=4.0.0->ipywidgets>=7.5.1->great-expectations==0.14.12->hsfs[python]~=3.1.0rc0->hopsworks==3.1.0rc0) (3.0.20)\n",
      "Requirement already satisfied: pexpect>4.3 in /home/jdowling/anaconda3/lib/python3.9/site-packages (from ipython>=4.0.0->ipywidgets>=7.5.1->great-expectations==0.14.12->hsfs[python]~=3.1.0rc0->hopsworks==3.1.0rc0) (4.8.0)\n",
      "Requirement already satisfied: parso<0.9.0,>=0.8.0 in /home/jdowling/anaconda3/lib/python3.9/site-packages (from jedi>=0.16->ipython>=4.0.0->ipywidgets>=7.5.1->great-expectations==0.14.12->hsfs[python]~=3.1.0rc0->hopsworks==3.1.0rc0) (0.8.2)\n",
      "Requirement already satisfied: jsonpointer>=1.9 in /home/jdowling/.local/lib/python3.9/site-packages (from jsonpatch>=1.22->great-expectations==0.14.12->hsfs[python]~=3.1.0rc0->hopsworks==3.1.0rc0) (2.2)\n",
      "Requirement already satisfied: attrs>=17.4.0 in /home/jdowling/anaconda3/lib/python3.9/site-packages (from jsonschema>=2.5.1->great-expectations==0.14.12->hsfs[python]~=3.1.0rc0->hopsworks==3.1.0rc0) (22.1.0)\n",
      "Requirement already satisfied: pyrsistent>=0.14.0 in /home/jdowling/anaconda3/lib/python3.9/site-packages (from jsonschema>=2.5.1->great-expectations==0.14.12->hsfs[python]~=3.1.0rc0->hopsworks==3.1.0rc0) (0.18.0)\n",
      "Requirement already satisfied: pyzmq>=13 in /home/jdowling/anaconda3/lib/python3.9/site-packages (from jupyter-client<8.0->ipykernel>=4.5.1->ipywidgets>=7.5.1->great-expectations==0.14.12->hsfs[python]~=3.1.0rc0->hopsworks==3.1.0rc0) (22.2.1)\n",
      "Requirement already satisfied: jupyter-core>=4.6.0 in /home/jdowling/anaconda3/lib/python3.9/site-packages (from jupyter-client<8.0->ipykernel>=4.5.1->ipywidgets>=7.5.1->great-expectations==0.14.12->hsfs[python]~=3.1.0rc0->hopsworks==3.1.0rc0) (4.8.1)\n",
      "Requirement already satisfied: ptyprocess>=0.5 in /home/jdowling/anaconda3/lib/python3.9/site-packages (from pexpect>4.3->ipython>=4.0.0->ipywidgets>=7.5.1->great-expectations==0.14.12->hsfs[python]~=3.1.0rc0->hopsworks==3.1.0rc0) (0.7.0)\n",
      "Requirement already satisfied: wcwidth in /home/jdowling/anaconda3/lib/python3.9/site-packages (from prompt-toolkit!=3.0.0,!=3.0.1,<3.1.0,>=2.0.0->ipython>=4.0.0->ipywidgets>=7.5.1->great-expectations==0.14.12->hsfs[python]~=3.1.0rc0->hopsworks==3.1.0rc0) (0.2.5)\n",
      "Requirement already satisfied: pyasn1<0.5.0,>=0.4.6 in /home/jdowling/.local/lib/python3.9/site-packages (from pyasn1-modules>=0.2.1->google-auth>=1.2->gcsfs==2022.7.1->hsfs[python]~=3.1.0rc0->hopsworks==3.1.0rc0) (0.4.8)\n",
      "Requirement already satisfied: certifi>=2017.4.17 in /home/jdowling/anaconda3/lib/python3.9/site-packages (from requests->hopsworks==3.1.0rc0) (2022.9.24)\n",
      "Requirement already satisfied: idna<3,>=2.5 in /home/jdowling/anaconda3/lib/python3.9/site-packages (from requests->hopsworks==3.1.0rc0) (2.10)\n",
      "Requirement already satisfied: chardet<5,>=3.0.2 in /home/jdowling/anaconda3/lib/python3.9/site-packages (from requests->hopsworks==3.1.0rc0) (4.0.0)\n",
      "Requirement already satisfied: ruamel.yaml.clib>=0.1.2 in /home/jdowling/.local/lib/python3.9/site-packages (from ruamel.yaml<0.17.18,>=0.16->great-expectations==0.14.12->hsfs[python]~=3.1.0rc0->hopsworks==3.1.0rc0) (0.2.6)\n",
      "Requirement already satisfied: notebook>=4.4.1 in /home/jdowling/anaconda3/lib/python3.9/site-packages (from widgetsnbextension~=3.5.0->ipywidgets>=7.5.1->great-expectations==0.14.12->hsfs[python]~=3.1.0rc0->hopsworks==3.1.0rc0) (6.4.12)\n",
      "Requirement already satisfied: nest-asyncio>=1.5 in /home/jdowling/.local/lib/python3.9/site-packages (from notebook>=4.4.1->widgetsnbextension~=3.5.0->ipywidgets>=7.5.1->great-expectations==0.14.12->hsfs[python]~=3.1.0rc0->hopsworks==3.1.0rc0) (1.5.5)\n",
      "Requirement already satisfied: nbconvert>=5 in /home/jdowling/anaconda3/lib/python3.9/site-packages (from notebook>=4.4.1->widgetsnbextension~=3.5.0->ipywidgets>=7.5.1->great-expectations==0.14.12->hsfs[python]~=3.1.0rc0->hopsworks==3.1.0rc0) (6.4.5)\n",
      "Requirement already satisfied: Send2Trash>=1.8.0 in /home/jdowling/anaconda3/lib/python3.9/site-packages (from notebook>=4.4.1->widgetsnbextension~=3.5.0->ipywidgets>=7.5.1->great-expectations==0.14.12->hsfs[python]~=3.1.0rc0->hopsworks==3.1.0rc0) (1.8.0)\n",
      "Requirement already satisfied: prometheus-client in /home/jdowling/anaconda3/lib/python3.9/site-packages (from notebook>=4.4.1->widgetsnbextension~=3.5.0->ipywidgets>=7.5.1->great-expectations==0.14.12->hsfs[python]~=3.1.0rc0->hopsworks==3.1.0rc0) (0.11.0)\n",
      "Requirement already satisfied: argon2-cffi in /home/jdowling/anaconda3/lib/python3.9/site-packages (from notebook>=4.4.1->widgetsnbextension~=3.5.0->ipywidgets>=7.5.1->great-expectations==0.14.12->hsfs[python]~=3.1.0rc0->hopsworks==3.1.0rc0) (20.1.0)\n",
      "Requirement already satisfied: terminado>=0.8.3 in /home/jdowling/anaconda3/lib/python3.9/site-packages (from notebook>=4.4.1->widgetsnbextension~=3.5.0->ipywidgets>=7.5.1->great-expectations==0.14.12->hsfs[python]~=3.1.0rc0->hopsworks==3.1.0rc0) (0.9.4)\n"
     ]
    },
    {
     "name": "stdout",
     "output_type": "stream",
     "text": [
      "Requirement already satisfied: pandocfilters>=1.4.1 in /home/jdowling/anaconda3/lib/python3.9/site-packages (from nbconvert>=5->notebook>=4.4.1->widgetsnbextension~=3.5.0->ipywidgets>=7.5.1->great-expectations==0.14.12->hsfs[python]~=3.1.0rc0->hopsworks==3.1.0rc0) (1.4.3)\n",
      "Requirement already satisfied: defusedxml in /home/jdowling/anaconda3/lib/python3.9/site-packages (from nbconvert>=5->notebook>=4.4.1->widgetsnbextension~=3.5.0->ipywidgets>=7.5.1->great-expectations==0.14.12->hsfs[python]~=3.1.0rc0->hopsworks==3.1.0rc0) (0.7.1)\n",
      "Requirement already satisfied: nbclient<0.6.0,>=0.5.0 in /home/jdowling/.local/lib/python3.9/site-packages (from nbconvert>=5->notebook>=4.4.1->widgetsnbextension~=3.5.0->ipywidgets>=7.5.1->great-expectations==0.14.12->hsfs[python]~=3.1.0rc0->hopsworks==3.1.0rc0) (0.5.13)\n",
      "Requirement already satisfied: jupyterlab-pygments in /home/jdowling/anaconda3/lib/python3.9/site-packages (from nbconvert>=5->notebook>=4.4.1->widgetsnbextension~=3.5.0->ipywidgets>=7.5.1->great-expectations==0.14.12->hsfs[python]~=3.1.0rc0->hopsworks==3.1.0rc0) (0.1.2)\n",
      "Requirement already satisfied: bleach in /home/jdowling/anaconda3/lib/python3.9/site-packages (from nbconvert>=5->notebook>=4.4.1->widgetsnbextension~=3.5.0->ipywidgets>=7.5.1->great-expectations==0.14.12->hsfs[python]~=3.1.0rc0->hopsworks==3.1.0rc0) (4.0.0)\n",
      "Requirement already satisfied: testpath in /home/jdowling/anaconda3/lib/python3.9/site-packages (from nbconvert>=5->notebook>=4.4.1->widgetsnbextension~=3.5.0->ipywidgets>=7.5.1->great-expectations==0.14.12->hsfs[python]~=3.1.0rc0->hopsworks==3.1.0rc0) (0.5.0)\n",
      "Requirement already satisfied: beautifulsoup4 in /home/jdowling/.local/lib/python3.9/site-packages (from nbconvert>=5->notebook>=4.4.1->widgetsnbextension~=3.5.0->ipywidgets>=7.5.1->great-expectations==0.14.12->hsfs[python]~=3.1.0rc0->hopsworks==3.1.0rc0) (4.10.0)\n",
      "Requirement already satisfied: async-timeout<5.0,>=4.0.0a3 in /home/jdowling/anaconda3/lib/python3.9/site-packages (from aiohttp->gcsfs==2022.7.1->hsfs[python]~=3.1.0rc0->hopsworks==3.1.0rc0) (4.0.2)\n",
      "Requirement already satisfied: charset-normalizer<3.0,>=2.0 in /home/jdowling/anaconda3/lib/python3.9/site-packages (from aiohttp->gcsfs==2022.7.1->hsfs[python]~=3.1.0rc0->hopsworks==3.1.0rc0) (2.0.12)\n",
      "Requirement already satisfied: multidict<7.0,>=4.5 in /home/jdowling/anaconda3/lib/python3.9/site-packages (from aiohttp->gcsfs==2022.7.1->hsfs[python]~=3.1.0rc0->hopsworks==3.1.0rc0) (6.0.2)\n",
      "Requirement already satisfied: yarl<2.0,>=1.0 in /home/jdowling/anaconda3/lib/python3.9/site-packages (from aiohttp->gcsfs==2022.7.1->hsfs[python]~=3.1.0rc0->hopsworks==3.1.0rc0) (1.8.1)\n",
      "Requirement already satisfied: frozenlist>=1.1.1 in /home/jdowling/anaconda3/lib/python3.9/site-packages (from aiohttp->gcsfs==2022.7.1->hsfs[python]~=3.1.0rc0->hopsworks==3.1.0rc0) (1.3.1)\n",
      "Requirement already satisfied: aiosignal>=1.1.2 in /home/jdowling/anaconda3/lib/python3.9/site-packages (from aiohttp->gcsfs==2022.7.1->hsfs[python]~=3.1.0rc0->hopsworks==3.1.0rc0) (1.2.0)\n",
      "Requirement already satisfied: soupsieve>1.2 in /home/jdowling/.local/lib/python3.9/site-packages (from beautifulsoup4->nbconvert>=5->notebook>=4.4.1->widgetsnbextension~=3.5.0->ipywidgets>=7.5.1->great-expectations==0.14.12->hsfs[python]~=3.1.0rc0->hopsworks==3.1.0rc0) (2.3.1)\n",
      "Requirement already satisfied: webencodings in /home/jdowling/anaconda3/lib/python3.9/site-packages (from bleach->nbconvert>=5->notebook>=4.4.1->widgetsnbextension~=3.5.0->ipywidgets>=7.5.1->great-expectations==0.14.12->hsfs[python]~=3.1.0rc0->hopsworks==3.1.0rc0) (0.5.1)\n",
      "Requirement already satisfied: jmespath<1.0.0,>=0.7.1 in /home/jdowling/.local/lib/python3.9/site-packages (from boto3->hopsworks==3.1.0rc0) (0.10.0)\n",
      "Requirement already satisfied: s3transfer<0.6.0,>=0.5.0 in /home/jdowling/.local/lib/python3.9/site-packages (from boto3->hopsworks==3.1.0rc0) (0.5.0)\n",
      "Requirement already satisfied: botocore<1.24.0,>=1.23.24 in /home/jdowling/.local/lib/python3.9/site-packages (from boto3->hopsworks==3.1.0rc0) (1.23.24)\n",
      "Requirement already satisfied: orderedmultidict>=1.0.1 in /home/jdowling/.local/lib/python3.9/site-packages (from furl->hopsworks==3.1.0rc0) (1.0.1)\n",
      "Requirement already satisfied: requests-oauthlib>=0.7.0 in /home/jdowling/anaconda3/lib/python3.9/site-packages (from google-auth-oauthlib->gcsfs==2022.7.1->hsfs[python]~=3.1.0rc0->hopsworks==3.1.0rc0) (1.3.1)\n",
      "Requirement already satisfied: oauthlib>=3.0.0 in /home/jdowling/anaconda3/lib/python3.9/site-packages (from requests-oauthlib>=0.7.0->google-auth-oauthlib->gcsfs==2022.7.1->hsfs[python]~=3.1.0rc0->hopsworks==3.1.0rc0) (3.2.0)\n",
      "Requirement already satisfied: google-cloud-core<3.0dev,>=2.3.0 in /home/jdowling/anaconda3/lib/python3.9/site-packages (from google-cloud-storage->gcsfs==2022.7.1->hsfs[python]~=3.1.0rc0->hopsworks==3.1.0rc0) (2.3.2)\n",
      "Requirement already satisfied: google-api-core!=2.0.*,!=2.1.*,!=2.2.*,!=2.3.0,<3.0.0dev,>=1.31.5 in /home/jdowling/anaconda3/lib/python3.9/site-packages (from google-cloud-storage->gcsfs==2022.7.1->hsfs[python]~=3.1.0rc0->hopsworks==3.1.0rc0) (2.11.0)\n",
      "Requirement already satisfied: google-resumable-media>=2.3.2 in /home/jdowling/anaconda3/lib/python3.9/site-packages (from google-cloud-storage->gcsfs==2022.7.1->hsfs[python]~=3.1.0rc0->hopsworks==3.1.0rc0) (2.4.0)\n",
      "Requirement already satisfied: protobuf!=3.20.0,!=3.20.1,!=4.21.0,!=4.21.1,!=4.21.2,!=4.21.3,!=4.21.4,!=4.21.5,<5.0.0dev,>=3.19.5 in /home/jdowling/anaconda3/lib/python3.9/site-packages (from google-api-core!=2.0.*,!=2.1.*,!=2.2.*,!=2.3.0,<3.0.0dev,>=1.31.5->google-cloud-storage->gcsfs==2022.7.1->hsfs[python]~=3.1.0rc0->hopsworks==3.1.0rc0) (3.19.6)\n",
      "Requirement already satisfied: googleapis-common-protos<2.0dev,>=1.56.2 in /home/jdowling/anaconda3/lib/python3.9/site-packages (from google-api-core!=2.0.*,!=2.1.*,!=2.2.*,!=2.3.0,<3.0.0dev,>=1.31.5->google-cloud-storage->gcsfs==2022.7.1->hsfs[python]~=3.1.0rc0->hopsworks==3.1.0rc0) (1.58.0)\n",
      "Requirement already satisfied: google-crc32c<2.0dev,>=1.0 in /home/jdowling/anaconda3/lib/python3.9/site-packages (from google-resumable-media>=2.3.2->google-cloud-storage->gcsfs==2022.7.1->hsfs[python]~=3.1.0rc0->hopsworks==3.1.0rc0) (1.5.0)\n",
      "Requirement already satisfied: future in /home/jdowling/anaconda3/lib/python3.9/site-packages (from pyhopshive[thrift]->hsfs[python]~=3.1.0rc0->hopsworks==3.1.0rc0) (0.18.2)\n",
      "Requirement already satisfied: thrift>=0.10.0 in /home/jdowling/.local/lib/python3.9/site-packages (from pyhopshive[thrift]->hsfs[python]~=3.1.0rc0->hopsworks==3.1.0rc0) (0.16.0)\n",
      "Requirement already satisfied: pycryptodomex in /home/jdowling/.local/lib/python3.9/site-packages (from pyjks->hopsworks==3.1.0rc0) (3.12.0)\n",
      "Requirement already satisfied: javaobj-py3 in /home/jdowling/.local/lib/python3.9/site-packages (from pyjks->hopsworks==3.1.0rc0) (0.4.3)\n",
      "Requirement already satisfied: twofish in /home/jdowling/.local/lib/python3.9/site-packages (from pyjks->hopsworks==3.1.0rc0) (0.3.0)\n",
      "Requirement already satisfied: greenlet!=0.4.17 in /home/jdowling/.local/lib/python3.9/site-packages (from sqlalchemy->hsfs[python]~=3.1.0rc0->hopsworks==3.1.0rc0) (1.1.2)\n"
     ]
    }
   ],
   "source": [
    "#!pip uninstall hopsworks -y\n",
    "!pip install hopsworks==3.1.0rc0"
   ]
  },
  {
   "cell_type": "code",
   "execution_count": 48,
   "id": "9cb24c87",
   "metadata": {
    "_kg_hide-input": true,
    "execution": {
     "iopub.execute_input": "2023-01-31T14:11:35.164738Z",
     "iopub.status.busy": "2023-01-31T14:11:35.163899Z",
     "iopub.status.idle": "2023-01-31T14:11:44.332161Z",
     "shell.execute_reply": "2023-01-31T14:11:44.331116Z"
    },
    "papermill": {
     "duration": 9.198485,
     "end_time": "2023-01-31T14:11:44.334641",
     "exception": false,
     "start_time": "2023-01-31T14:11:35.136156",
     "status": "completed"
    },
    "tags": []
   },
   "outputs": [],
   "source": [
    "import pandas as pd\n",
    "import numpy as np\n",
    "\n",
    "pd.set_option('display.float', '{:.2f}'.format)\n",
    "pd.set_option('display.max_columns', 50)\n",
    "pd.set_option('display.max_rows', 50)"
   ]
  },
  {
   "cell_type": "code",
   "execution_count": 49,
   "id": "276d0ec7",
   "metadata": {
    "execution": {
     "iopub.execute_input": "2023-01-31T14:11:44.602805Z",
     "iopub.status.busy": "2023-01-31T14:11:44.602108Z",
     "iopub.status.idle": "2023-01-31T14:11:47.931616Z",
     "shell.execute_reply": "2023-01-31T14:11:47.930713Z"
    },
    "papermill": {
     "duration": 3.467387,
     "end_time": "2023-01-31T14:11:47.933929",
     "exception": false,
     "start_time": "2023-01-31T14:11:44.466542",
     "status": "completed"
    },
    "tags": []
   },
   "outputs": [
    {
     "data": {
      "text/html": [
       "<div>\n",
       "<style scoped>\n",
       "    .dataframe tbody tr th:only-of-type {\n",
       "        vertical-align: middle;\n",
       "    }\n",
       "\n",
       "    .dataframe tbody tr th {\n",
       "        vertical-align: top;\n",
       "    }\n",
       "\n",
       "    .dataframe thead th {\n",
       "        text-align: right;\n",
       "    }\n",
       "</style>\n",
       "<table border=\"1\" class=\"dataframe\">\n",
       "  <thead>\n",
       "    <tr style=\"text-align: right;\">\n",
       "      <th></th>\n",
       "      <th>loan_amnt</th>\n",
       "      <th>term</th>\n",
       "      <th>int_rate</th>\n",
       "      <th>installment</th>\n",
       "      <th>grade</th>\n",
       "      <th>sub_grade</th>\n",
       "      <th>emp_title</th>\n",
       "      <th>emp_length</th>\n",
       "      <th>home_ownership</th>\n",
       "      <th>annual_inc</th>\n",
       "      <th>verification_status</th>\n",
       "      <th>issue_d</th>\n",
       "      <th>loan_status</th>\n",
       "      <th>purpose</th>\n",
       "      <th>title</th>\n",
       "      <th>dti</th>\n",
       "      <th>earliest_cr_line</th>\n",
       "      <th>open_acc</th>\n",
       "      <th>pub_rec</th>\n",
       "      <th>revol_bal</th>\n",
       "      <th>revol_util</th>\n",
       "      <th>total_acc</th>\n",
       "      <th>initial_list_status</th>\n",
       "      <th>application_type</th>\n",
       "      <th>mort_acc</th>\n",
       "      <th>pub_rec_bankruptcies</th>\n",
       "      <th>address</th>\n",
       "    </tr>\n",
       "  </thead>\n",
       "  <tbody>\n",
       "    <tr>\n",
       "      <th>0</th>\n",
       "      <td>10000.00</td>\n",
       "      <td>36 months</td>\n",
       "      <td>11.44</td>\n",
       "      <td>329.48</td>\n",
       "      <td>B</td>\n",
       "      <td>B4</td>\n",
       "      <td>Marketing</td>\n",
       "      <td>10+ years</td>\n",
       "      <td>RENT</td>\n",
       "      <td>117000.00</td>\n",
       "      <td>Not Verified</td>\n",
       "      <td>Jan-2015</td>\n",
       "      <td>Fully Paid</td>\n",
       "      <td>vacation</td>\n",
       "      <td>Vacation</td>\n",
       "      <td>26.24</td>\n",
       "      <td>Jun-1990</td>\n",
       "      <td>16.00</td>\n",
       "      <td>0.00</td>\n",
       "      <td>36369.00</td>\n",
       "      <td>41.80</td>\n",
       "      <td>25.00</td>\n",
       "      <td>w</td>\n",
       "      <td>INDIVIDUAL</td>\n",
       "      <td>0.00</td>\n",
       "      <td>0.00</td>\n",
       "      <td>0174 Michelle Gateway\\r\\nMendozaberg, OK 22690</td>\n",
       "    </tr>\n",
       "    <tr>\n",
       "      <th>1</th>\n",
       "      <td>8000.00</td>\n",
       "      <td>36 months</td>\n",
       "      <td>11.99</td>\n",
       "      <td>265.68</td>\n",
       "      <td>B</td>\n",
       "      <td>B5</td>\n",
       "      <td>Credit analyst</td>\n",
       "      <td>4 years</td>\n",
       "      <td>MORTGAGE</td>\n",
       "      <td>65000.00</td>\n",
       "      <td>Not Verified</td>\n",
       "      <td>Jan-2015</td>\n",
       "      <td>Fully Paid</td>\n",
       "      <td>debt_consolidation</td>\n",
       "      <td>Debt consolidation</td>\n",
       "      <td>22.05</td>\n",
       "      <td>Jul-2004</td>\n",
       "      <td>17.00</td>\n",
       "      <td>0.00</td>\n",
       "      <td>20131.00</td>\n",
       "      <td>53.30</td>\n",
       "      <td>27.00</td>\n",
       "      <td>f</td>\n",
       "      <td>INDIVIDUAL</td>\n",
       "      <td>3.00</td>\n",
       "      <td>0.00</td>\n",
       "      <td>1076 Carney Fort Apt. 347\\r\\nLoganmouth, SD 05113</td>\n",
       "    </tr>\n",
       "    <tr>\n",
       "      <th>2</th>\n",
       "      <td>15600.00</td>\n",
       "      <td>36 months</td>\n",
       "      <td>10.49</td>\n",
       "      <td>506.97</td>\n",
       "      <td>B</td>\n",
       "      <td>B3</td>\n",
       "      <td>Statistician</td>\n",
       "      <td>&lt; 1 year</td>\n",
       "      <td>RENT</td>\n",
       "      <td>43057.00</td>\n",
       "      <td>Source Verified</td>\n",
       "      <td>Jan-2015</td>\n",
       "      <td>Fully Paid</td>\n",
       "      <td>credit_card</td>\n",
       "      <td>Credit card refinancing</td>\n",
       "      <td>12.79</td>\n",
       "      <td>Aug-2007</td>\n",
       "      <td>13.00</td>\n",
       "      <td>0.00</td>\n",
       "      <td>11987.00</td>\n",
       "      <td>92.20</td>\n",
       "      <td>26.00</td>\n",
       "      <td>f</td>\n",
       "      <td>INDIVIDUAL</td>\n",
       "      <td>0.00</td>\n",
       "      <td>0.00</td>\n",
       "      <td>87025 Mark Dale Apt. 269\\r\\nNew Sabrina, WV 05113</td>\n",
       "    </tr>\n",
       "    <tr>\n",
       "      <th>3</th>\n",
       "      <td>7200.00</td>\n",
       "      <td>36 months</td>\n",
       "      <td>6.49</td>\n",
       "      <td>220.65</td>\n",
       "      <td>A</td>\n",
       "      <td>A2</td>\n",
       "      <td>Client Advocate</td>\n",
       "      <td>6 years</td>\n",
       "      <td>RENT</td>\n",
       "      <td>54000.00</td>\n",
       "      <td>Not Verified</td>\n",
       "      <td>Nov-2014</td>\n",
       "      <td>Fully Paid</td>\n",
       "      <td>credit_card</td>\n",
       "      <td>Credit card refinancing</td>\n",
       "      <td>2.60</td>\n",
       "      <td>Sep-2006</td>\n",
       "      <td>6.00</td>\n",
       "      <td>0.00</td>\n",
       "      <td>5472.00</td>\n",
       "      <td>21.50</td>\n",
       "      <td>13.00</td>\n",
       "      <td>f</td>\n",
       "      <td>INDIVIDUAL</td>\n",
       "      <td>0.00</td>\n",
       "      <td>0.00</td>\n",
       "      <td>823 Reid Ford\\r\\nDelacruzside, MA 00813</td>\n",
       "    </tr>\n",
       "    <tr>\n",
       "      <th>4</th>\n",
       "      <td>24375.00</td>\n",
       "      <td>60 months</td>\n",
       "      <td>17.27</td>\n",
       "      <td>609.33</td>\n",
       "      <td>C</td>\n",
       "      <td>C5</td>\n",
       "      <td>Destiny Management Inc.</td>\n",
       "      <td>9 years</td>\n",
       "      <td>MORTGAGE</td>\n",
       "      <td>55000.00</td>\n",
       "      <td>Verified</td>\n",
       "      <td>Apr-2013</td>\n",
       "      <td>Charged Off</td>\n",
       "      <td>credit_card</td>\n",
       "      <td>Credit Card Refinance</td>\n",
       "      <td>33.95</td>\n",
       "      <td>Mar-1999</td>\n",
       "      <td>13.00</td>\n",
       "      <td>0.00</td>\n",
       "      <td>24584.00</td>\n",
       "      <td>69.80</td>\n",
       "      <td>43.00</td>\n",
       "      <td>f</td>\n",
       "      <td>INDIVIDUAL</td>\n",
       "      <td>1.00</td>\n",
       "      <td>0.00</td>\n",
       "      <td>679 Luna Roads\\r\\nGreggshire, VA 11650</td>\n",
       "    </tr>\n",
       "  </tbody>\n",
       "</table>\n",
       "</div>"
      ],
      "text/plain": [
       "   loan_amnt        term  int_rate  installment grade sub_grade  \\\n",
       "0   10000.00   36 months     11.44       329.48     B        B4   \n",
       "1    8000.00   36 months     11.99       265.68     B        B5   \n",
       "2   15600.00   36 months     10.49       506.97     B        B3   \n",
       "3    7200.00   36 months      6.49       220.65     A        A2   \n",
       "4   24375.00   60 months     17.27       609.33     C        C5   \n",
       "\n",
       "                 emp_title emp_length home_ownership  annual_inc  \\\n",
       "0                Marketing  10+ years           RENT   117000.00   \n",
       "1          Credit analyst     4 years       MORTGAGE    65000.00   \n",
       "2             Statistician   < 1 year           RENT    43057.00   \n",
       "3          Client Advocate    6 years           RENT    54000.00   \n",
       "4  Destiny Management Inc.    9 years       MORTGAGE    55000.00   \n",
       "\n",
       "  verification_status   issue_d  loan_status             purpose  \\\n",
       "0        Not Verified  Jan-2015   Fully Paid            vacation   \n",
       "1        Not Verified  Jan-2015   Fully Paid  debt_consolidation   \n",
       "2     Source Verified  Jan-2015   Fully Paid         credit_card   \n",
       "3        Not Verified  Nov-2014   Fully Paid         credit_card   \n",
       "4            Verified  Apr-2013  Charged Off         credit_card   \n",
       "\n",
       "                     title   dti earliest_cr_line  open_acc  pub_rec  \\\n",
       "0                 Vacation 26.24         Jun-1990     16.00     0.00   \n",
       "1       Debt consolidation 22.05         Jul-2004     17.00     0.00   \n",
       "2  Credit card refinancing 12.79         Aug-2007     13.00     0.00   \n",
       "3  Credit card refinancing  2.60         Sep-2006      6.00     0.00   \n",
       "4    Credit Card Refinance 33.95         Mar-1999     13.00     0.00   \n",
       "\n",
       "   revol_bal  revol_util  total_acc initial_list_status application_type  \\\n",
       "0   36369.00       41.80      25.00                   w       INDIVIDUAL   \n",
       "1   20131.00       53.30      27.00                   f       INDIVIDUAL   \n",
       "2   11987.00       92.20      26.00                   f       INDIVIDUAL   \n",
       "3    5472.00       21.50      13.00                   f       INDIVIDUAL   \n",
       "4   24584.00       69.80      43.00                   f       INDIVIDUAL   \n",
       "\n",
       "   mort_acc  pub_rec_bankruptcies  \\\n",
       "0      0.00                  0.00   \n",
       "1      3.00                  0.00   \n",
       "2      0.00                  0.00   \n",
       "3      0.00                  0.00   \n",
       "4      1.00                  0.00   \n",
       "\n",
       "                                             address  \n",
       "0     0174 Michelle Gateway\\r\\nMendozaberg, OK 22690  \n",
       "1  1076 Carney Fort Apt. 347\\r\\nLoganmouth, SD 05113  \n",
       "2  87025 Mark Dale Apt. 269\\r\\nNew Sabrina, WV 05113  \n",
       "3            823 Reid Ford\\r\\nDelacruzside, MA 00813  \n",
       "4             679 Luna Roads\\r\\nGreggshire, VA 11650  "
      ]
     },
     "execution_count": 49,
     "metadata": {},
     "output_type": "execute_result"
    }
   ],
   "source": [
    "data = pd.read_csv(\"https://repo.hops.works/dev/jdowling/lending_club_loan_two.csv\")\n",
    "data.head()"
   ]
  },
  {
   "cell_type": "code",
   "execution_count": 4,
   "id": "d0def3d9",
   "metadata": {
    "execution": {
     "iopub.execute_input": "2023-01-31T14:11:48.208667Z",
     "iopub.status.busy": "2023-01-31T14:11:48.208157Z",
     "iopub.status.idle": "2023-01-31T14:11:48.428818Z",
     "shell.execute_reply": "2023-01-31T14:11:48.427863Z"
    },
    "papermill": {
     "duration": 0.360858,
     "end_time": "2023-01-31T14:11:48.431029",
     "exception": false,
     "start_time": "2023-01-31T14:11:48.070171",
     "status": "completed"
    },
    "tags": []
   },
   "outputs": [
    {
     "data": {
      "text/html": [
       "<div>\n",
       "<style scoped>\n",
       "    .dataframe tbody tr th:only-of-type {\n",
       "        vertical-align: middle;\n",
       "    }\n",
       "\n",
       "    .dataframe tbody tr th {\n",
       "        vertical-align: top;\n",
       "    }\n",
       "\n",
       "    .dataframe thead th {\n",
       "        text-align: right;\n",
       "    }\n",
       "</style>\n",
       "<table border=\"1\" class=\"dataframe\">\n",
       "  <thead>\n",
       "    <tr style=\"text-align: right;\">\n",
       "      <th></th>\n",
       "      <th>loan_amnt</th>\n",
       "      <th>int_rate</th>\n",
       "      <th>installment</th>\n",
       "      <th>annual_inc</th>\n",
       "      <th>dti</th>\n",
       "      <th>open_acc</th>\n",
       "      <th>pub_rec</th>\n",
       "      <th>revol_bal</th>\n",
       "      <th>revol_util</th>\n",
       "      <th>total_acc</th>\n",
       "      <th>mort_acc</th>\n",
       "      <th>pub_rec_bankruptcies</th>\n",
       "    </tr>\n",
       "  </thead>\n",
       "  <tbody>\n",
       "    <tr>\n",
       "      <th>count</th>\n",
       "      <td>396030.00</td>\n",
       "      <td>396030.00</td>\n",
       "      <td>396030.00</td>\n",
       "      <td>396030.00</td>\n",
       "      <td>396030.00</td>\n",
       "      <td>396030.00</td>\n",
       "      <td>396030.00</td>\n",
       "      <td>396030.00</td>\n",
       "      <td>395754.00</td>\n",
       "      <td>396030.00</td>\n",
       "      <td>358235.00</td>\n",
       "      <td>395495.00</td>\n",
       "    </tr>\n",
       "    <tr>\n",
       "      <th>mean</th>\n",
       "      <td>14113.89</td>\n",
       "      <td>13.64</td>\n",
       "      <td>431.85</td>\n",
       "      <td>74203.18</td>\n",
       "      <td>17.38</td>\n",
       "      <td>11.31</td>\n",
       "      <td>0.18</td>\n",
       "      <td>15844.54</td>\n",
       "      <td>53.79</td>\n",
       "      <td>25.41</td>\n",
       "      <td>1.81</td>\n",
       "      <td>0.12</td>\n",
       "    </tr>\n",
       "    <tr>\n",
       "      <th>std</th>\n",
       "      <td>8357.44</td>\n",
       "      <td>4.47</td>\n",
       "      <td>250.73</td>\n",
       "      <td>61637.62</td>\n",
       "      <td>18.02</td>\n",
       "      <td>5.14</td>\n",
       "      <td>0.53</td>\n",
       "      <td>20591.84</td>\n",
       "      <td>24.45</td>\n",
       "      <td>11.89</td>\n",
       "      <td>2.15</td>\n",
       "      <td>0.36</td>\n",
       "    </tr>\n",
       "    <tr>\n",
       "      <th>min</th>\n",
       "      <td>500.00</td>\n",
       "      <td>5.32</td>\n",
       "      <td>16.08</td>\n",
       "      <td>0.00</td>\n",
       "      <td>0.00</td>\n",
       "      <td>0.00</td>\n",
       "      <td>0.00</td>\n",
       "      <td>0.00</td>\n",
       "      <td>0.00</td>\n",
       "      <td>2.00</td>\n",
       "      <td>0.00</td>\n",
       "      <td>0.00</td>\n",
       "    </tr>\n",
       "    <tr>\n",
       "      <th>25%</th>\n",
       "      <td>8000.00</td>\n",
       "      <td>10.49</td>\n",
       "      <td>250.33</td>\n",
       "      <td>45000.00</td>\n",
       "      <td>11.28</td>\n",
       "      <td>8.00</td>\n",
       "      <td>0.00</td>\n",
       "      <td>6025.00</td>\n",
       "      <td>35.80</td>\n",
       "      <td>17.00</td>\n",
       "      <td>0.00</td>\n",
       "      <td>0.00</td>\n",
       "    </tr>\n",
       "    <tr>\n",
       "      <th>50%</th>\n",
       "      <td>12000.00</td>\n",
       "      <td>13.33</td>\n",
       "      <td>375.43</td>\n",
       "      <td>64000.00</td>\n",
       "      <td>16.91</td>\n",
       "      <td>10.00</td>\n",
       "      <td>0.00</td>\n",
       "      <td>11181.00</td>\n",
       "      <td>54.80</td>\n",
       "      <td>24.00</td>\n",
       "      <td>1.00</td>\n",
       "      <td>0.00</td>\n",
       "    </tr>\n",
       "    <tr>\n",
       "      <th>75%</th>\n",
       "      <td>20000.00</td>\n",
       "      <td>16.49</td>\n",
       "      <td>567.30</td>\n",
       "      <td>90000.00</td>\n",
       "      <td>22.98</td>\n",
       "      <td>14.00</td>\n",
       "      <td>0.00</td>\n",
       "      <td>19620.00</td>\n",
       "      <td>72.90</td>\n",
       "      <td>32.00</td>\n",
       "      <td>3.00</td>\n",
       "      <td>0.00</td>\n",
       "    </tr>\n",
       "    <tr>\n",
       "      <th>max</th>\n",
       "      <td>40000.00</td>\n",
       "      <td>30.99</td>\n",
       "      <td>1533.81</td>\n",
       "      <td>8706582.00</td>\n",
       "      <td>9999.00</td>\n",
       "      <td>90.00</td>\n",
       "      <td>86.00</td>\n",
       "      <td>1743266.00</td>\n",
       "      <td>892.30</td>\n",
       "      <td>151.00</td>\n",
       "      <td>34.00</td>\n",
       "      <td>8.00</td>\n",
       "    </tr>\n",
       "  </tbody>\n",
       "</table>\n",
       "</div>"
      ],
      "text/plain": [
       "       loan_amnt  int_rate  installment  annual_inc       dti  open_acc  \\\n",
       "count  396030.00 396030.00    396030.00   396030.00 396030.00 396030.00   \n",
       "mean    14113.89     13.64       431.85    74203.18     17.38     11.31   \n",
       "std      8357.44      4.47       250.73    61637.62     18.02      5.14   \n",
       "min       500.00      5.32        16.08        0.00      0.00      0.00   \n",
       "25%      8000.00     10.49       250.33    45000.00     11.28      8.00   \n",
       "50%     12000.00     13.33       375.43    64000.00     16.91     10.00   \n",
       "75%     20000.00     16.49       567.30    90000.00     22.98     14.00   \n",
       "max     40000.00     30.99      1533.81  8706582.00   9999.00     90.00   \n",
       "\n",
       "        pub_rec  revol_bal  revol_util  total_acc  mort_acc  \\\n",
       "count 396030.00  396030.00   395754.00  396030.00 358235.00   \n",
       "mean       0.18   15844.54       53.79      25.41      1.81   \n",
       "std        0.53   20591.84       24.45      11.89      2.15   \n",
       "min        0.00       0.00        0.00       2.00      0.00   \n",
       "25%        0.00    6025.00       35.80      17.00      0.00   \n",
       "50%        0.00   11181.00       54.80      24.00      1.00   \n",
       "75%        0.00   19620.00       72.90      32.00      3.00   \n",
       "max       86.00 1743266.00      892.30     151.00     34.00   \n",
       "\n",
       "       pub_rec_bankruptcies  \n",
       "count             395495.00  \n",
       "mean                   0.12  \n",
       "std                    0.36  \n",
       "min                    0.00  \n",
       "25%                    0.00  \n",
       "50%                    0.00  \n",
       "75%                    0.00  \n",
       "max                    8.00  "
      ]
     },
     "execution_count": 4,
     "metadata": {},
     "output_type": "execute_result"
    }
   ],
   "source": [
    "data.describe()"
   ]
  },
  {
   "cell_type": "markdown",
   "id": "e9e603b3",
   "metadata": {
    "papermill": {
     "duration": 0.140599,
     "end_time": "2023-01-31T14:11:48.703332",
     "exception": false,
     "start_time": "2023-01-31T14:11:48.562733",
     "status": "completed"
    },
    "tags": []
   },
   "source": [
    "# 🔍 Exploratory Data Analysis\n",
    "\n",
    "> **OVERALL GOAL:** \n",
    "> - Get an understanding for which variables are important, view summary statistics, and visualize the data"
   ]
  },
  {
   "cell_type": "code",
   "execution_count": 5,
   "id": "c3a25541",
   "metadata": {
    "execution": {
     "iopub.execute_input": "2023-01-31T14:11:48.971332Z",
     "iopub.status.busy": "2023-01-31T14:11:48.970869Z",
     "iopub.status.idle": "2023-01-31T14:11:49.178902Z",
     "shell.execute_reply": "2023-01-31T14:11:49.177821Z"
    },
    "papermill": {
     "duration": 0.345476,
     "end_time": "2023-01-31T14:11:49.181182",
     "exception": false,
     "start_time": "2023-01-31T14:11:48.835706",
     "status": "completed"
    },
    "tags": []
   },
   "outputs": [
    {
     "name": "stdout",
     "output_type": "stream",
     "text": [
      "<class 'pandas.core.frame.DataFrame'>\n",
      "RangeIndex: 396030 entries, 0 to 396029\n",
      "Data columns (total 27 columns):\n",
      " #   Column                Non-Null Count   Dtype  \n",
      "---  ------                --------------   -----  \n",
      " 0   loan_amnt             396030 non-null  float64\n",
      " 1   term                  396030 non-null  object \n",
      " 2   int_rate              396030 non-null  float64\n",
      " 3   installment           396030 non-null  float64\n",
      " 4   grade                 396030 non-null  object \n",
      " 5   sub_grade             396030 non-null  object \n",
      " 6   emp_title             373103 non-null  object \n",
      " 7   emp_length            377729 non-null  object \n",
      " 8   home_ownership        396030 non-null  object \n",
      " 9   annual_inc            396030 non-null  float64\n",
      " 10  verification_status   396030 non-null  object \n",
      " 11  issue_d               396030 non-null  object \n",
      " 12  loan_status           396030 non-null  object \n",
      " 13  purpose               396030 non-null  object \n",
      " 14  title                 394275 non-null  object \n",
      " 15  dti                   396030 non-null  float64\n",
      " 16  earliest_cr_line      396030 non-null  object \n",
      " 17  open_acc              396030 non-null  float64\n",
      " 18  pub_rec               396030 non-null  float64\n",
      " 19  revol_bal             396030 non-null  float64\n",
      " 20  revol_util            395754 non-null  float64\n",
      " 21  total_acc             396030 non-null  float64\n",
      " 22  initial_list_status   396030 non-null  object \n",
      " 23  application_type      396030 non-null  object \n",
      " 24  mort_acc              358235 non-null  float64\n",
      " 25  pub_rec_bankruptcies  395495 non-null  float64\n",
      " 26  address               396030 non-null  object \n",
      "dtypes: float64(12), object(15)\n",
      "memory usage: 81.6+ MB\n"
     ]
    }
   ],
   "source": [
    "data.info()"
   ]
  },
  {
   "cell_type": "code",
   "execution_count": 6,
   "id": "74bf2b1e",
   "metadata": {
    "execution": {
     "iopub.execute_input": "2023-01-31T14:12:06.335754Z",
     "iopub.status.busy": "2023-01-31T14:12:06.334576Z",
     "iopub.status.idle": "2023-01-31T14:12:06.424596Z",
     "shell.execute_reply": "2023-01-31T14:12:06.423659Z"
    },
    "papermill": {
     "duration": 0.240425,
     "end_time": "2023-01-31T14:12:06.426982",
     "exception": false,
     "start_time": "2023-01-31T14:12:06.186557",
     "status": "completed"
    },
    "tags": []
   },
   "outputs": [
    {
     "data": {
      "text/plain": [
       "MORTGAGE    198348\n",
       "RENT        159790\n",
       "OWN          37746\n",
       "OTHER          146\n",
       "Name: home_ownership, dtype: int64"
      ]
     },
     "execution_count": 6,
     "metadata": {},
     "output_type": "execute_result"
    }
   ],
   "source": [
    "from features import loans\n",
    "\n",
    "#data = loans.home_ownership(data)\n",
    "data['home_ownership'] = data.home_ownership.apply(loans.home_ownership_udf)\n",
    "data.home_ownership.value_counts()"
   ]
  },
  {
   "cell_type": "code",
   "execution_count": 7,
   "id": "b2ed0e02",
   "metadata": {
    "execution": {
     "iopub.execute_input": "2023-01-31T14:12:09.290990Z",
     "iopub.status.busy": "2023-01-31T14:12:09.290604Z",
     "iopub.status.idle": "2023-01-31T14:12:09.320869Z",
     "shell.execute_reply": "2023-01-31T14:12:09.319562Z"
    },
    "papermill": {
     "duration": 0.177802,
     "end_time": "2023-01-31T14:12:09.322848",
     "exception": false,
     "start_time": "2023-01-31T14:12:09.145046",
     "status": "completed"
    },
    "tags": []
   },
   "outputs": [
    {
     "data": {
      "text/plain": [
       "Fully Paid     123\n",
       "Charged Off     23\n",
       "Name: loan_status, dtype: int64"
      ]
     },
     "execution_count": 7,
     "metadata": {},
     "output_type": "execute_result"
    }
   ],
   "source": [
    "data.loc[data['home_ownership']=='OTHER', 'loan_status'].value_counts()"
   ]
  },
  {
   "cell_type": "code",
   "execution_count": 8,
   "id": "095cd7fe",
   "metadata": {
    "execution": {
     "iopub.execute_input": "2023-01-31T14:12:16.815316Z",
     "iopub.status.busy": "2023-01-31T14:12:16.814929Z",
     "iopub.status.idle": "2023-01-31T14:12:17.095807Z",
     "shell.execute_reply": "2023-01-31T14:12:17.094774Z"
    },
    "papermill": {
     "duration": 0.429455,
     "end_time": "2023-01-31T14:12:17.098362",
     "exception": false,
     "start_time": "2023-01-31T14:12:16.668907",
     "status": "completed"
    },
    "tags": []
   },
   "outputs": [],
   "source": [
    "data['issue_d'] = pd.to_datetime(data['issue_d'])\n",
    "data['earliest_cr_line'] = pd.to_datetime(data['earliest_cr_line'])"
   ]
  },
  {
   "cell_type": "code",
   "execution_count": 9,
   "id": "3a66e89b",
   "metadata": {
    "execution": {
     "iopub.execute_input": "2023-01-31T14:12:18.863079Z",
     "iopub.status.busy": "2023-01-31T14:12:18.862171Z",
     "iopub.status.idle": "2023-01-31T14:12:18.972847Z",
     "shell.execute_reply": "2023-01-31T14:12:18.971833Z"
    },
    "papermill": {
     "duration": 0.265544,
     "end_time": "2023-01-31T14:12:18.975299",
     "exception": false,
     "start_time": "2023-01-31T14:12:18.709755",
     "status": "completed"
    },
    "tags": []
   },
   "outputs": [],
   "source": [
    "data['title'] = data.title.str.lower()"
   ]
  },
  {
   "cell_type": "markdown",
   "id": "f40aecae",
   "metadata": {
    "papermill": {
     "duration": 0.216382,
     "end_time": "2023-01-31T14:12:19.753202",
     "exception": false,
     "start_time": "2023-01-31T14:12:19.536820",
     "status": "completed"
    },
    "tags": []
   },
   "source": [
    "`title` will be removed because we have the `purpose` column with is generated from it."
   ]
  },
  {
   "cell_type": "markdown",
   "id": "9d1bac3f",
   "metadata": {
    "papermill": {
     "duration": 0.151301,
     "end_time": "2023-01-31T14:12:20.118090",
     "exception": false,
     "start_time": "2023-01-31T14:12:19.966789",
     "status": "completed"
    },
    "tags": []
   },
   "source": [
    "## ✔️ `dti`, `open_acc`, `revol_bal`, `revol_util`, & `total_acc`\n",
    "\n",
    "> - `dti`: A ratio calculated using the borrower’s total monthly debt payments on the total debt obligations, excluding mortgage and the requested LC loan, divided by the borrower’s self-reported monthly income.\n",
    "> - `open_acc`: The number of open credit lines in the borrower's credit file.\n",
    "> - `revol_bal`: Total credit revolving balance\n",
    "> - `revol_util`: Revolving line utilization rate, or the amount of credit the borrower is using relative to all available revolving credit.\n",
    "> - `total_acc`: The total number of credit lines currently in the borrower's credit file"
   ]
  },
  {
   "cell_type": "code",
   "execution_count": 10,
   "id": "53a5c4a7",
   "metadata": {
    "execution": {
     "iopub.execute_input": "2023-01-31T14:12:32.338934Z",
     "iopub.status.busy": "2023-01-31T14:12:32.338562Z",
     "iopub.status.idle": "2023-01-31T14:12:32.817616Z",
     "shell.execute_reply": "2023-01-31T14:12:32.816627Z"
    },
    "papermill": {
     "duration": 0.636201,
     "end_time": "2023-01-31T14:12:32.820041",
     "exception": false,
     "start_time": "2023-01-31T14:12:32.183840",
     "status": "completed"
    },
    "tags": []
   },
   "outputs": [],
   "source": [
    "data['pub_rec'] = data.pub_rec.apply(loans.pub_rec)\n",
    "data['mort_acc'] = data.mort_acc.apply(loans.mort_acc)\n",
    "data['pub_rec_bankruptcies'] = data.pub_rec_bankruptcies.apply(loans.pub_rec_bankruptcies)"
   ]
  },
  {
   "cell_type": "code",
   "execution_count": 11,
   "id": "e82164d0",
   "metadata": {
    "execution": {
     "iopub.execute_input": "2023-01-31T14:12:35.503660Z",
     "iopub.status.busy": "2023-01-31T14:12:35.503227Z",
     "iopub.status.idle": "2023-01-31T14:12:35.628647Z",
     "shell.execute_reply": "2023-01-31T14:12:35.627514Z"
    },
    "papermill": {
     "duration": 0.30106,
     "end_time": "2023-01-31T14:12:35.631447",
     "exception": false,
     "start_time": "2023-01-31T14:12:35.330387",
     "status": "completed"
    },
    "tags": []
   },
   "outputs": [],
   "source": [
    "#TRAINING PIPELINE\n",
    "#data['loan_status'] = data.loan_status.map({'Fully Paid':1, 'Charged Off':0})"
   ]
  },
  {
   "cell_type": "markdown",
   "id": "53a9fa45",
   "metadata": {
    "papermill": {
     "duration": 0.163815,
     "end_time": "2023-01-31T14:12:36.630398",
     "exception": false,
     "start_time": "2023-01-31T14:12:36.466583",
     "status": "completed"
    },
    "tags": []
   },
   "source": [
    "****\n",
    "## Conclusion:\n",
    "\n",
    "We notice that, there are broadly three types of features: \n",
    "- 1. Features related to the applicant (demographic variables such as occupation, employment details etc.), \n",
    "- 2. Features related to loan characteristics (amount of loan, interest rate, purpose of loan etc.) \n",
    "****"
   ]
  },
  {
   "cell_type": "markdown",
   "id": "db8b8b6c",
   "metadata": {
    "papermill": {
     "duration": 0.162622,
     "end_time": "2023-01-31T14:12:36.953142",
     "exception": false,
     "start_time": "2023-01-31T14:12:36.790520",
     "status": "completed"
    },
    "tags": []
   },
   "source": [
    "# Outliers Detection and Removing"
   ]
  },
  {
   "cell_type": "code",
   "execution_count": 12,
   "id": "0abe8b1b",
   "metadata": {
    "execution": {
     "iopub.execute_input": "2023-01-31T14:12:37.264848Z",
     "iopub.status.busy": "2023-01-31T14:12:37.264453Z",
     "iopub.status.idle": "2023-01-31T14:12:37.269065Z",
     "shell.execute_reply": "2023-01-31T14:12:37.268062Z"
    },
    "papermill": {
     "duration": 0.162094,
     "end_time": "2023-01-31T14:12:37.271137",
     "exception": false,
     "start_time": "2023-01-31T14:12:37.109043",
     "status": "completed"
    },
    "tags": []
   },
   "outputs": [],
   "source": [
    "## We need to remove outliers found in the analysis"
   ]
  },
  {
   "cell_type": "markdown",
   "id": "0174e794",
   "metadata": {
    "papermill": {
     "duration": 0.152855,
     "end_time": "2023-01-31T14:12:37.578196",
     "exception": false,
     "start_time": "2023-01-31T14:12:37.425341",
     "status": "completed"
    },
    "tags": []
   },
   "source": [
    "# 🔄 Data PreProcessing\n",
    "\n",
    "**Section Goals:** \n",
    "> - Remove or fill any missing data. \n",
    "> - Remove unnecessary or repetitive features. \n",
    "> - Convert categorical string features to dummy variables."
   ]
  },
  {
   "cell_type": "code",
   "execution_count": 13,
   "id": "a3f7b968",
   "metadata": {
    "execution": {
     "iopub.execute_input": "2023-01-31T14:12:37.891616Z",
     "iopub.status.busy": "2023-01-31T14:12:37.891224Z",
     "iopub.status.idle": "2023-01-31T14:12:37.896477Z",
     "shell.execute_reply": "2023-01-31T14:12:37.895493Z"
    },
    "papermill": {
     "duration": 0.166246,
     "end_time": "2023-01-31T14:12:37.899194",
     "exception": false,
     "start_time": "2023-01-31T14:12:37.732948",
     "status": "completed"
    },
    "tags": []
   },
   "outputs": [
    {
     "name": "stdout",
     "output_type": "stream",
     "text": [
      "The Length of the data: (396030, 27)\n"
     ]
    }
   ],
   "source": [
    "# The length of the data\n",
    "print(f\"The Length of the data: {data.shape}\")"
   ]
  },
  {
   "cell_type": "code",
   "execution_count": 14,
   "id": "3a5120f0",
   "metadata": {
    "execution": {
     "iopub.execute_input": "2023-01-31T14:12:38.208077Z",
     "iopub.status.busy": "2023-01-31T14:12:38.207044Z",
     "iopub.status.idle": "2023-01-31T14:12:38.418885Z",
     "shell.execute_reply": "2023-01-31T14:12:38.417592Z"
    },
    "papermill": {
     "duration": 0.369849,
     "end_time": "2023-01-31T14:12:38.421013",
     "exception": false,
     "start_time": "2023-01-31T14:12:38.051164",
     "status": "completed"
    },
    "tags": []
   },
   "outputs": [
    {
     "name": "stdout",
     "output_type": "stream",
     "text": [
      "'emp_title': number of missing values '22927' ==> '5.789%'\n",
      "'emp_length': number of missing values '18301' ==> '4.621%'\n",
      "'title': number of missing values '1755' ==> '0.443%'\n",
      "'revol_util': number of missing values '276' ==> '0.070%'\n",
      "'mort_acc': number of missing values '37795' ==> '9.543%'\n",
      "'pub_rec_bankruptcies': number of missing values '535' ==> '0.135%'\n"
     ]
    }
   ],
   "source": [
    "# Missing values\n",
    "for column in data.columns:\n",
    "    if data[column].isna().sum() != 0:\n",
    "        missing = data[column].isna().sum()\n",
    "        portion = (missing / data.shape[0]) * 100\n",
    "        print(f\"'{column}': number of missing values '{missing}' ==> '{portion:.3f}%'\")"
   ]
  },
  {
   "cell_type": "markdown",
   "id": "74d3e2a5",
   "metadata": {
    "papermill": {
     "duration": 0.153798,
     "end_time": "2023-01-31T14:12:39.419636",
     "exception": false,
     "start_time": "2023-01-31T14:12:39.265838",
     "status": "completed"
    },
    "tags": []
   },
   "source": [
    "Realistically there are too many unique job titles to try to convert this to a dummy variable feature. Let's remove that emp_title column."
   ]
  },
  {
   "cell_type": "code",
   "execution_count": 15,
   "id": "4e69498c",
   "metadata": {
    "execution": {
     "iopub.execute_input": "2023-01-31T14:12:39.733271Z",
     "iopub.status.busy": "2023-01-31T14:12:39.732764Z",
     "iopub.status.idle": "2023-01-31T14:12:39.823678Z",
     "shell.execute_reply": "2023-01-31T14:12:39.822304Z"
    },
    "papermill": {
     "duration": 0.253402,
     "end_time": "2023-01-31T14:12:39.826253",
     "exception": false,
     "start_time": "2023-01-31T14:12:39.572851",
     "status": "completed"
    },
    "tags": []
   },
   "outputs": [],
   "source": [
    "data.drop('emp_title', axis=1, inplace=True)"
   ]
  },
  {
   "cell_type": "markdown",
   "id": "f1ad195b",
   "metadata": {
    "papermill": {
     "duration": 0.241511,
     "end_time": "2023-01-31T14:12:41.814332",
     "exception": false,
     "start_time": "2023-01-31T14:12:41.572821",
     "status": "completed"
    },
    "tags": []
   },
   "source": [
    "Charge off rates are extremely similar across all employment lengths. So we are going to drop the `emp_length` column."
   ]
  },
  {
   "cell_type": "code",
   "execution_count": 16,
   "id": "08cd74d5",
   "metadata": {
    "execution": {
     "iopub.execute_input": "2023-01-31T14:12:42.216196Z",
     "iopub.status.busy": "2023-01-31T14:12:42.214985Z",
     "iopub.status.idle": "2023-01-31T14:12:42.301892Z",
     "shell.execute_reply": "2023-01-31T14:12:42.300870Z"
    },
    "papermill": {
     "duration": 0.253314,
     "end_time": "2023-01-31T14:12:42.304445",
     "exception": false,
     "start_time": "2023-01-31T14:12:42.051131",
     "status": "completed"
    },
    "tags": []
   },
   "outputs": [],
   "source": [
    "data.drop('emp_length', axis=1, inplace=True)"
   ]
  },
  {
   "cell_type": "markdown",
   "id": "a946b370",
   "metadata": {
    "papermill": {
     "duration": 0.154896,
     "end_time": "2023-01-31T14:12:43.642185",
     "exception": false,
     "start_time": "2023-01-31T14:12:43.487289",
     "status": "completed"
    },
    "tags": []
   },
   "source": [
    "The title column is simply a string subcategory/description of the purpose column. So we are going to drop the title column."
   ]
  },
  {
   "cell_type": "code",
   "execution_count": 17,
   "id": "87222d20",
   "metadata": {
    "execution": {
     "iopub.execute_input": "2023-01-31T14:12:43.955316Z",
     "iopub.status.busy": "2023-01-31T14:12:43.954293Z",
     "iopub.status.idle": "2023-01-31T14:12:44.029021Z",
     "shell.execute_reply": "2023-01-31T14:12:44.027978Z"
    },
    "papermill": {
     "duration": 0.232715,
     "end_time": "2023-01-31T14:12:44.031617",
     "exception": false,
     "start_time": "2023-01-31T14:12:43.798902",
     "status": "completed"
    },
    "tags": []
   },
   "outputs": [],
   "source": [
    "data.drop('title', axis=1, inplace=True)"
   ]
  },
  {
   "cell_type": "markdown",
   "id": "00fca018",
   "metadata": {
    "papermill": {
     "duration": 0.154279,
     "end_time": "2023-01-31T14:12:44.341279",
     "exception": false,
     "start_time": "2023-01-31T14:12:44.187000",
     "status": "completed"
    },
    "tags": []
   },
   "source": [
    "### `mort_acc`\n",
    "\n",
    "There are many ways we could deal with this missing data. We could attempt to build a simple model to fill it in, such as a linear model, we could just fill it in based on the mean of the other columns, or you could even bin the columns into categories and then set NaN as its own category. There is no 100% correct approach! "
   ]
  },
  {
   "cell_type": "markdown",
   "id": "be604f1e",
   "metadata": {
    "papermill": {
     "duration": 0.157466,
     "end_time": "2023-01-31T14:12:45.923922",
     "exception": false,
     "start_time": "2023-01-31T14:12:45.766456",
     "status": "completed"
    },
    "tags": []
   },
   "source": [
    "Let's try the fillna() approach. We will group the dataframe by the total_acc and calculate the mean value for the mort_acc per total_acc entry. To get the result below:"
   ]
  },
  {
   "cell_type": "code",
   "execution_count": 18,
   "id": "655aa19d",
   "metadata": {
    "execution": {
     "iopub.execute_input": "2023-01-31T14:12:46.237863Z",
     "iopub.status.busy": "2023-01-31T14:12:46.237469Z",
     "iopub.status.idle": "2023-01-31T14:12:46.332340Z",
     "shell.execute_reply": "2023-01-31T14:12:46.331345Z"
    },
    "papermill": {
     "duration": 0.253754,
     "end_time": "2023-01-31T14:12:46.335011",
     "exception": false,
     "start_time": "2023-01-31T14:12:46.081257",
     "status": "completed"
    },
    "tags": []
   },
   "outputs": [],
   "source": [
    "total_acc_avg = data.groupby(by='total_acc').mean().mort_acc"
   ]
  },
  {
   "cell_type": "code",
   "execution_count": 19,
   "id": "75bb4c76",
   "metadata": {
    "execution": {
     "iopub.execute_input": "2023-01-31T14:12:46.991455Z",
     "iopub.status.busy": "2023-01-31T14:12:46.990863Z",
     "iopub.status.idle": "2023-01-31T14:12:57.341490Z",
     "shell.execute_reply": "2023-01-31T14:12:57.340452Z"
    },
    "papermill": {
     "duration": 10.520365,
     "end_time": "2023-01-31T14:12:57.343915",
     "exception": false,
     "start_time": "2023-01-31T14:12:46.823550",
     "status": "completed"
    },
    "tags": []
   },
   "outputs": [],
   "source": [
    "data['mort_acc'] = data.apply(lambda x: loans.fill_mort_acc(x['total_acc'], x['mort_acc'], total_acc_avg), axis=1)"
   ]
  },
  {
   "cell_type": "markdown",
   "id": "bffb4178",
   "metadata": {
    "papermill": {
     "duration": 0.156009,
     "end_time": "2023-01-31T14:12:57.656526",
     "exception": false,
     "start_time": "2023-01-31T14:12:57.500517",
     "status": "completed"
    },
    "tags": []
   },
   "source": [
    "### `revol_util` & `pub_rec_bankruptcies`\n",
    "These two features have missing data points, but they account for less than 0.5% of the total data. So we are going to remove the rows that are missing those values in those columns with dropna()."
   ]
  },
  {
   "cell_type": "code",
   "execution_count": 20,
   "id": "4752a829",
   "metadata": {
    "execution": {
     "iopub.execute_input": "2023-01-31T14:12:57.973866Z",
     "iopub.status.busy": "2023-01-31T14:12:57.973485Z",
     "iopub.status.idle": "2023-01-31T14:12:58.107244Z",
     "shell.execute_reply": "2023-01-31T14:12:58.106190Z"
    },
    "papermill": {
     "duration": 0.2977,
     "end_time": "2023-01-31T14:12:58.109603",
     "exception": false,
     "start_time": "2023-01-31T14:12:57.811903",
     "status": "completed"
    },
    "tags": []
   },
   "outputs": [
    {
     "name": "stdout",
     "output_type": "stream",
     "text": [
      "'revol_util': number of missing values '276' ==> '0.070%'\n",
      "'pub_rec_bankruptcies': number of missing values '535' ==> '0.135%'\n"
     ]
    }
   ],
   "source": [
    "for column in data.columns:\n",
    "    if data[column].isna().sum() != 0:\n",
    "        missing = data[column].isna().sum()\n",
    "        portion = (missing / data.shape[0]) * 100\n",
    "        print(f\"'{column}': number of missing values '{missing}' ==> '{portion:.3f}%'\")"
   ]
  },
  {
   "cell_type": "code",
   "execution_count": 21,
   "id": "38ed484b",
   "metadata": {
    "execution": {
     "iopub.execute_input": "2023-01-31T14:12:58.425005Z",
     "iopub.status.busy": "2023-01-31T14:12:58.424030Z",
     "iopub.status.idle": "2023-01-31T14:12:58.632168Z",
     "shell.execute_reply": "2023-01-31T14:12:58.631141Z"
    },
    "papermill": {
     "duration": 0.369642,
     "end_time": "2023-01-31T14:12:58.634630",
     "exception": false,
     "start_time": "2023-01-31T14:12:58.264988",
     "status": "completed"
    },
    "tags": []
   },
   "outputs": [],
   "source": [
    "data.dropna(inplace=True)"
   ]
  },
  {
   "cell_type": "code",
   "execution_count": 22,
   "id": "2451fc01",
   "metadata": {
    "execution": {
     "iopub.execute_input": "2023-01-31T14:12:58.947973Z",
     "iopub.status.busy": "2023-01-31T14:12:58.947619Z",
     "iopub.status.idle": "2023-01-31T14:12:58.953981Z",
     "shell.execute_reply": "2023-01-31T14:12:58.953057Z"
    },
    "papermill": {
     "duration": 0.167537,
     "end_time": "2023-01-31T14:12:58.956153",
     "exception": false,
     "start_time": "2023-01-31T14:12:58.788616",
     "status": "completed"
    },
    "tags": []
   },
   "outputs": [
    {
     "data": {
      "text/plain": [
       "(395219, 24)"
      ]
     },
     "execution_count": 22,
     "metadata": {},
     "output_type": "execute_result"
    }
   ],
   "source": [
    "data.shape"
   ]
  },
  {
   "cell_type": "markdown",
   "id": "dbd71208",
   "metadata": {
    "papermill": {
     "duration": 0.154966,
     "end_time": "2023-01-31T14:12:59.267766",
     "exception": false,
     "start_time": "2023-01-31T14:12:59.112800",
     "status": "completed"
    },
    "tags": []
   },
   "source": [
    "## 🧮 Categorical Variables and Dummy Variables"
   ]
  },
  {
   "cell_type": "code",
   "execution_count": 23,
   "id": "a9a0443b",
   "metadata": {
    "execution": {
     "iopub.execute_input": "2023-01-31T14:12:59.581380Z",
     "iopub.status.busy": "2023-01-31T14:12:59.580307Z",
     "iopub.status.idle": "2023-01-31T14:12:59.587991Z",
     "shell.execute_reply": "2023-01-31T14:12:59.586565Z"
    },
    "papermill": {
     "duration": 0.167857,
     "end_time": "2023-01-31T14:12:59.590494",
     "exception": false,
     "start_time": "2023-01-31T14:12:59.422637",
     "status": "completed"
    },
    "tags": []
   },
   "outputs": [
    {
     "name": "stdout",
     "output_type": "stream",
     "text": [
      "['term', 'grade', 'sub_grade', 'home_ownership', 'verification_status', 'loan_status', 'purpose', 'initial_list_status', 'application_type', 'address']\n"
     ]
    }
   ],
   "source": [
    "print([column for column in data.columns if data[column].dtype == object])"
   ]
  },
  {
   "cell_type": "markdown",
   "id": "20623395",
   "metadata": {
    "papermill": {
     "duration": 0.156275,
     "end_time": "2023-01-31T14:12:59.902049",
     "exception": false,
     "start_time": "2023-01-31T14:12:59.745774",
     "status": "completed"
    },
    "tags": []
   },
   "source": [
    "### `term`"
   ]
  },
  {
   "cell_type": "code",
   "execution_count": 24,
   "id": "157b0699",
   "metadata": {
    "execution": {
     "iopub.execute_input": "2023-01-31T14:13:00.218650Z",
     "iopub.status.busy": "2023-01-31T14:13:00.217514Z",
     "iopub.status.idle": "2023-01-31T14:13:00.247794Z",
     "shell.execute_reply": "2023-01-31T14:13:00.246722Z"
    },
    "papermill": {
     "duration": 0.189848,
     "end_time": "2023-01-31T14:13:00.249831",
     "exception": false,
     "start_time": "2023-01-31T14:13:00.059983",
     "status": "completed"
    },
    "tags": []
   },
   "outputs": [
    {
     "data": {
      "text/plain": [
       "array([' 36 months', ' 60 months'], dtype=object)"
      ]
     },
     "execution_count": 24,
     "metadata": {},
     "output_type": "execute_result"
    }
   ],
   "source": [
    "data.term.unique()"
   ]
  },
  {
   "cell_type": "code",
   "execution_count": 25,
   "id": "b9a04988",
   "metadata": {
    "execution": {
     "iopub.execute_input": "2023-01-31T14:13:00.563186Z",
     "iopub.status.busy": "2023-01-31T14:13:00.562474Z",
     "iopub.status.idle": "2023-01-31T14:13:00.639156Z",
     "shell.execute_reply": "2023-01-31T14:13:00.638136Z"
    },
    "papermill": {
     "duration": 0.236028,
     "end_time": "2023-01-31T14:13:00.641761",
     "exception": false,
     "start_time": "2023-01-31T14:13:00.405733",
     "status": "completed"
    },
    "tags": []
   },
   "outputs": [],
   "source": [
    "#TRAINING PIPELINE\n",
    "#term_values = {' 36 months': 36, ' 60 months': 60}\n",
    "#data['term'] = data.term.map(term_values)"
   ]
  },
  {
   "cell_type": "code",
   "execution_count": 26,
   "id": "49aece5a",
   "metadata": {
    "execution": {
     "iopub.execute_input": "2023-01-31T14:13:00.954842Z",
     "iopub.status.busy": "2023-01-31T14:13:00.953804Z",
     "iopub.status.idle": "2023-01-31T14:13:00.962843Z",
     "shell.execute_reply": "2023-01-31T14:13:00.961854Z"
    },
    "papermill": {
     "duration": 0.167665,
     "end_time": "2023-01-31T14:13:00.964868",
     "exception": false,
     "start_time": "2023-01-31T14:13:00.797203",
     "status": "completed"
    },
    "tags": []
   },
   "outputs": [
    {
     "data": {
      "text/plain": [
       "array([' 36 months', ' 60 months'], dtype=object)"
      ]
     },
     "execution_count": 26,
     "metadata": {},
     "output_type": "execute_result"
    }
   ],
   "source": [
    "data.term.unique()"
   ]
  },
  {
   "cell_type": "markdown",
   "id": "de3a0265",
   "metadata": {
    "papermill": {
     "duration": 0.15528,
     "end_time": "2023-01-31T14:13:01.277139",
     "exception": false,
     "start_time": "2023-01-31T14:13:01.121859",
     "status": "completed"
    },
    "tags": []
   },
   "source": [
    "### `grade` & `sub_grade`\n",
    "\n",
    "We know that `grade` is just a sub feature of `sub_grade`, So we are goinig to drop it."
   ]
  },
  {
   "cell_type": "code",
   "execution_count": 27,
   "id": "ad383419",
   "metadata": {
    "execution": {
     "iopub.execute_input": "2023-01-31T14:13:01.592535Z",
     "iopub.status.busy": "2023-01-31T14:13:01.591599Z",
     "iopub.status.idle": "2023-01-31T14:13:01.656733Z",
     "shell.execute_reply": "2023-01-31T14:13:01.655753Z"
    },
    "papermill": {
     "duration": 0.225278,
     "end_time": "2023-01-31T14:13:01.659576",
     "exception": false,
     "start_time": "2023-01-31T14:13:01.434298",
     "status": "completed"
    },
    "tags": []
   },
   "outputs": [],
   "source": [
    "data.drop('grade', axis=1, inplace=True)"
   ]
  },
  {
   "cell_type": "code",
   "execution_count": 28,
   "id": "2439e9cb",
   "metadata": {
    "execution": {
     "iopub.execute_input": "2023-01-31T14:13:01.975911Z",
     "iopub.status.busy": "2023-01-31T14:13:01.975534Z",
     "iopub.status.idle": "2023-01-31T14:13:02.318893Z",
     "shell.execute_reply": "2023-01-31T14:13:02.317872Z"
    },
    "papermill": {
     "duration": 0.50391,
     "end_time": "2023-01-31T14:13:02.321337",
     "exception": false,
     "start_time": "2023-01-31T14:13:01.817427",
     "status": "completed"
    },
    "tags": []
   },
   "outputs": [],
   "source": [
    "#TRAINING PIPELINE\n",
    "# dummies = ['sub_grade', 'verification_status', 'purpose', 'initial_list_status', \n",
    "#            'application_type', 'home_ownership']\n",
    "# data = pd.get_dummies(data, columns=dummies, drop_first=True)"
   ]
  },
  {
   "cell_type": "markdown",
   "id": "b78ba175",
   "metadata": {
    "papermill": {
     "duration": 0.162961,
     "end_time": "2023-01-31T14:13:02.654421",
     "exception": false,
     "start_time": "2023-01-31T14:13:02.491460",
     "status": "completed"
    },
    "tags": []
   },
   "source": [
    "### `address`\n",
    "We are going to feature engineer a zip code column from the address in the data set. Create a column called 'zip_code' that extracts the zip code from the address column."
   ]
  },
  {
   "cell_type": "code",
   "execution_count": 29,
   "id": "e9b015fc",
   "metadata": {
    "execution": {
     "iopub.execute_input": "2023-01-31T14:13:03.111792Z",
     "iopub.status.busy": "2023-01-31T14:13:03.111236Z",
     "iopub.status.idle": "2023-01-31T14:13:03.119932Z",
     "shell.execute_reply": "2023-01-31T14:13:03.118991Z"
    },
    "papermill": {
     "duration": 0.177794,
     "end_time": "2023-01-31T14:13:03.121926",
     "exception": false,
     "start_time": "2023-01-31T14:13:02.944132",
     "status": "completed"
    },
    "tags": []
   },
   "outputs": [
    {
     "data": {
      "text/plain": [
       "0       0174 Michelle Gateway\\r\\nMendozaberg, OK 22690\n",
       "1    1076 Carney Fort Apt. 347\\r\\nLoganmouth, SD 05113\n",
       "2    87025 Mark Dale Apt. 269\\r\\nNew Sabrina, WV 05113\n",
       "3              823 Reid Ford\\r\\nDelacruzside, MA 00813\n",
       "4               679 Luna Roads\\r\\nGreggshire, VA 11650\n",
       "Name: address, dtype: object"
      ]
     },
     "execution_count": 29,
     "metadata": {},
     "output_type": "execute_result"
    }
   ],
   "source": [
    "data.address.head()"
   ]
  },
  {
   "cell_type": "code",
   "execution_count": 30,
   "id": "3cc3188b",
   "metadata": {
    "execution": {
     "iopub.execute_input": "2023-01-31T14:13:03.458992Z",
     "iopub.status.busy": "2023-01-31T14:13:03.458459Z",
     "iopub.status.idle": "2023-01-31T14:13:03.641611Z",
     "shell.execute_reply": "2023-01-31T14:13:03.628414Z"
    },
    "papermill": {
     "duration": 0.362285,
     "end_time": "2023-01-31T14:13:03.644153",
     "exception": false,
     "start_time": "2023-01-31T14:13:03.281868",
     "status": "completed"
    },
    "tags": []
   },
   "outputs": [],
   "source": [
    "\n",
    "#data['zip_code'] = data.address.apply(lambda x: x[-5:])\n",
    "#data['zip_code'] = data.address.apply(loans.extract_zipcode)\n",
    "data['zip_code'] = data.apply(lambda x: loans.extract_zipcode(x['address']), axis=1)"
   ]
  },
  {
   "cell_type": "code",
   "execution_count": 31,
   "id": "8a04d628",
   "metadata": {
    "execution": {
     "iopub.execute_input": "2023-01-31T14:13:04.068331Z",
     "iopub.status.busy": "2023-01-31T14:13:04.067955Z",
     "iopub.status.idle": "2023-01-31T14:13:04.103983Z",
     "shell.execute_reply": "2023-01-31T14:13:04.102946Z"
    },
    "papermill": {
     "duration": 0.238062,
     "end_time": "2023-01-31T14:13:04.105979",
     "exception": false,
     "start_time": "2023-01-31T14:13:03.867917",
     "status": "completed"
    },
    "tags": []
   },
   "outputs": [
    {
     "data": {
      "text/plain": [
       "70466    56880\n",
       "22690    56413\n",
       "30723    56402\n",
       "48052    55811\n",
       "00813    45725\n",
       "29597    45393\n",
       "05113    45300\n",
       "11650    11210\n",
       "93700    11126\n",
       "86630    10959\n",
       "Name: zip_code, dtype: int64"
      ]
     },
     "execution_count": 31,
     "metadata": {},
     "output_type": "execute_result"
    }
   ],
   "source": [
    "data.zip_code.value_counts()"
   ]
  },
  {
   "cell_type": "code",
   "execution_count": 32,
   "id": "dee694da",
   "metadata": {
    "execution": {
     "iopub.execute_input": "2023-01-31T14:13:04.419130Z",
     "iopub.status.busy": "2023-01-31T14:13:04.418140Z",
     "iopub.status.idle": "2023-01-31T14:13:04.601909Z",
     "shell.execute_reply": "2023-01-31T14:13:04.600917Z"
    },
    "papermill": {
     "duration": 0.34409,
     "end_time": "2023-01-31T14:13:04.604810",
     "exception": false,
     "start_time": "2023-01-31T14:13:04.260720",
     "status": "completed"
    },
    "tags": []
   },
   "outputs": [],
   "source": [
    "#TRAINING PIPELINE\n",
    "\n",
    "#data = pd.get_dummies(data, columns=['zip_code'], drop_first=True)"
   ]
  },
  {
   "cell_type": "code",
   "execution_count": 33,
   "id": "dafe46bf",
   "metadata": {
    "execution": {
     "iopub.execute_input": "2023-01-31T14:13:04.919809Z",
     "iopub.status.busy": "2023-01-31T14:13:04.919417Z",
     "iopub.status.idle": "2023-01-31T14:13:04.986378Z",
     "shell.execute_reply": "2023-01-31T14:13:04.985236Z"
    },
    "papermill": {
     "duration": 0.226129,
     "end_time": "2023-01-31T14:13:04.989199",
     "exception": false,
     "start_time": "2023-01-31T14:13:04.763070",
     "status": "completed"
    },
    "tags": []
   },
   "outputs": [],
   "source": [
    "data.drop('address', axis=1, inplace=True)"
   ]
  },
  {
   "cell_type": "markdown",
   "id": "3be6a8ab",
   "metadata": {
    "papermill": {
     "duration": 0.155658,
     "end_time": "2023-01-31T14:13:05.300426",
     "exception": false,
     "start_time": "2023-01-31T14:13:05.144768",
     "status": "completed"
    },
    "tags": []
   },
   "source": [
    "### `issue_d` \n",
    "\n",
    "This would be data leakage, we wouldn't know beforehand whether or not a loan would be issued when using our model, so in theory we wouldn't have an issue_date, drop this feature."
   ]
  },
  {
   "cell_type": "code",
   "execution_count": 34,
   "id": "65dc25e2",
   "metadata": {
    "execution": {
     "iopub.execute_input": "2023-01-31T14:13:05.616027Z",
     "iopub.status.busy": "2023-01-31T14:13:05.614099Z",
     "iopub.status.idle": "2023-01-31T14:13:05.643808Z",
     "shell.execute_reply": "2023-01-31T14:13:05.642851Z"
    },
    "papermill": {
     "duration": 0.190885,
     "end_time": "2023-01-31T14:13:05.645959",
     "exception": false,
     "start_time": "2023-01-31T14:13:05.455074",
     "status": "completed"
    },
    "tags": []
   },
   "outputs": [],
   "source": [
    "data.drop('issue_d', axis=1, inplace=True)"
   ]
  },
  {
   "cell_type": "code",
   "execution_count": 35,
   "id": "d3c3bb7c",
   "metadata": {},
   "outputs": [
    {
     "name": "stdout",
     "output_type": "stream",
     "text": [
      "<class 'pandas.core.frame.DataFrame'>\n",
      "Int64Index: 395219 entries, 0 to 396029\n",
      "Data columns (total 22 columns):\n",
      " #   Column                Non-Null Count   Dtype         \n",
      "---  ------                --------------   -----         \n",
      " 0   loan_amnt             395219 non-null  float64       \n",
      " 1   term                  395219 non-null  object        \n",
      " 2   int_rate              395219 non-null  float64       \n",
      " 3   installment           395219 non-null  float64       \n",
      " 4   sub_grade             395219 non-null  object        \n",
      " 5   home_ownership        395219 non-null  object        \n",
      " 6   annual_inc            395219 non-null  float64       \n",
      " 7   verification_status   395219 non-null  object        \n",
      " 8   loan_status           395219 non-null  object        \n",
      " 9   purpose               395219 non-null  object        \n",
      " 10  dti                   395219 non-null  float64       \n",
      " 11  earliest_cr_line      395219 non-null  datetime64[ns]\n",
      " 12  open_acc              395219 non-null  float64       \n",
      " 13  pub_rec               395219 non-null  int64         \n",
      " 14  revol_bal             395219 non-null  float64       \n",
      " 15  revol_util            395219 non-null  float64       \n",
      " 16  total_acc             395219 non-null  float64       \n",
      " 17  initial_list_status   395219 non-null  object        \n",
      " 18  application_type      395219 non-null  object        \n",
      " 19  mort_acc              395219 non-null  float64       \n",
      " 20  pub_rec_bankruptcies  395219 non-null  float64       \n",
      " 21  zip_code              395219 non-null  object        \n",
      "dtypes: datetime64[ns](1), float64(11), int64(1), object(9)\n",
      "memory usage: 69.4+ MB\n"
     ]
    }
   ],
   "source": [
    "data.info()"
   ]
  },
  {
   "cell_type": "markdown",
   "id": "3af9fbb5",
   "metadata": {
    "papermill": {
     "duration": 0.158483,
     "end_time": "2023-01-31T14:13:05.959651",
     "exception": false,
     "start_time": "2023-01-31T14:13:05.801168",
     "status": "completed"
    },
    "tags": []
   },
   "source": [
    "### `earliest_cr_line`\n",
    "This appears to be a historical time stamp feature. Extract the year from this feature using a `.apply()` function, then convert it to a numeric feature."
   ]
  },
  {
   "cell_type": "code",
   "execution_count": 36,
   "id": "9e8e8d21",
   "metadata": {
    "execution": {
     "iopub.execute_input": "2023-01-31T14:13:06.287247Z",
     "iopub.status.busy": "2023-01-31T14:13:06.286161Z",
     "iopub.status.idle": "2023-01-31T14:13:06.337535Z",
     "shell.execute_reply": "2023-01-31T14:13:06.336363Z"
    },
    "papermill": {
     "duration": 0.221956,
     "end_time": "2023-01-31T14:13:06.339961",
     "exception": false,
     "start_time": "2023-01-31T14:13:06.118005",
     "status": "completed"
    },
    "tags": []
   },
   "outputs": [],
   "source": [
    "#data['earliest_cr_line_year'] = data.earliest_cr_line.dt.year\n",
    "\n",
    "# UDF doesn't work - converts it to a Python timestamp, then need to extract from each timestamp object\n",
    "data['earliest_cr_line_year'] = data.apply(lambda x: loans.extract_year(x['earliest_cr_line']), axis=1)"
   ]
  },
  {
   "cell_type": "code",
   "execution_count": 37,
   "id": "42367054",
   "metadata": {},
   "outputs": [
    {
     "data": {
      "text/html": [
       "<div>\n",
       "<style scoped>\n",
       "    .dataframe tbody tr th:only-of-type {\n",
       "        vertical-align: middle;\n",
       "    }\n",
       "\n",
       "    .dataframe tbody tr th {\n",
       "        vertical-align: top;\n",
       "    }\n",
       "\n",
       "    .dataframe thead th {\n",
       "        text-align: right;\n",
       "    }\n",
       "</style>\n",
       "<table border=\"1\" class=\"dataframe\">\n",
       "  <thead>\n",
       "    <tr style=\"text-align: right;\">\n",
       "      <th></th>\n",
       "      <th>loan_amnt</th>\n",
       "      <th>term</th>\n",
       "      <th>int_rate</th>\n",
       "      <th>installment</th>\n",
       "      <th>sub_grade</th>\n",
       "      <th>home_ownership</th>\n",
       "      <th>annual_inc</th>\n",
       "      <th>verification_status</th>\n",
       "      <th>loan_status</th>\n",
       "      <th>purpose</th>\n",
       "      <th>dti</th>\n",
       "      <th>earliest_cr_line</th>\n",
       "      <th>open_acc</th>\n",
       "      <th>pub_rec</th>\n",
       "      <th>revol_bal</th>\n",
       "      <th>revol_util</th>\n",
       "      <th>total_acc</th>\n",
       "      <th>initial_list_status</th>\n",
       "      <th>application_type</th>\n",
       "      <th>mort_acc</th>\n",
       "      <th>pub_rec_bankruptcies</th>\n",
       "      <th>zip_code</th>\n",
       "      <th>earliest_cr_line_year</th>\n",
       "    </tr>\n",
       "  </thead>\n",
       "  <tbody>\n",
       "    <tr>\n",
       "      <th>0</th>\n",
       "      <td>10000.00</td>\n",
       "      <td>36 months</td>\n",
       "      <td>11.44</td>\n",
       "      <td>329.48</td>\n",
       "      <td>B4</td>\n",
       "      <td>RENT</td>\n",
       "      <td>117000.00</td>\n",
       "      <td>Not Verified</td>\n",
       "      <td>Fully Paid</td>\n",
       "      <td>vacation</td>\n",
       "      <td>26.24</td>\n",
       "      <td>1990-06-01</td>\n",
       "      <td>16.00</td>\n",
       "      <td>0</td>\n",
       "      <td>36369.00</td>\n",
       "      <td>41.80</td>\n",
       "      <td>25.00</td>\n",
       "      <td>w</td>\n",
       "      <td>INDIVIDUAL</td>\n",
       "      <td>0.00</td>\n",
       "      <td>0.00</td>\n",
       "      <td>22690</td>\n",
       "      <td>1990</td>\n",
       "    </tr>\n",
       "    <tr>\n",
       "      <th>1</th>\n",
       "      <td>8000.00</td>\n",
       "      <td>36 months</td>\n",
       "      <td>11.99</td>\n",
       "      <td>265.68</td>\n",
       "      <td>B5</td>\n",
       "      <td>MORTGAGE</td>\n",
       "      <td>65000.00</td>\n",
       "      <td>Not Verified</td>\n",
       "      <td>Fully Paid</td>\n",
       "      <td>debt_consolidation</td>\n",
       "      <td>22.05</td>\n",
       "      <td>2004-07-01</td>\n",
       "      <td>17.00</td>\n",
       "      <td>0</td>\n",
       "      <td>20131.00</td>\n",
       "      <td>53.30</td>\n",
       "      <td>27.00</td>\n",
       "      <td>f</td>\n",
       "      <td>INDIVIDUAL</td>\n",
       "      <td>1.00</td>\n",
       "      <td>0.00</td>\n",
       "      <td>05113</td>\n",
       "      <td>2004</td>\n",
       "    </tr>\n",
       "    <tr>\n",
       "      <th>2</th>\n",
       "      <td>15600.00</td>\n",
       "      <td>36 months</td>\n",
       "      <td>10.49</td>\n",
       "      <td>506.97</td>\n",
       "      <td>B3</td>\n",
       "      <td>RENT</td>\n",
       "      <td>43057.00</td>\n",
       "      <td>Source Verified</td>\n",
       "      <td>Fully Paid</td>\n",
       "      <td>credit_card</td>\n",
       "      <td>12.79</td>\n",
       "      <td>2007-08-01</td>\n",
       "      <td>13.00</td>\n",
       "      <td>0</td>\n",
       "      <td>11987.00</td>\n",
       "      <td>92.20</td>\n",
       "      <td>26.00</td>\n",
       "      <td>f</td>\n",
       "      <td>INDIVIDUAL</td>\n",
       "      <td>0.00</td>\n",
       "      <td>0.00</td>\n",
       "      <td>05113</td>\n",
       "      <td>2007</td>\n",
       "    </tr>\n",
       "    <tr>\n",
       "      <th>3</th>\n",
       "      <td>7200.00</td>\n",
       "      <td>36 months</td>\n",
       "      <td>6.49</td>\n",
       "      <td>220.65</td>\n",
       "      <td>A2</td>\n",
       "      <td>RENT</td>\n",
       "      <td>54000.00</td>\n",
       "      <td>Not Verified</td>\n",
       "      <td>Fully Paid</td>\n",
       "      <td>credit_card</td>\n",
       "      <td>2.60</td>\n",
       "      <td>2006-09-01</td>\n",
       "      <td>6.00</td>\n",
       "      <td>0</td>\n",
       "      <td>5472.00</td>\n",
       "      <td>21.50</td>\n",
       "      <td>13.00</td>\n",
       "      <td>f</td>\n",
       "      <td>INDIVIDUAL</td>\n",
       "      <td>0.00</td>\n",
       "      <td>0.00</td>\n",
       "      <td>00813</td>\n",
       "      <td>2006</td>\n",
       "    </tr>\n",
       "    <tr>\n",
       "      <th>4</th>\n",
       "      <td>24375.00</td>\n",
       "      <td>60 months</td>\n",
       "      <td>17.27</td>\n",
       "      <td>609.33</td>\n",
       "      <td>C5</td>\n",
       "      <td>MORTGAGE</td>\n",
       "      <td>55000.00</td>\n",
       "      <td>Verified</td>\n",
       "      <td>Charged Off</td>\n",
       "      <td>credit_card</td>\n",
       "      <td>33.95</td>\n",
       "      <td>1999-03-01</td>\n",
       "      <td>13.00</td>\n",
       "      <td>0</td>\n",
       "      <td>24584.00</td>\n",
       "      <td>69.80</td>\n",
       "      <td>43.00</td>\n",
       "      <td>f</td>\n",
       "      <td>INDIVIDUAL</td>\n",
       "      <td>1.00</td>\n",
       "      <td>0.00</td>\n",
       "      <td>11650</td>\n",
       "      <td>1999</td>\n",
       "    </tr>\n",
       "    <tr>\n",
       "      <th>...</th>\n",
       "      <td>...</td>\n",
       "      <td>...</td>\n",
       "      <td>...</td>\n",
       "      <td>...</td>\n",
       "      <td>...</td>\n",
       "      <td>...</td>\n",
       "      <td>...</td>\n",
       "      <td>...</td>\n",
       "      <td>...</td>\n",
       "      <td>...</td>\n",
       "      <td>...</td>\n",
       "      <td>...</td>\n",
       "      <td>...</td>\n",
       "      <td>...</td>\n",
       "      <td>...</td>\n",
       "      <td>...</td>\n",
       "      <td>...</td>\n",
       "      <td>...</td>\n",
       "      <td>...</td>\n",
       "      <td>...</td>\n",
       "      <td>...</td>\n",
       "      <td>...</td>\n",
       "      <td>...</td>\n",
       "    </tr>\n",
       "    <tr>\n",
       "      <th>396025</th>\n",
       "      <td>10000.00</td>\n",
       "      <td>60 months</td>\n",
       "      <td>10.99</td>\n",
       "      <td>217.38</td>\n",
       "      <td>B4</td>\n",
       "      <td>RENT</td>\n",
       "      <td>40000.00</td>\n",
       "      <td>Source Verified</td>\n",
       "      <td>Fully Paid</td>\n",
       "      <td>debt_consolidation</td>\n",
       "      <td>15.63</td>\n",
       "      <td>2004-11-01</td>\n",
       "      <td>6.00</td>\n",
       "      <td>0</td>\n",
       "      <td>1990.00</td>\n",
       "      <td>34.30</td>\n",
       "      <td>23.00</td>\n",
       "      <td>w</td>\n",
       "      <td>INDIVIDUAL</td>\n",
       "      <td>0.00</td>\n",
       "      <td>0.00</td>\n",
       "      <td>30723</td>\n",
       "      <td>2004</td>\n",
       "    </tr>\n",
       "    <tr>\n",
       "      <th>396026</th>\n",
       "      <td>21000.00</td>\n",
       "      <td>36 months</td>\n",
       "      <td>12.29</td>\n",
       "      <td>700.42</td>\n",
       "      <td>C1</td>\n",
       "      <td>MORTGAGE</td>\n",
       "      <td>110000.00</td>\n",
       "      <td>Source Verified</td>\n",
       "      <td>Fully Paid</td>\n",
       "      <td>debt_consolidation</td>\n",
       "      <td>21.45</td>\n",
       "      <td>2006-02-01</td>\n",
       "      <td>6.00</td>\n",
       "      <td>0</td>\n",
       "      <td>43263.00</td>\n",
       "      <td>95.70</td>\n",
       "      <td>8.00</td>\n",
       "      <td>f</td>\n",
       "      <td>INDIVIDUAL</td>\n",
       "      <td>1.00</td>\n",
       "      <td>0.00</td>\n",
       "      <td>05113</td>\n",
       "      <td>2006</td>\n",
       "    </tr>\n",
       "    <tr>\n",
       "      <th>396027</th>\n",
       "      <td>5000.00</td>\n",
       "      <td>36 months</td>\n",
       "      <td>9.99</td>\n",
       "      <td>161.32</td>\n",
       "      <td>B1</td>\n",
       "      <td>RENT</td>\n",
       "      <td>56500.00</td>\n",
       "      <td>Verified</td>\n",
       "      <td>Fully Paid</td>\n",
       "      <td>debt_consolidation</td>\n",
       "      <td>17.56</td>\n",
       "      <td>1997-03-01</td>\n",
       "      <td>15.00</td>\n",
       "      <td>0</td>\n",
       "      <td>32704.00</td>\n",
       "      <td>66.90</td>\n",
       "      <td>23.00</td>\n",
       "      <td>f</td>\n",
       "      <td>INDIVIDUAL</td>\n",
       "      <td>0.00</td>\n",
       "      <td>0.00</td>\n",
       "      <td>70466</td>\n",
       "      <td>1997</td>\n",
       "    </tr>\n",
       "    <tr>\n",
       "      <th>396028</th>\n",
       "      <td>21000.00</td>\n",
       "      <td>60 months</td>\n",
       "      <td>15.31</td>\n",
       "      <td>503.02</td>\n",
       "      <td>C2</td>\n",
       "      <td>MORTGAGE</td>\n",
       "      <td>64000.00</td>\n",
       "      <td>Verified</td>\n",
       "      <td>Fully Paid</td>\n",
       "      <td>debt_consolidation</td>\n",
       "      <td>15.88</td>\n",
       "      <td>1990-11-01</td>\n",
       "      <td>9.00</td>\n",
       "      <td>0</td>\n",
       "      <td>15704.00</td>\n",
       "      <td>53.80</td>\n",
       "      <td>20.00</td>\n",
       "      <td>f</td>\n",
       "      <td>INDIVIDUAL</td>\n",
       "      <td>1.00</td>\n",
       "      <td>0.00</td>\n",
       "      <td>29597</td>\n",
       "      <td>1990</td>\n",
       "    </tr>\n",
       "    <tr>\n",
       "      <th>396029</th>\n",
       "      <td>2000.00</td>\n",
       "      <td>36 months</td>\n",
       "      <td>13.61</td>\n",
       "      <td>67.98</td>\n",
       "      <td>C2</td>\n",
       "      <td>RENT</td>\n",
       "      <td>42996.00</td>\n",
       "      <td>Verified</td>\n",
       "      <td>Fully Paid</td>\n",
       "      <td>debt_consolidation</td>\n",
       "      <td>8.32</td>\n",
       "      <td>1998-09-01</td>\n",
       "      <td>3.00</td>\n",
       "      <td>0</td>\n",
       "      <td>4292.00</td>\n",
       "      <td>91.30</td>\n",
       "      <td>19.00</td>\n",
       "      <td>f</td>\n",
       "      <td>INDIVIDUAL</td>\n",
       "      <td>1.00</td>\n",
       "      <td>0.00</td>\n",
       "      <td>48052</td>\n",
       "      <td>1998</td>\n",
       "    </tr>\n",
       "  </tbody>\n",
       "</table>\n",
       "<p>395219 rows × 23 columns</p>\n",
       "</div>"
      ],
      "text/plain": [
       "        loan_amnt        term  int_rate  installment sub_grade home_ownership  \\\n",
       "0        10000.00   36 months     11.44       329.48        B4           RENT   \n",
       "1         8000.00   36 months     11.99       265.68        B5       MORTGAGE   \n",
       "2        15600.00   36 months     10.49       506.97        B3           RENT   \n",
       "3         7200.00   36 months      6.49       220.65        A2           RENT   \n",
       "4        24375.00   60 months     17.27       609.33        C5       MORTGAGE   \n",
       "...           ...         ...       ...          ...       ...            ...   \n",
       "396025   10000.00   60 months     10.99       217.38        B4           RENT   \n",
       "396026   21000.00   36 months     12.29       700.42        C1       MORTGAGE   \n",
       "396027    5000.00   36 months      9.99       161.32        B1           RENT   \n",
       "396028   21000.00   60 months     15.31       503.02        C2       MORTGAGE   \n",
       "396029    2000.00   36 months     13.61        67.98        C2           RENT   \n",
       "\n",
       "        annual_inc verification_status  loan_status             purpose   dti  \\\n",
       "0        117000.00        Not Verified   Fully Paid            vacation 26.24   \n",
       "1         65000.00        Not Verified   Fully Paid  debt_consolidation 22.05   \n",
       "2         43057.00     Source Verified   Fully Paid         credit_card 12.79   \n",
       "3         54000.00        Not Verified   Fully Paid         credit_card  2.60   \n",
       "4         55000.00            Verified  Charged Off         credit_card 33.95   \n",
       "...            ...                 ...          ...                 ...   ...   \n",
       "396025    40000.00     Source Verified   Fully Paid  debt_consolidation 15.63   \n",
       "396026   110000.00     Source Verified   Fully Paid  debt_consolidation 21.45   \n",
       "396027    56500.00            Verified   Fully Paid  debt_consolidation 17.56   \n",
       "396028    64000.00            Verified   Fully Paid  debt_consolidation 15.88   \n",
       "396029    42996.00            Verified   Fully Paid  debt_consolidation  8.32   \n",
       "\n",
       "       earliest_cr_line  open_acc  pub_rec  revol_bal  revol_util  total_acc  \\\n",
       "0            1990-06-01     16.00        0   36369.00       41.80      25.00   \n",
       "1            2004-07-01     17.00        0   20131.00       53.30      27.00   \n",
       "2            2007-08-01     13.00        0   11987.00       92.20      26.00   \n",
       "3            2006-09-01      6.00        0    5472.00       21.50      13.00   \n",
       "4            1999-03-01     13.00        0   24584.00       69.80      43.00   \n",
       "...                 ...       ...      ...        ...         ...        ...   \n",
       "396025       2004-11-01      6.00        0    1990.00       34.30      23.00   \n",
       "396026       2006-02-01      6.00        0   43263.00       95.70       8.00   \n",
       "396027       1997-03-01     15.00        0   32704.00       66.90      23.00   \n",
       "396028       1990-11-01      9.00        0   15704.00       53.80      20.00   \n",
       "396029       1998-09-01      3.00        0    4292.00       91.30      19.00   \n",
       "\n",
       "       initial_list_status application_type  mort_acc  pub_rec_bankruptcies  \\\n",
       "0                        w       INDIVIDUAL      0.00                  0.00   \n",
       "1                        f       INDIVIDUAL      1.00                  0.00   \n",
       "2                        f       INDIVIDUAL      0.00                  0.00   \n",
       "3                        f       INDIVIDUAL      0.00                  0.00   \n",
       "4                        f       INDIVIDUAL      1.00                  0.00   \n",
       "...                    ...              ...       ...                   ...   \n",
       "396025                   w       INDIVIDUAL      0.00                  0.00   \n",
       "396026                   f       INDIVIDUAL      1.00                  0.00   \n",
       "396027                   f       INDIVIDUAL      0.00                  0.00   \n",
       "396028                   f       INDIVIDUAL      1.00                  0.00   \n",
       "396029                   f       INDIVIDUAL      1.00                  0.00   \n",
       "\n",
       "       zip_code  earliest_cr_line_year  \n",
       "0         22690                   1990  \n",
       "1         05113                   2004  \n",
       "2         05113                   2007  \n",
       "3         00813                   2006  \n",
       "4         11650                   1999  \n",
       "...         ...                    ...  \n",
       "396025    30723                   2004  \n",
       "396026    05113                   2006  \n",
       "396027    70466                   1997  \n",
       "396028    29597                   1990  \n",
       "396029    48052                   1998  \n",
       "\n",
       "[395219 rows x 23 columns]"
      ]
     },
     "execution_count": 37,
     "metadata": {},
     "output_type": "execute_result"
    }
   ],
   "source": [
    "data"
   ]
  },
  {
   "cell_type": "code",
   "execution_count": 38,
   "id": "cbd84f29",
   "metadata": {},
   "outputs": [
    {
     "data": {
      "text/html": [
       "<div>\n",
       "<style scoped>\n",
       "    .dataframe tbody tr th:only-of-type {\n",
       "        vertical-align: middle;\n",
       "    }\n",
       "\n",
       "    .dataframe tbody tr th {\n",
       "        vertical-align: top;\n",
       "    }\n",
       "\n",
       "    .dataframe thead th {\n",
       "        text-align: right;\n",
       "    }\n",
       "</style>\n",
       "<table border=\"1\" class=\"dataframe\">\n",
       "  <thead>\n",
       "    <tr style=\"text-align: right;\">\n",
       "      <th></th>\n",
       "      <th>loan_amnt</th>\n",
       "      <th>term</th>\n",
       "      <th>int_rate</th>\n",
       "      <th>installment</th>\n",
       "      <th>sub_grade</th>\n",
       "      <th>home_ownership</th>\n",
       "      <th>annual_inc</th>\n",
       "      <th>verification_status</th>\n",
       "      <th>loan_status</th>\n",
       "      <th>purpose</th>\n",
       "      <th>dti</th>\n",
       "      <th>earliest_cr_line</th>\n",
       "      <th>open_acc</th>\n",
       "      <th>pub_rec</th>\n",
       "      <th>revol_bal</th>\n",
       "      <th>revol_util</th>\n",
       "      <th>total_acc</th>\n",
       "      <th>initial_list_status</th>\n",
       "      <th>application_type</th>\n",
       "      <th>mort_acc</th>\n",
       "      <th>pub_rec_bankruptcies</th>\n",
       "      <th>zip_code</th>\n",
       "      <th>earliest_cr_line_year</th>\n",
       "      <th>id</th>\n",
       "    </tr>\n",
       "  </thead>\n",
       "  <tbody>\n",
       "    <tr>\n",
       "      <th>0</th>\n",
       "      <td>10000.00</td>\n",
       "      <td>36 months</td>\n",
       "      <td>11.44</td>\n",
       "      <td>329.48</td>\n",
       "      <td>B4</td>\n",
       "      <td>RENT</td>\n",
       "      <td>117000.00</td>\n",
       "      <td>Not Verified</td>\n",
       "      <td>Fully Paid</td>\n",
       "      <td>vacation</td>\n",
       "      <td>26.24</td>\n",
       "      <td>1990-06-01</td>\n",
       "      <td>16.00</td>\n",
       "      <td>0</td>\n",
       "      <td>36369.00</td>\n",
       "      <td>41.80</td>\n",
       "      <td>25.00</td>\n",
       "      <td>w</td>\n",
       "      <td>INDIVIDUAL</td>\n",
       "      <td>0.00</td>\n",
       "      <td>0.00</td>\n",
       "      <td>22690</td>\n",
       "      <td>1990</td>\n",
       "      <td>0</td>\n",
       "    </tr>\n",
       "    <tr>\n",
       "      <th>1</th>\n",
       "      <td>8000.00</td>\n",
       "      <td>36 months</td>\n",
       "      <td>11.99</td>\n",
       "      <td>265.68</td>\n",
       "      <td>B5</td>\n",
       "      <td>MORTGAGE</td>\n",
       "      <td>65000.00</td>\n",
       "      <td>Not Verified</td>\n",
       "      <td>Fully Paid</td>\n",
       "      <td>debt_consolidation</td>\n",
       "      <td>22.05</td>\n",
       "      <td>2004-07-01</td>\n",
       "      <td>17.00</td>\n",
       "      <td>0</td>\n",
       "      <td>20131.00</td>\n",
       "      <td>53.30</td>\n",
       "      <td>27.00</td>\n",
       "      <td>f</td>\n",
       "      <td>INDIVIDUAL</td>\n",
       "      <td>1.00</td>\n",
       "      <td>0.00</td>\n",
       "      <td>05113</td>\n",
       "      <td>2004</td>\n",
       "      <td>1</td>\n",
       "    </tr>\n",
       "    <tr>\n",
       "      <th>2</th>\n",
       "      <td>15600.00</td>\n",
       "      <td>36 months</td>\n",
       "      <td>10.49</td>\n",
       "      <td>506.97</td>\n",
       "      <td>B3</td>\n",
       "      <td>RENT</td>\n",
       "      <td>43057.00</td>\n",
       "      <td>Source Verified</td>\n",
       "      <td>Fully Paid</td>\n",
       "      <td>credit_card</td>\n",
       "      <td>12.79</td>\n",
       "      <td>2007-08-01</td>\n",
       "      <td>13.00</td>\n",
       "      <td>0</td>\n",
       "      <td>11987.00</td>\n",
       "      <td>92.20</td>\n",
       "      <td>26.00</td>\n",
       "      <td>f</td>\n",
       "      <td>INDIVIDUAL</td>\n",
       "      <td>0.00</td>\n",
       "      <td>0.00</td>\n",
       "      <td>05113</td>\n",
       "      <td>2007</td>\n",
       "      <td>2</td>\n",
       "    </tr>\n",
       "    <tr>\n",
       "      <th>3</th>\n",
       "      <td>7200.00</td>\n",
       "      <td>36 months</td>\n",
       "      <td>6.49</td>\n",
       "      <td>220.65</td>\n",
       "      <td>A2</td>\n",
       "      <td>RENT</td>\n",
       "      <td>54000.00</td>\n",
       "      <td>Not Verified</td>\n",
       "      <td>Fully Paid</td>\n",
       "      <td>credit_card</td>\n",
       "      <td>2.60</td>\n",
       "      <td>2006-09-01</td>\n",
       "      <td>6.00</td>\n",
       "      <td>0</td>\n",
       "      <td>5472.00</td>\n",
       "      <td>21.50</td>\n",
       "      <td>13.00</td>\n",
       "      <td>f</td>\n",
       "      <td>INDIVIDUAL</td>\n",
       "      <td>0.00</td>\n",
       "      <td>0.00</td>\n",
       "      <td>00813</td>\n",
       "      <td>2006</td>\n",
       "      <td>3</td>\n",
       "    </tr>\n",
       "    <tr>\n",
       "      <th>4</th>\n",
       "      <td>24375.00</td>\n",
       "      <td>60 months</td>\n",
       "      <td>17.27</td>\n",
       "      <td>609.33</td>\n",
       "      <td>C5</td>\n",
       "      <td>MORTGAGE</td>\n",
       "      <td>55000.00</td>\n",
       "      <td>Verified</td>\n",
       "      <td>Charged Off</td>\n",
       "      <td>credit_card</td>\n",
       "      <td>33.95</td>\n",
       "      <td>1999-03-01</td>\n",
       "      <td>13.00</td>\n",
       "      <td>0</td>\n",
       "      <td>24584.00</td>\n",
       "      <td>69.80</td>\n",
       "      <td>43.00</td>\n",
       "      <td>f</td>\n",
       "      <td>INDIVIDUAL</td>\n",
       "      <td>1.00</td>\n",
       "      <td>0.00</td>\n",
       "      <td>11650</td>\n",
       "      <td>1999</td>\n",
       "      <td>4</td>\n",
       "    </tr>\n",
       "    <tr>\n",
       "      <th>...</th>\n",
       "      <td>...</td>\n",
       "      <td>...</td>\n",
       "      <td>...</td>\n",
       "      <td>...</td>\n",
       "      <td>...</td>\n",
       "      <td>...</td>\n",
       "      <td>...</td>\n",
       "      <td>...</td>\n",
       "      <td>...</td>\n",
       "      <td>...</td>\n",
       "      <td>...</td>\n",
       "      <td>...</td>\n",
       "      <td>...</td>\n",
       "      <td>...</td>\n",
       "      <td>...</td>\n",
       "      <td>...</td>\n",
       "      <td>...</td>\n",
       "      <td>...</td>\n",
       "      <td>...</td>\n",
       "      <td>...</td>\n",
       "      <td>...</td>\n",
       "      <td>...</td>\n",
       "      <td>...</td>\n",
       "      <td>...</td>\n",
       "    </tr>\n",
       "    <tr>\n",
       "      <th>396025</th>\n",
       "      <td>10000.00</td>\n",
       "      <td>60 months</td>\n",
       "      <td>10.99</td>\n",
       "      <td>217.38</td>\n",
       "      <td>B4</td>\n",
       "      <td>RENT</td>\n",
       "      <td>40000.00</td>\n",
       "      <td>Source Verified</td>\n",
       "      <td>Fully Paid</td>\n",
       "      <td>debt_consolidation</td>\n",
       "      <td>15.63</td>\n",
       "      <td>2004-11-01</td>\n",
       "      <td>6.00</td>\n",
       "      <td>0</td>\n",
       "      <td>1990.00</td>\n",
       "      <td>34.30</td>\n",
       "      <td>23.00</td>\n",
       "      <td>w</td>\n",
       "      <td>INDIVIDUAL</td>\n",
       "      <td>0.00</td>\n",
       "      <td>0.00</td>\n",
       "      <td>30723</td>\n",
       "      <td>2004</td>\n",
       "      <td>396025</td>\n",
       "    </tr>\n",
       "    <tr>\n",
       "      <th>396026</th>\n",
       "      <td>21000.00</td>\n",
       "      <td>36 months</td>\n",
       "      <td>12.29</td>\n",
       "      <td>700.42</td>\n",
       "      <td>C1</td>\n",
       "      <td>MORTGAGE</td>\n",
       "      <td>110000.00</td>\n",
       "      <td>Source Verified</td>\n",
       "      <td>Fully Paid</td>\n",
       "      <td>debt_consolidation</td>\n",
       "      <td>21.45</td>\n",
       "      <td>2006-02-01</td>\n",
       "      <td>6.00</td>\n",
       "      <td>0</td>\n",
       "      <td>43263.00</td>\n",
       "      <td>95.70</td>\n",
       "      <td>8.00</td>\n",
       "      <td>f</td>\n",
       "      <td>INDIVIDUAL</td>\n",
       "      <td>1.00</td>\n",
       "      <td>0.00</td>\n",
       "      <td>05113</td>\n",
       "      <td>2006</td>\n",
       "      <td>396026</td>\n",
       "    </tr>\n",
       "    <tr>\n",
       "      <th>396027</th>\n",
       "      <td>5000.00</td>\n",
       "      <td>36 months</td>\n",
       "      <td>9.99</td>\n",
       "      <td>161.32</td>\n",
       "      <td>B1</td>\n",
       "      <td>RENT</td>\n",
       "      <td>56500.00</td>\n",
       "      <td>Verified</td>\n",
       "      <td>Fully Paid</td>\n",
       "      <td>debt_consolidation</td>\n",
       "      <td>17.56</td>\n",
       "      <td>1997-03-01</td>\n",
       "      <td>15.00</td>\n",
       "      <td>0</td>\n",
       "      <td>32704.00</td>\n",
       "      <td>66.90</td>\n",
       "      <td>23.00</td>\n",
       "      <td>f</td>\n",
       "      <td>INDIVIDUAL</td>\n",
       "      <td>0.00</td>\n",
       "      <td>0.00</td>\n",
       "      <td>70466</td>\n",
       "      <td>1997</td>\n",
       "      <td>396027</td>\n",
       "    </tr>\n",
       "    <tr>\n",
       "      <th>396028</th>\n",
       "      <td>21000.00</td>\n",
       "      <td>60 months</td>\n",
       "      <td>15.31</td>\n",
       "      <td>503.02</td>\n",
       "      <td>C2</td>\n",
       "      <td>MORTGAGE</td>\n",
       "      <td>64000.00</td>\n",
       "      <td>Verified</td>\n",
       "      <td>Fully Paid</td>\n",
       "      <td>debt_consolidation</td>\n",
       "      <td>15.88</td>\n",
       "      <td>1990-11-01</td>\n",
       "      <td>9.00</td>\n",
       "      <td>0</td>\n",
       "      <td>15704.00</td>\n",
       "      <td>53.80</td>\n",
       "      <td>20.00</td>\n",
       "      <td>f</td>\n",
       "      <td>INDIVIDUAL</td>\n",
       "      <td>1.00</td>\n",
       "      <td>0.00</td>\n",
       "      <td>29597</td>\n",
       "      <td>1990</td>\n",
       "      <td>396028</td>\n",
       "    </tr>\n",
       "    <tr>\n",
       "      <th>396029</th>\n",
       "      <td>2000.00</td>\n",
       "      <td>36 months</td>\n",
       "      <td>13.61</td>\n",
       "      <td>67.98</td>\n",
       "      <td>C2</td>\n",
       "      <td>RENT</td>\n",
       "      <td>42996.00</td>\n",
       "      <td>Verified</td>\n",
       "      <td>Fully Paid</td>\n",
       "      <td>debt_consolidation</td>\n",
       "      <td>8.32</td>\n",
       "      <td>1998-09-01</td>\n",
       "      <td>3.00</td>\n",
       "      <td>0</td>\n",
       "      <td>4292.00</td>\n",
       "      <td>91.30</td>\n",
       "      <td>19.00</td>\n",
       "      <td>f</td>\n",
       "      <td>INDIVIDUAL</td>\n",
       "      <td>1.00</td>\n",
       "      <td>0.00</td>\n",
       "      <td>48052</td>\n",
       "      <td>1998</td>\n",
       "      <td>396029</td>\n",
       "    </tr>\n",
       "  </tbody>\n",
       "</table>\n",
       "<p>395219 rows × 24 columns</p>\n",
       "</div>"
      ],
      "text/plain": [
       "        loan_amnt        term  int_rate  installment sub_grade home_ownership  \\\n",
       "0        10000.00   36 months     11.44       329.48        B4           RENT   \n",
       "1         8000.00   36 months     11.99       265.68        B5       MORTGAGE   \n",
       "2        15600.00   36 months     10.49       506.97        B3           RENT   \n",
       "3         7200.00   36 months      6.49       220.65        A2           RENT   \n",
       "4        24375.00   60 months     17.27       609.33        C5       MORTGAGE   \n",
       "...           ...         ...       ...          ...       ...            ...   \n",
       "396025   10000.00   60 months     10.99       217.38        B4           RENT   \n",
       "396026   21000.00   36 months     12.29       700.42        C1       MORTGAGE   \n",
       "396027    5000.00   36 months      9.99       161.32        B1           RENT   \n",
       "396028   21000.00   60 months     15.31       503.02        C2       MORTGAGE   \n",
       "396029    2000.00   36 months     13.61        67.98        C2           RENT   \n",
       "\n",
       "        annual_inc verification_status  loan_status             purpose   dti  \\\n",
       "0        117000.00        Not Verified   Fully Paid            vacation 26.24   \n",
       "1         65000.00        Not Verified   Fully Paid  debt_consolidation 22.05   \n",
       "2         43057.00     Source Verified   Fully Paid         credit_card 12.79   \n",
       "3         54000.00        Not Verified   Fully Paid         credit_card  2.60   \n",
       "4         55000.00            Verified  Charged Off         credit_card 33.95   \n",
       "...            ...                 ...          ...                 ...   ...   \n",
       "396025    40000.00     Source Verified   Fully Paid  debt_consolidation 15.63   \n",
       "396026   110000.00     Source Verified   Fully Paid  debt_consolidation 21.45   \n",
       "396027    56500.00            Verified   Fully Paid  debt_consolidation 17.56   \n",
       "396028    64000.00            Verified   Fully Paid  debt_consolidation 15.88   \n",
       "396029    42996.00            Verified   Fully Paid  debt_consolidation  8.32   \n",
       "\n",
       "       earliest_cr_line  open_acc  pub_rec  revol_bal  revol_util  total_acc  \\\n",
       "0            1990-06-01     16.00        0   36369.00       41.80      25.00   \n",
       "1            2004-07-01     17.00        0   20131.00       53.30      27.00   \n",
       "2            2007-08-01     13.00        0   11987.00       92.20      26.00   \n",
       "3            2006-09-01      6.00        0    5472.00       21.50      13.00   \n",
       "4            1999-03-01     13.00        0   24584.00       69.80      43.00   \n",
       "...                 ...       ...      ...        ...         ...        ...   \n",
       "396025       2004-11-01      6.00        0    1990.00       34.30      23.00   \n",
       "396026       2006-02-01      6.00        0   43263.00       95.70       8.00   \n",
       "396027       1997-03-01     15.00        0   32704.00       66.90      23.00   \n",
       "396028       1990-11-01      9.00        0   15704.00       53.80      20.00   \n",
       "396029       1998-09-01      3.00        0    4292.00       91.30      19.00   \n",
       "\n",
       "       initial_list_status application_type  mort_acc  pub_rec_bankruptcies  \\\n",
       "0                        w       INDIVIDUAL      0.00                  0.00   \n",
       "1                        f       INDIVIDUAL      1.00                  0.00   \n",
       "2                        f       INDIVIDUAL      0.00                  0.00   \n",
       "3                        f       INDIVIDUAL      0.00                  0.00   \n",
       "4                        f       INDIVIDUAL      1.00                  0.00   \n",
       "...                    ...              ...       ...                   ...   \n",
       "396025                   w       INDIVIDUAL      0.00                  0.00   \n",
       "396026                   f       INDIVIDUAL      1.00                  0.00   \n",
       "396027                   f       INDIVIDUAL      0.00                  0.00   \n",
       "396028                   f       INDIVIDUAL      1.00                  0.00   \n",
       "396029                   f       INDIVIDUAL      1.00                  0.00   \n",
       "\n",
       "       zip_code  earliest_cr_line_year      id  \n",
       "0         22690                   1990       0  \n",
       "1         05113                   2004       1  \n",
       "2         05113                   2007       2  \n",
       "3         00813                   2006       3  \n",
       "4         11650                   1999       4  \n",
       "...         ...                    ...     ...  \n",
       "396025    30723                   2004  396025  \n",
       "396026    05113                   2006  396026  \n",
       "396027    70466                   1997  396027  \n",
       "396028    29597                   1990  396028  \n",
       "396029    48052                   1998  396029  \n",
       "\n",
       "[395219 rows x 24 columns]"
      ]
     },
     "execution_count": 38,
     "metadata": {},
     "output_type": "execute_result"
    }
   ],
   "source": [
    "data['id'] = data.index\n",
    "data"
   ]
  },
  {
   "cell_type": "code",
   "execution_count": 39,
   "id": "1a1203ff",
   "metadata": {},
   "outputs": [
    {
     "name": "stdout",
     "output_type": "stream",
     "text": [
      "Number of columns : 24\n"
     ]
    }
   ],
   "source": [
    "print('Number of columns :', data.shape[1])"
   ]
  },
  {
   "cell_type": "code",
   "execution_count": 40,
   "id": "46878622",
   "metadata": {},
   "outputs": [],
   "source": [
    "data.columns = data.columns.str.replace(' ', '_')"
   ]
  },
  {
   "cell_type": "code",
   "execution_count": null,
   "id": "c1af1f3b",
   "metadata": {},
   "outputs": [],
   "source": [
    "# # # Remove outliers\n",
    "\n",
    "# data = data[data['annual_inc'] <= 250000]\n",
    "# data = data[data['dti'] <= 50]\n",
    "# data = data[data['open_acc'] <= 40]\n",
    "# data = data[data['total_acc'] <= 80]\n",
    "# data = data[data['revol_util'] <= 120]\n",
    "# data = data[data['revol_bal'] <= 250000]\n",
    "# #print(data.shape)"
   ]
  },
  {
   "cell_type": "markdown",
   "id": "5b9edb3f",
   "metadata": {},
   "source": [
    "## 🔖 Hopsworks Feature Store"
   ]
  },
  {
   "cell_type": "code",
   "execution_count": 41,
   "id": "3453e498",
   "metadata": {},
   "outputs": [
    {
     "name": "stdout",
     "output_type": "stream",
     "text": [
      "7SRNo0QQFwuikLxi.EmywhAThsmsMpU6hxFmBRKaTKUfGyefVhvWLiLHhIKuf2q98noVz9MAQJSMkM9f5\n"
     ]
    }
   ],
   "source": [
    "import os\n",
    "key=\"\"\n",
    "with open(\"api-key.txt\", \"r\") as f:\n",
    "    key = f.read().rstrip()\n",
    "os.environ['HOPSWORKS_PROJECT']=\"deloitte\"\n",
    "os.environ['HOPSWORKS_HOST']=\"6a525ee0-91d8-11ed-9cc8-9fe82dc2b6fd.cloud.hopsworks.ai\"\n",
    "os.environ['HOPSWORKS_API_KEY']=key\n",
    "print(key)"
   ]
  },
  {
   "cell_type": "code",
   "execution_count": 42,
   "id": "4a36d859",
   "metadata": {},
   "outputs": [
    {
     "name": "stdout",
     "output_type": "stream",
     "text": [
      "Connected. Call `.close()` to terminate connection gracefully.\n",
      "\n",
      "Logged in to project, explore it here https://6a525ee0-91d8-11ed-9cc8-9fe82dc2b6fd.cloud.hopsworks.ai:443/p/119\n",
      "Connected. Call `.close()` to terminate connection gracefully.\n"
     ]
    }
   ],
   "source": [
    "import hopsworks\n",
    "\n",
    "proj = hopsworks.login()\n",
    "fs = proj.get_feature_store()"
   ]
  },
  {
   "cell_type": "code",
   "execution_count": 43,
   "id": "107f872a",
   "metadata": {},
   "outputs": [],
   "source": [
    "fg = fs.get_or_create_feature_group(name=\"loans\",\n",
    "                                    version=1,\n",
    "                                    description=\"Lending Club Loan Defaulters Prediction\",\n",
    "                                    online_enabled=True,\n",
    "                                    primary_key=['id'],\n",
    "                                    partition_key=['earliest_cr_line_year'],\n",
    "                                    event_time='earliest_cr_line'\n",
    ")"
   ]
  },
  {
   "cell_type": "code",
   "execution_count": 45,
   "id": "040bf356",
   "metadata": {},
   "outputs": [
    {
     "name": "stdout",
     "output_type": "stream",
     "text": [
      "Feature Group created successfully, explore it at \n",
      "https://6a525ee0-91d8-11ed-9cc8-9fe82dc2b6fd.cloud.hopsworks.ai:443/p/119/fs/67/fg/2061\n"
     ]
    },
    {
     "data": {
      "application/vnd.jupyter.widget-view+json": {
       "model_id": "adfd10e542bc48828c845b8500f50e05",
       "version_major": 2,
       "version_minor": 0
      },
      "text/plain": [
       "Uploading Dataframe: 0.00% |          | Rows 0/395219 | Elapsed Time: 00:00 | Remaining Time: ?"
      ]
     },
     "metadata": {},
     "output_type": "display_data"
    },
    {
     "name": "stdout",
     "output_type": "stream",
     "text": [
      "Launching job: loans_1_offline_fg_backfill\n",
      "Job started successfully, you can follow the progress at \n",
      "https://6a525ee0-91d8-11ed-9cc8-9fe82dc2b6fd.cloud.hopsworks.ai/p/119/jobs/named/loans_1_offline_fg_backfill/executions\n"
     ]
    },
    {
     "data": {
      "text/plain": [
       "(<hsfs.core.job.Job at 0x7fc46497ca30>, None)"
      ]
     },
     "execution_count": 45,
     "metadata": {},
     "output_type": "execute_result"
    }
   ],
   "source": [
    "fg.insert(data, write_options={\"wait_for_job\" : False})"
   ]
  },
  {
   "cell_type": "code",
   "execution_count": 46,
   "id": "b2a6e8ad",
   "metadata": {},
   "outputs": [
    {
     "data": {
      "text/html": [
       "<div>\n",
       "<style scoped>\n",
       "    .dataframe tbody tr th:only-of-type {\n",
       "        vertical-align: middle;\n",
       "    }\n",
       "\n",
       "    .dataframe tbody tr th {\n",
       "        vertical-align: top;\n",
       "    }\n",
       "\n",
       "    .dataframe thead th {\n",
       "        text-align: right;\n",
       "    }\n",
       "</style>\n",
       "<table border=\"1\" class=\"dataframe\">\n",
       "  <thead>\n",
       "    <tr style=\"text-align: right;\">\n",
       "      <th></th>\n",
       "      <th>LoanStatNew</th>\n",
       "      <th>Description</th>\n",
       "    </tr>\n",
       "  </thead>\n",
       "  <tbody>\n",
       "    <tr>\n",
       "      <th>0</th>\n",
       "      <td>acc_now_delinq</td>\n",
       "      <td>The number of accounts on which the borrower i...</td>\n",
       "    </tr>\n",
       "    <tr>\n",
       "      <th>1</th>\n",
       "      <td>acc_open_past_24mths</td>\n",
       "      <td>Number of trades opened in past 24 months.</td>\n",
       "    </tr>\n",
       "    <tr>\n",
       "      <th>2</th>\n",
       "      <td>addr_state</td>\n",
       "      <td>The state provided by the borrower in the loan...</td>\n",
       "    </tr>\n",
       "    <tr>\n",
       "      <th>3</th>\n",
       "      <td>all_util</td>\n",
       "      <td>Balance to credit limit on all trades</td>\n",
       "    </tr>\n",
       "    <tr>\n",
       "      <th>4</th>\n",
       "      <td>annual_inc</td>\n",
       "      <td>The self-reported annual income provided by th...</td>\n",
       "    </tr>\n",
       "    <tr>\n",
       "      <th>...</th>\n",
       "      <td>...</td>\n",
       "      <td>...</td>\n",
       "    </tr>\n",
       "    <tr>\n",
       "      <th>146</th>\n",
       "      <td>settlement_status</td>\n",
       "      <td>The status of the borrower's settlement plan. ...</td>\n",
       "    </tr>\n",
       "    <tr>\n",
       "      <th>147</th>\n",
       "      <td>settlement_date</td>\n",
       "      <td>The date that the borrower agrees to the settl...</td>\n",
       "    </tr>\n",
       "    <tr>\n",
       "      <th>148</th>\n",
       "      <td>settlement_amount</td>\n",
       "      <td>The loan amount that the borrower has agreed t...</td>\n",
       "    </tr>\n",
       "    <tr>\n",
       "      <th>149</th>\n",
       "      <td>settlement_percentage</td>\n",
       "      <td>The settlement amount as a percentage of the p...</td>\n",
       "    </tr>\n",
       "    <tr>\n",
       "      <th>150</th>\n",
       "      <td>settlement_term</td>\n",
       "      <td>The number of months that the borrower will be...</td>\n",
       "    </tr>\n",
       "  </tbody>\n",
       "</table>\n",
       "<p>151 rows × 2 columns</p>\n",
       "</div>"
      ],
      "text/plain": [
       "               LoanStatNew                                        Description\n",
       "0           acc_now_delinq  The number of accounts on which the borrower i...\n",
       "1     acc_open_past_24mths         Number of trades opened in past 24 months.\n",
       "2               addr_state  The state provided by the borrower in the loan...\n",
       "3                 all_util              Balance to credit limit on all trades\n",
       "4               annual_inc  The self-reported annual income provided by th...\n",
       "..                     ...                                                ...\n",
       "146      settlement_status  The status of the borrower's settlement plan. ...\n",
       "147        settlement_date  The date that the borrower agrees to the settl...\n",
       "148      settlement_amount  The loan amount that the borrower has agreed t...\n",
       "149  settlement_percentage  The settlement amount as a percentage of the p...\n",
       "150        settlement_term  The number of months that the borrower will be...\n",
       "\n",
       "[151 rows x 2 columns]"
      ]
     },
     "execution_count": 46,
     "metadata": {},
     "output_type": "execute_result"
    }
   ],
   "source": [
    "metadata = pd.read_csv(\"LCDataDictionary.csv\")\n",
    "metadata"
   ]
  },
  {
   "cell_type": "markdown",
   "id": "c3f24d00",
   "metadata": {},
   "source": [
    "## Update the description of any features found in the data dictionary\n",
    "\n",
    "Loop through the datadict. For each entry, if there is a corresponding feature in the feature group, update its description"
   ]
  },
  {
   "cell_type": "code",
   "execution_count": 47,
   "id": "93889452",
   "metadata": {},
   "outputs": [
    {
     "name": "stdout",
     "output_type": "stream",
     "text": [
      "Updating description of feature: annual_inc\n",
      "Updating description of feature: application_type\n",
      "Updating description of feature: dti\n",
      "Updating description of feature: earliest_cr_line\n",
      "Updating description of feature: home_ownership\n",
      "Updating description of feature: id\n",
      "Updating description of feature: initial_list_status\n",
      "Updating description of feature: installment\n",
      "Updating description of feature: int_rate\n",
      "Updating description of feature: loan_amnt\n",
      "Updating description of feature: loan_status\n",
      "Updating description of feature: mort_acc\n",
      "Updating description of feature: open_acc\n",
      "Updating description of feature: pub_rec\n",
      "Updating description of feature: pub_rec_bankruptcies\n",
      "Updating description of feature: purpose\n",
      "Updating description of feature: revol_bal\n",
      "Updating description of feature: revol_util\n",
      "Updating description of feature: sub_grade\n",
      "Updating description of feature: term\n",
      "Updating description of feature: total_acc\n",
      "Updating description of feature: verification_status\n",
      "Updating description of feature: zip_code\n"
     ]
    }
   ],
   "source": [
    "datadict=[]\n",
    "\n",
    "for entry in metadata.index: \n",
    "        name = metadata['LoanStatNew'][entry]\n",
    "        try:\n",
    "            f = fg.get_feature(name)\n",
    "            fg.update_feature_description(name, metadata['Description'][entry])\n",
    "            print(\"Updating description of feature: {}\".format(f.name))\n",
    "        except:\n",
    "            pass # do nothing\n",
    "\n"
   ]
  }
 ],
 "metadata": {
  "kernelspec": {
   "display_name": "Python 3 (ipykernel)",
   "language": "python",
   "name": "python3"
  },
  "language_info": {
   "codemirror_mode": {
    "name": "ipython",
    "version": 3
   },
   "file_extension": ".py",
   "mimetype": "text/x-python",
   "name": "python",
   "nbconvert_exporter": "python",
   "pygments_lexer": "ipython3",
   "version": "3.9.7"
  },
  "papermill": {
   "default_parameters": {},
   "duration": 1434.559462,
   "end_time": "2023-01-31T14:35:09.548746",
   "environment_variables": {},
   "exception": null,
   "input_path": "__notebook__.ipynb",
   "output_path": "__notebook__.ipynb",
   "parameters": {},
   "start_time": "2023-01-31T14:11:14.989284",
   "version": "2.3.4"
  }
 },
 "nbformat": 4,
 "nbformat_minor": 5
}
