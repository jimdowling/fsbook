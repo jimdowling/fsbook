{
 "cells": [
  {
   "cell_type": "code",
   "execution_count": null,
   "id": "severe-speech",
   "metadata": {},
   "outputs": [],
   "source": [
    "!pip3 install hopsworks"
   ]
  },
  {
   "cell_type": "code",
   "execution_count": null,
   "id": "correct-cyprus",
   "metadata": {},
   "outputs": [],
   "source": [
    "import hopsworks\n",
    "\n",
    "proj = hopsworks.login()\n",
    "fs = proj.get_feature_store()"
   ]
  },
  {
   "cell_type": "code",
   "execution_count": null,
   "id": "aging-thompson",
   "metadata": {},
   "outputs": [],
   "source": [
    "fgs = fs.get_feature_groups(\"teams_features\")\n",
    "for fg in fgs:\n",
    "    print(fg.name + \" : version - \" + str(fg.version))"
   ]
  }
 ],
 "metadata": {
  "kernelspec": {
   "display_name": "Python 3 (ipykernel)",
   "language": "python",
   "name": "python3"
  },
  "language_info": {
   "codemirror_mode": {
    "name": "ipython",
    "version": 3
   },
   "file_extension": ".py",
   "mimetype": "text/x-python",
   "name": "python",
   "nbconvert_exporter": "python",
   "pygments_lexer": "ipython3",
   "version": "3.9.7"
  }
 },
 "nbformat": 4,
 "nbformat_minor": 5
}
