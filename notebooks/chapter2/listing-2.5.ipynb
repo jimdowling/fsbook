{
 "cells": [
  {
   "cell_type": "code",
   "execution_count": null,
   "id": "dying-afternoon",
   "metadata": {},
   "outputs": [],
   "source": [
    "import hopsworks\n",
    "\n",
    "proj = hopsworks.login()\n",
    "fs = proj.get_feature_store()"
   ]
  },
  {
   "cell_type": "code",
   "execution_count": null,
   "id": "surprised-stadium",
   "metadata": {},
   "outputs": [],
   "source": [
    "snowflake_conn = fs.get_storage_connector(\"sfconnector\")\n",
    "query = \"\"\"\n",
    "    SELECT id as order_id, customer_id, timestamp_order FROM order\n",
    "\"\"\"\n",
    "fs.create_on_demand_feature_group(\n",
    "    name=\"order_item_fg\",\n",
    "    version=1,\n",
    "    storage_connector=snowflake_conn\n",
    "    query=query,\n",
    "    description=\"On-demand feature group for order data in Snowflake\",\n",
    ")\n",
    "\n",
    "# Now, look in the Hopsworks UI, and you should see the External Feature group"
   ]
  }
 ],
 "metadata": {
  "kernelspec": {
   "display_name": "Python 3 (ipykernel)",
   "language": "python",
   "name": "python3"
  },
  "language_info": {
   "codemirror_mode": {
    "name": "ipython",
    "version": 3
   },
   "file_extension": ".py",
   "mimetype": "text/x-python",
   "name": "python",
   "nbconvert_exporter": "python",
   "pygments_lexer": "ipython3",
   "version": "3.9.7"
  }
 },
 "nbformat": 4,
 "nbformat_minor": 5
}
