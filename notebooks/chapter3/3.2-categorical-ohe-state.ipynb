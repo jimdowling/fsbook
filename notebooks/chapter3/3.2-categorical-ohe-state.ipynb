{
 "cells": [
  {
   "cell_type": "code",
   "execution_count": 1,
   "id": "5e7590f3",
   "metadata": {},
   "outputs": [
    {
     "name": "stderr",
     "output_type": "stream",
     "text": [
      "/srv/hops/anaconda/envs/theenv/lib/python3.8/site-packages/fsspec/implementations/hdfs.py:83: FutureWarning: pyarrow.hdfs.HadoopFileSystem is deprecated as of 2.0.0, please use pyarrow.fs.HadoopFileSystem instead.\n",
      "  self.client = HadoopFileSystem(\n"
     ]
    },
    {
     "name": "stdout",
     "output_type": "stream",
     "text": [
      "<class 'pandas.core.frame.DataFrame'>\n",
      "Int64Index: 99441 entries, 0 to 99440\n",
      "Data columns (total 2 columns):\n",
      " #   Column          Non-Null Count  Dtype \n",
      "---  ------          --------------  ----- \n",
      " 0   customer_id     99441 non-null  object\n",
      " 1   customer_state  99441 non-null  object\n",
      "dtypes: object(2)\n",
      "memory usage: 2.3+ MB\n"
     ]
    }
   ],
   "source": [
    "import pandas as pd\n",
    "from hops import hdfs\n",
    "df = pd.read_csv(hdfs.project_path() + \"Jupyter/fs-notebooks/ecommerce/customer.csv\")\n",
    "\n",
    "customer_df = df.drop(columns=[\"customer_city\", \"customer_zip_code_prefix\",\"customer_unique_id\"])\n",
    "customer_df.dropna(subset=['customer_id'], inplace=True)\n",
    "customer_df.info()"
   ]
  },
  {
   "cell_type": "code",
   "execution_count": 2,
   "id": "fd355093",
   "metadata": {},
   "outputs": [
    {
     "data": {
      "text/plain": [
       "customer_id       99441\n",
       "customer_state    99441\n",
       "dtype: int64"
      ]
     },
     "execution_count": 2,
     "metadata": {},
     "output_type": "execute_result"
    }
   ],
   "source": [
    "customer_df.count()"
   ]
  },
  {
   "cell_type": "code",
   "execution_count": 3,
   "id": "5d63aca7",
   "metadata": {},
   "outputs": [
    {
     "name": "stdout",
     "output_type": "stream",
     "text": [
      "<class 'pandas.core.frame.DataFrame'>\n",
      "Int64Index: 99441 entries, 0 to 99440\n",
      "Data columns (total 28 columns):\n",
      " #   Column       Non-Null Count  Dtype \n",
      "---  ------       --------------  ----- \n",
      " 0   customer_id  99441 non-null  object\n",
      " 1   state_AC     99441 non-null  uint8 \n",
      " 2   state_AL     99441 non-null  uint8 \n",
      " 3   state_AM     99441 non-null  uint8 \n",
      " 4   state_AP     99441 non-null  uint8 \n",
      " 5   state_BA     99441 non-null  uint8 \n",
      " 6   state_CE     99441 non-null  uint8 \n",
      " 7   state_DF     99441 non-null  uint8 \n",
      " 8   state_ES     99441 non-null  uint8 \n",
      " 9   state_GO     99441 non-null  uint8 \n",
      " 10  state_MA     99441 non-null  uint8 \n",
      " 11  state_MG     99441 non-null  uint8 \n",
      " 12  state_MS     99441 non-null  uint8 \n",
      " 13  state_MT     99441 non-null  uint8 \n",
      " 14  state_PA     99441 non-null  uint8 \n",
      " 15  state_PB     99441 non-null  uint8 \n",
      " 16  state_PE     99441 non-null  uint8 \n",
      " 17  state_PI     99441 non-null  uint8 \n",
      " 18  state_PR     99441 non-null  uint8 \n",
      " 19  state_RJ     99441 non-null  uint8 \n",
      " 20  state_RN     99441 non-null  uint8 \n",
      " 21  state_RO     99441 non-null  uint8 \n",
      " 22  state_RR     99441 non-null  uint8 \n",
      " 23  state_RS     99441 non-null  uint8 \n",
      " 24  state_SC     99441 non-null  uint8 \n",
      " 25  state_SE     99441 non-null  uint8 \n",
      " 26  state_SP     99441 non-null  uint8 \n",
      " 27  state_TO     99441 non-null  uint8 \n",
      "dtypes: object(1), uint8(27)\n",
      "memory usage: 4.1+ MB\n"
     ]
    }
   ],
   "source": [
    "encoded_df=pd.get_dummies(customer_df, columns=[\"customer_state\"], prefix='state')\n",
    "encoded_df.info()"
   ]
  },
  {
   "cell_type": "code",
   "execution_count": 4,
   "id": "dd841c50",
   "metadata": {},
   "outputs": [
    {
     "name": "stdout",
     "output_type": "stream",
     "text": [
      "Connected. Call `.close()` to terminate connection gracefully.\n",
      "Configuring ingestion job...\n",
      "Uploading Pandas dataframe...\n",
      "Launching ingestion job...\n",
      "Ingestion Job started successfully, you can follow the progress at https://hopsworks.glassfish.service.consul:8182/hopsworks/#!/project/119/jobs\n"
     ]
    },
    {
     "data": {
      "text/plain": [
       "<hsfs.core.job.Job at 0x7f1bc606dfd0>"
      ]
     },
     "execution_count": 4,
     "metadata": {},
     "output_type": "execute_result"
    }
   ],
   "source": [
    "import hopsworks\n",
    "\n",
    "proj = hopsworks.login()\n",
    "fs = proj.get_feature_store()\n",
    "\n",
    "customer_state_fg = fs.create_feature_group(name=\"customer_state\",\n",
    "                                    primary_key=[\"customer_id\"],\n",
    "                                    version=1,\n",
    "                                    description=\"Customer state One-hot Encoded\",\n",
    "                                    online_enabled=True)\n",
    "customer_state_fg.save(df)\n"
   ]
  }
 ],
 "metadata": {
  "kernelspec": {
   "display_name": "Python 3 (ipykernel)",
   "language": "python",
   "name": "python3"
  },
  "language_info": {
   "codemirror_mode": {
    "name": "ipython",
    "version": 3
   },
   "file_extension": ".py",
   "mimetype": "text/x-python",
   "name": "python",
   "nbconvert_exporter": "python",
   "pygments_lexer": "ipython3",
   "version": "3.9.7"
  }
 },
 "nbformat": 4,
 "nbformat_minor": 5
}
