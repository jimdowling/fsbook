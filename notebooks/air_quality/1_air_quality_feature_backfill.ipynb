{
 "cells": [
  {
   "cell_type": "markdown",
   "id": "595ac540",
   "metadata": {},
   "source": [
    "<span style=\"font-width:bold; font-size: 3rem; color:#333;\">- Part 01: Feature Backfill</span>\n",
    "\n",
    "\n",
    "## 🗒️ This notebook is divided into the following sections:\n",
    "1. Fetch historical data\n",
    "2. Connect to the Hopsworks feature store\n",
    "3. Create feature groups and insert them to the feature store\n",
    "\n"
   ]
  },
  {
   "cell_type": "markdown",
   "id": "35441349",
   "metadata": {},
   "source": [
    "### <span style='color:#ff5f27'> 📝 Imports"
   ]
  },
  {
   "cell_type": "code",
   "execution_count": 1,
   "id": "7a2987c0",
   "metadata": {},
   "outputs": [],
   "source": [
    "import datetime\n",
    "import requests\n",
    "import pandas as pd\n",
    "import hopsworks\n",
    "import warnings\n",
    "import datetime\n",
    "warnings.filterwarnings(\"ignore\")"
   ]
  },
  {
   "cell_type": "markdown",
   "id": "bbeb6e6e",
   "metadata": {},
   "source": [
    "---"
   ]
  },
  {
   "cell_type": "markdown",
   "id": "ebe62842",
   "metadata": {},
   "source": [
    "## <span style='color:#ff5f27'> 🌍 Representing the Target cities </span>"
   ]
  },
  {
   "cell_type": "code",
   "execution_count": 2,
   "id": "c077ddee",
   "metadata": {
    "tags": []
   },
   "outputs": [
    {
     "data": {
      "text/html": [
       "<div>\n",
       "<style scoped>\n",
       "    .dataframe tbody tr th:only-of-type {\n",
       "        vertical-align: middle;\n",
       "    }\n",
       "\n",
       "    .dataframe tbody tr th {\n",
       "        vertical-align: top;\n",
       "    }\n",
       "\n",
       "    .dataframe thead th {\n",
       "        text-align: right;\n",
       "    }\n",
       "</style>\n",
       "<table border=\"1\" class=\"dataframe\">\n",
       "  <thead>\n",
       "    <tr style=\"text-align: right;\">\n",
       "      <th></th>\n",
       "      <th>date</th>\n",
       "      <th>pm25</th>\n",
       "      <th>pm10</th>\n",
       "      <th>no2</th>\n",
       "    </tr>\n",
       "  </thead>\n",
       "  <tbody>\n",
       "    <tr>\n",
       "      <th>0</th>\n",
       "      <td>2024-02-01</td>\n",
       "      <td>22.0</td>\n",
       "      <td>33.0</td>\n",
       "      <td>10.0</td>\n",
       "    </tr>\n",
       "    <tr>\n",
       "      <th>1</th>\n",
       "      <td>2024-02-02</td>\n",
       "      <td>22.0</td>\n",
       "      <td>19.0</td>\n",
       "      <td>6.0</td>\n",
       "    </tr>\n",
       "    <tr>\n",
       "      <th>2</th>\n",
       "      <td>2024-02-03</td>\n",
       "      <td>12.0</td>\n",
       "      <td>25.0</td>\n",
       "      <td>8.0</td>\n",
       "    </tr>\n",
       "    <tr>\n",
       "      <th>3</th>\n",
       "      <td>2024-02-04</td>\n",
       "      <td>17.0</td>\n",
       "      <td>34.0</td>\n",
       "      <td>11.0</td>\n",
       "    </tr>\n",
       "    <tr>\n",
       "      <th>4</th>\n",
       "      <td>2024-02-05</td>\n",
       "      <td>20.0</td>\n",
       "      <td>42.0</td>\n",
       "      <td>14.0</td>\n",
       "    </tr>\n",
       "    <tr>\n",
       "      <th>...</th>\n",
       "      <td>...</td>\n",
       "      <td>...</td>\n",
       "      <td>...</td>\n",
       "      <td>...</td>\n",
       "    </tr>\n",
       "    <tr>\n",
       "      <th>2286</th>\n",
       "      <td>2017-10-24</td>\n",
       "      <td>NaN</td>\n",
       "      <td>NaN</td>\n",
       "      <td>5.0</td>\n",
       "    </tr>\n",
       "    <tr>\n",
       "      <th>2287</th>\n",
       "      <td>2017-10-25</td>\n",
       "      <td>NaN</td>\n",
       "      <td>NaN</td>\n",
       "      <td>10.0</td>\n",
       "    </tr>\n",
       "    <tr>\n",
       "      <th>2288</th>\n",
       "      <td>2017-10-26</td>\n",
       "      <td>NaN</td>\n",
       "      <td>NaN</td>\n",
       "      <td>14.0</td>\n",
       "    </tr>\n",
       "    <tr>\n",
       "      <th>2289</th>\n",
       "      <td>2017-10-27</td>\n",
       "      <td>NaN</td>\n",
       "      <td>NaN</td>\n",
       "      <td>9.0</td>\n",
       "    </tr>\n",
       "    <tr>\n",
       "      <th>2290</th>\n",
       "      <td>2017-10-28</td>\n",
       "      <td>NaN</td>\n",
       "      <td>NaN</td>\n",
       "      <td>4.0</td>\n",
       "    </tr>\n",
       "  </tbody>\n",
       "</table>\n",
       "<p>2291 rows × 4 columns</p>\n",
       "</div>"
      ],
      "text/plain": [
       "           date  pm25  pm10   no2\n",
       "0    2024-02-01  22.0  33.0  10.0\n",
       "1    2024-02-02  22.0  19.0   6.0\n",
       "2    2024-02-03  12.0  25.0   8.0\n",
       "3    2024-02-04  17.0  34.0  11.0\n",
       "4    2024-02-05  20.0  42.0  14.0\n",
       "...         ...   ...   ...   ...\n",
       "2286 2017-10-24   NaN   NaN   5.0\n",
       "2287 2017-10-25   NaN   NaN  10.0\n",
       "2288 2017-10-26   NaN   NaN  14.0\n",
       "2289 2017-10-27   NaN   NaN   9.0\n",
       "2290 2017-10-28   NaN   NaN   4.0\n",
       "\n",
       "[2291 rows x 4 columns]"
      ]
     },
     "execution_count": 2,
     "metadata": {},
     "output_type": "execute_result"
    }
   ],
   "source": [
    "country=\"sweden\"\n",
    "city=\"stockholm\"\n",
    "street=\"hornsgatan-108\"\n",
    "today = datetime.date.today()\n",
    "\n",
    "df = pd.read_csv(\"../../data/stockholm-air-quality.csv\",  parse_dates=['date'], skipinitialspace=True)\n",
    "df"
   ]
  },
  {
   "cell_type": "code",
   "execution_count": 3,
   "id": "661d953a",
   "metadata": {},
   "outputs": [
    {
     "name": "stdout",
     "output_type": "stream",
     "text": [
      "<class 'pandas.core.frame.DataFrame'>\n",
      "RangeIndex: 2291 entries, 0 to 2290\n",
      "Data columns (total 4 columns):\n",
      " #   Column  Non-Null Count  Dtype         \n",
      "---  ------  --------------  -----         \n",
      " 0   date    2291 non-null   datetime64[ns]\n",
      " 1   pm25    2254 non-null   float64       \n",
      " 2   pm10    2254 non-null   float64       \n",
      " 3   no2     2265 non-null   float64       \n",
      "dtypes: datetime64[ns](1), float64(3)\n",
      "memory usage: 71.7 KB\n"
     ]
    }
   ],
   "source": [
    "df.info()"
   ]
  },
  {
   "cell_type": "code",
   "execution_count": 4,
   "id": "154cbf29",
   "metadata": {},
   "outputs": [],
   "source": [
    "from functions import *\n",
    "\n",
    "df2 = df[['date', 'pm25']]\n",
    "df2['city']=city\n",
    "df2['street']=street\n",
    "\n",
    "latitude, longitude = get_city_coordinates(city)"
   ]
  },
  {
   "cell_type": "code",
   "execution_count": 5,
   "id": "61ef101b",
   "metadata": {},
   "outputs": [
    {
     "data": {
      "text/html": [
       "<div>\n",
       "<style scoped>\n",
       "    .dataframe tbody tr th:only-of-type {\n",
       "        vertical-align: middle;\n",
       "    }\n",
       "\n",
       "    .dataframe tbody tr th {\n",
       "        vertical-align: top;\n",
       "    }\n",
       "\n",
       "    .dataframe thead th {\n",
       "        text-align: right;\n",
       "    }\n",
       "</style>\n",
       "<table border=\"1\" class=\"dataframe\">\n",
       "  <thead>\n",
       "    <tr style=\"text-align: right;\">\n",
       "      <th></th>\n",
       "      <th>date</th>\n",
       "      <th>pm25</th>\n",
       "      <th>city</th>\n",
       "      <th>street</th>\n",
       "      <th>pm25_yesterday</th>\n",
       "    </tr>\n",
       "  </thead>\n",
       "  <tbody>\n",
       "    <tr>\n",
       "      <th>0</th>\n",
       "      <td>2024-02-01</td>\n",
       "      <td>22.0</td>\n",
       "      <td>stockholm</td>\n",
       "      <td>hornsgatan-108</td>\n",
       "      <td>NaN</td>\n",
       "    </tr>\n",
       "    <tr>\n",
       "      <th>1</th>\n",
       "      <td>2024-02-02</td>\n",
       "      <td>22.0</td>\n",
       "      <td>stockholm</td>\n",
       "      <td>hornsgatan-108</td>\n",
       "      <td>22.0</td>\n",
       "    </tr>\n",
       "    <tr>\n",
       "      <th>2</th>\n",
       "      <td>2024-02-03</td>\n",
       "      <td>12.0</td>\n",
       "      <td>stockholm</td>\n",
       "      <td>hornsgatan-108</td>\n",
       "      <td>22.0</td>\n",
       "    </tr>\n",
       "    <tr>\n",
       "      <th>3</th>\n",
       "      <td>2024-02-04</td>\n",
       "      <td>17.0</td>\n",
       "      <td>stockholm</td>\n",
       "      <td>hornsgatan-108</td>\n",
       "      <td>12.0</td>\n",
       "    </tr>\n",
       "    <tr>\n",
       "      <th>4</th>\n",
       "      <td>2024-02-05</td>\n",
       "      <td>20.0</td>\n",
       "      <td>stockholm</td>\n",
       "      <td>hornsgatan-108</td>\n",
       "      <td>17.0</td>\n",
       "    </tr>\n",
       "    <tr>\n",
       "      <th>...</th>\n",
       "      <td>...</td>\n",
       "      <td>...</td>\n",
       "      <td>...</td>\n",
       "      <td>...</td>\n",
       "      <td>...</td>\n",
       "    </tr>\n",
       "    <tr>\n",
       "      <th>2286</th>\n",
       "      <td>2017-10-24</td>\n",
       "      <td>NaN</td>\n",
       "      <td>stockholm</td>\n",
       "      <td>hornsgatan-108</td>\n",
       "      <td>NaN</td>\n",
       "    </tr>\n",
       "    <tr>\n",
       "      <th>2287</th>\n",
       "      <td>2017-10-25</td>\n",
       "      <td>NaN</td>\n",
       "      <td>stockholm</td>\n",
       "      <td>hornsgatan-108</td>\n",
       "      <td>NaN</td>\n",
       "    </tr>\n",
       "    <tr>\n",
       "      <th>2288</th>\n",
       "      <td>2017-10-26</td>\n",
       "      <td>NaN</td>\n",
       "      <td>stockholm</td>\n",
       "      <td>hornsgatan-108</td>\n",
       "      <td>NaN</td>\n",
       "    </tr>\n",
       "    <tr>\n",
       "      <th>2289</th>\n",
       "      <td>2017-10-27</td>\n",
       "      <td>NaN</td>\n",
       "      <td>stockholm</td>\n",
       "      <td>hornsgatan-108</td>\n",
       "      <td>NaN</td>\n",
       "    </tr>\n",
       "    <tr>\n",
       "      <th>2290</th>\n",
       "      <td>2017-10-28</td>\n",
       "      <td>NaN</td>\n",
       "      <td>stockholm</td>\n",
       "      <td>hornsgatan-108</td>\n",
       "      <td>NaN</td>\n",
       "    </tr>\n",
       "  </tbody>\n",
       "</table>\n",
       "<p>2291 rows × 5 columns</p>\n",
       "</div>"
      ],
      "text/plain": [
       "           date  pm25       city          street  pm25_yesterday\n",
       "0    2024-02-01  22.0  stockholm  hornsgatan-108             NaN\n",
       "1    2024-02-02  22.0  stockholm  hornsgatan-108            22.0\n",
       "2    2024-02-03  12.0  stockholm  hornsgatan-108            22.0\n",
       "3    2024-02-04  17.0  stockholm  hornsgatan-108            12.0\n",
       "4    2024-02-05  20.0  stockholm  hornsgatan-108            17.0\n",
       "...         ...   ...        ...             ...             ...\n",
       "2286 2017-10-24   NaN  stockholm  hornsgatan-108             NaN\n",
       "2287 2017-10-25   NaN  stockholm  hornsgatan-108             NaN\n",
       "2288 2017-10-26   NaN  stockholm  hornsgatan-108             NaN\n",
       "2289 2017-10-27   NaN  stockholm  hornsgatan-108             NaN\n",
       "2290 2017-10-28   NaN  stockholm  hornsgatan-108             NaN\n",
       "\n",
       "[2291 rows x 5 columns]"
      ]
     },
     "execution_count": 5,
     "metadata": {},
     "output_type": "execute_result"
    }
   ],
   "source": [
    "df2['pm25'] = df2['pm25'].astype('float32')\n",
    "df2[\"pm25_yesterday\"] = df2[\"pm25\"].shift(1)\n",
    "df2"
   ]
  },
  {
   "cell_type": "code",
   "execution_count": 6,
   "id": "f9a76f69",
   "metadata": {},
   "outputs": [
    {
     "data": {
      "text/html": [
       "<div>\n",
       "<style scoped>\n",
       "    .dataframe tbody tr th:only-of-type {\n",
       "        vertical-align: middle;\n",
       "    }\n",
       "\n",
       "    .dataframe tbody tr th {\n",
       "        vertical-align: top;\n",
       "    }\n",
       "\n",
       "    .dataframe thead th {\n",
       "        text-align: right;\n",
       "    }\n",
       "</style>\n",
       "<table border=\"1\" class=\"dataframe\">\n",
       "  <thead>\n",
       "    <tr style=\"text-align: right;\">\n",
       "      <th></th>\n",
       "      <th>date</th>\n",
       "      <th>pm25</th>\n",
       "      <th>city</th>\n",
       "      <th>street</th>\n",
       "      <th>pm25_yesterday</th>\n",
       "    </tr>\n",
       "  </thead>\n",
       "  <tbody>\n",
       "    <tr>\n",
       "      <th>1</th>\n",
       "      <td>2024-02-02</td>\n",
       "      <td>22.0</td>\n",
       "      <td>stockholm</td>\n",
       "      <td>hornsgatan-108</td>\n",
       "      <td>22.0</td>\n",
       "    </tr>\n",
       "    <tr>\n",
       "      <th>2</th>\n",
       "      <td>2024-02-03</td>\n",
       "      <td>12.0</td>\n",
       "      <td>stockholm</td>\n",
       "      <td>hornsgatan-108</td>\n",
       "      <td>22.0</td>\n",
       "    </tr>\n",
       "    <tr>\n",
       "      <th>3</th>\n",
       "      <td>2024-02-04</td>\n",
       "      <td>17.0</td>\n",
       "      <td>stockholm</td>\n",
       "      <td>hornsgatan-108</td>\n",
       "      <td>12.0</td>\n",
       "    </tr>\n",
       "    <tr>\n",
       "      <th>4</th>\n",
       "      <td>2024-02-05</td>\n",
       "      <td>20.0</td>\n",
       "      <td>stockholm</td>\n",
       "      <td>hornsgatan-108</td>\n",
       "      <td>17.0</td>\n",
       "    </tr>\n",
       "    <tr>\n",
       "      <th>5</th>\n",
       "      <td>2024-02-06</td>\n",
       "      <td>41.0</td>\n",
       "      <td>stockholm</td>\n",
       "      <td>hornsgatan-108</td>\n",
       "      <td>20.0</td>\n",
       "    </tr>\n",
       "    <tr>\n",
       "      <th>...</th>\n",
       "      <td>...</td>\n",
       "      <td>...</td>\n",
       "      <td>...</td>\n",
       "      <td>...</td>\n",
       "      <td>...</td>\n",
       "    </tr>\n",
       "    <tr>\n",
       "      <th>2249</th>\n",
       "      <td>2017-12-26</td>\n",
       "      <td>16.0</td>\n",
       "      <td>stockholm</td>\n",
       "      <td>hornsgatan-108</td>\n",
       "      <td>14.0</td>\n",
       "    </tr>\n",
       "    <tr>\n",
       "      <th>2250</th>\n",
       "      <td>2017-12-27</td>\n",
       "      <td>10.0</td>\n",
       "      <td>stockholm</td>\n",
       "      <td>hornsgatan-108</td>\n",
       "      <td>16.0</td>\n",
       "    </tr>\n",
       "    <tr>\n",
       "      <th>2251</th>\n",
       "      <td>2017-12-28</td>\n",
       "      <td>55.0</td>\n",
       "      <td>stockholm</td>\n",
       "      <td>hornsgatan-108</td>\n",
       "      <td>10.0</td>\n",
       "    </tr>\n",
       "    <tr>\n",
       "      <th>2252</th>\n",
       "      <td>2017-12-29</td>\n",
       "      <td>42.0</td>\n",
       "      <td>stockholm</td>\n",
       "      <td>hornsgatan-108</td>\n",
       "      <td>55.0</td>\n",
       "    </tr>\n",
       "    <tr>\n",
       "      <th>2253</th>\n",
       "      <td>2017-12-30</td>\n",
       "      <td>16.0</td>\n",
       "      <td>stockholm</td>\n",
       "      <td>hornsgatan-108</td>\n",
       "      <td>42.0</td>\n",
       "    </tr>\n",
       "  </tbody>\n",
       "</table>\n",
       "<p>2253 rows × 5 columns</p>\n",
       "</div>"
      ],
      "text/plain": [
       "           date  pm25       city          street  pm25_yesterday\n",
       "1    2024-02-02  22.0  stockholm  hornsgatan-108            22.0\n",
       "2    2024-02-03  12.0  stockholm  hornsgatan-108            22.0\n",
       "3    2024-02-04  17.0  stockholm  hornsgatan-108            12.0\n",
       "4    2024-02-05  20.0  stockholm  hornsgatan-108            17.0\n",
       "5    2024-02-06  41.0  stockholm  hornsgatan-108            20.0\n",
       "...         ...   ...        ...             ...             ...\n",
       "2249 2017-12-26  16.0  stockholm  hornsgatan-108            14.0\n",
       "2250 2017-12-27  10.0  stockholm  hornsgatan-108            16.0\n",
       "2251 2017-12-28  55.0  stockholm  hornsgatan-108            10.0\n",
       "2252 2017-12-29  42.0  stockholm  hornsgatan-108            55.0\n",
       "2253 2017-12-30  16.0  stockholm  hornsgatan-108            42.0\n",
       "\n",
       "[2253 rows x 5 columns]"
      ]
     },
     "execution_count": 6,
     "metadata": {},
     "output_type": "execute_result"
    }
   ],
   "source": [
    "df2.dropna(inplace=True)\n",
    "df2"
   ]
  },
  {
   "cell_type": "code",
   "execution_count": 7,
   "id": "0d8c8102",
   "metadata": {},
   "outputs": [],
   "source": [
    "earliest_aq_date = pd.Series.min(df2['date'])"
   ]
  },
  {
   "cell_type": "code",
   "execution_count": 8,
   "id": "e5506a8d",
   "metadata": {},
   "outputs": [
    {
     "data": {
      "text/plain": [
       "'2017-10-04'"
      ]
     },
     "execution_count": 8,
     "metadata": {},
     "output_type": "execute_result"
    }
   ],
   "source": [
    "earliest_aq_date = earliest_aq_date.strftime('%Y-%m-%d')\n",
    "earliest_aq_date"
   ]
  },
  {
   "cell_type": "code",
   "execution_count": 9,
   "id": "97979ad6",
   "metadata": {},
   "outputs": [
    {
     "name": "stdout",
     "output_type": "stream",
     "text": [
      "<class 'pandas.core.frame.DataFrame'>\n",
      "Index: 2253 entries, 1 to 2253\n",
      "Data columns (total 5 columns):\n",
      " #   Column          Non-Null Count  Dtype         \n",
      "---  ------          --------------  -----         \n",
      " 0   date            2253 non-null   datetime64[ns]\n",
      " 1   pm25            2253 non-null   float32       \n",
      " 2   city            2253 non-null   object        \n",
      " 3   street          2253 non-null   object        \n",
      " 4   pm25_yesterday  2253 non-null   float32       \n",
      "dtypes: datetime64[ns](1), float32(2), object(2)\n",
      "memory usage: 88.0+ KB\n"
     ]
    }
   ],
   "source": [
    "df_air_quality=df2\n",
    "df_air_quality.info()"
   ]
  },
  {
   "cell_type": "markdown",
   "id": "534ee4b1",
   "metadata": {
    "tags": []
   },
   "source": [
    "### <span style=\"color:#ff5f27;\">🛠 Feature Engineering</span>"
   ]
  },
  {
   "cell_type": "code",
   "execution_count": 10,
   "id": "84b7130c",
   "metadata": {
    "tags": []
   },
   "outputs": [
    {
     "data": {
      "text/plain": [
       "(2253, 5)"
      ]
     },
     "execution_count": 10,
     "metadata": {},
     "output_type": "execute_result"
    }
   ],
   "source": [
    "# Print the shape (number of rows and columns) of the df_air_quality DataFrame\n",
    "df_air_quality.shape"
   ]
  },
  {
   "cell_type": "code",
   "execution_count": 11,
   "id": "f79b756e",
   "metadata": {
    "tags": []
   },
   "outputs": [
    {
     "data": {
      "text/plain": [
       "Index(['date', 'pm25', 'city', 'street', 'pm25_yesterday'], dtype='object')"
      ]
     },
     "execution_count": 11,
     "metadata": {},
     "output_type": "execute_result"
    }
   ],
   "source": [
    "# Retrieve and display the column names of the df_air_quality DataFrame\n",
    "df_air_quality.columns"
   ]
  },
  {
   "cell_type": "markdown",
   "id": "b2ebde90",
   "metadata": {},
   "source": [
    "---"
   ]
  },
  {
   "cell_type": "markdown",
   "id": "d9957904",
   "metadata": {
    "tags": []
   },
   "source": [
    "## <span style='color:#ff5f27'> 🌦 Loading Weather Data from [Open Meteo](https://open-meteo.com/en/docs)"
   ]
  },
  {
   "cell_type": "markdown",
   "id": "a31021c1",
   "metadata": {},
   "source": [
    "## Instructions for weather\n",
    "https://open-meteo.com/en/docs/historical-weather-api#hourly=&daily=temperature_2m_mean,precipitation_sum,wind_speed_10m_max,wind_direction_10m_dominant"
   ]
  },
  {
   "cell_type": "code",
   "execution_count": 12,
   "id": "67a84010",
   "metadata": {},
   "outputs": [
    {
     "name": "stdout",
     "output_type": "stream",
     "text": [
      "Coordinates 59.29701232910156°N 18.163265228271484°E\n",
      "Elevation 18.0 m asl\n",
      "Timezone None None\n",
      "Timezone difference to GMT+0 0 s\n"
     ]
    }
   ],
   "source": [
    "weather_df = get_historical_weather(city, earliest_aq_date, str(today))"
   ]
  },
  {
   "cell_type": "code",
   "execution_count": 13,
   "id": "413ccbcc",
   "metadata": {},
   "outputs": [
    {
     "name": "stdout",
     "output_type": "stream",
     "text": [
      "<class 'pandas.core.frame.DataFrame'>\n",
      "Index: 2327 entries, 0 to 2326\n",
      "Data columns (total 6 columns):\n",
      " #   Column                       Non-Null Count  Dtype         \n",
      "---  ------                       --------------  -----         \n",
      " 0   date                         2327 non-null   datetime64[ns]\n",
      " 1   temperature_2m_mean          2327 non-null   float32       \n",
      " 2   precipitation_sum            2327 non-null   float32       \n",
      " 3   wind_speed_10m_max           2327 non-null   float32       \n",
      " 4   wind_direction_10m_dominant  2327 non-null   float32       \n",
      " 5   city                         2327 non-null   object        \n",
      "dtypes: datetime64[ns](1), float32(4), object(1)\n",
      "memory usage: 90.9+ KB\n"
     ]
    }
   ],
   "source": [
    "weather_df.info()"
   ]
  },
  {
   "cell_type": "code",
   "execution_count": 14,
   "id": "027a6bb0",
   "metadata": {},
   "outputs": [
    {
     "data": {
      "text/plain": [
       "{\"kwargs\": {\"column\": \"pm25\", \"min_value\": -0.1, \"max_value\": 999.9, \"strict_min\": true}, \"expectation_type\": \"expect_column_min_to_be_between\", \"meta\": {}}"
      ]
     },
     "execution_count": 14,
     "metadata": {},
     "output_type": "execute_result"
    }
   ],
   "source": [
    "import great_expectations as ge\n",
    "aq_expectation_suite = ge.core.ExpectationSuite(\n",
    "    expectation_suite_name=\"aq_expectation_suite\"\n",
    ")\n",
    "\n",
    "aq_expectation_suite.add_expectation(\n",
    "    ge.core.ExpectationConfiguration(\n",
    "        expectation_type=\"expect_column_min_to_be_between\",\n",
    "        kwargs={\n",
    "            \"column\":\"pm25\",\n",
    "            \"min_value\":-0.1,\n",
    "            \"max_value\":999.9,\n",
    "            \"strict_min\":True\n",
    "        }\n",
    "    )\n",
    ")"
   ]
  },
  {
   "cell_type": "code",
   "execution_count": 15,
   "id": "200bb67f",
   "metadata": {},
   "outputs": [],
   "source": [
    "import great_expectations as ge\n",
    "weather_expectation_suite = ge.core.ExpectationSuite(\n",
    "    expectation_suite_name=\"weather_expectation_suite\"\n",
    ")\n",
    "\n",
    "def expect_greater_than_zero(col):\n",
    "    weather_expectation_suite.add_expectation(\n",
    "        ge.core.ExpectationConfiguration(\n",
    "            expectation_type=\"expect_column_min_to_be_between\",\n",
    "            kwargs={\n",
    "                \"column\":col,\n",
    "                \"min_value\":-0.1,\n",
    "                \"max_value\":1000.0,\n",
    "                \"strict_min\":True\n",
    "            }\n",
    "        )\n",
    "    )\n",
    "expect_greater_than_zero(\"precipitation_sum\")\n",
    "expect_greater_than_zero(\"wind_speed_10m_max\")"
   ]
  },
  {
   "cell_type": "markdown",
   "id": "d78fdb0e",
   "metadata": {},
   "source": [
    "---"
   ]
  },
  {
   "cell_type": "markdown",
   "id": "0c6d7b77",
   "metadata": {},
   "source": [
    "---"
   ]
  },
  {
   "cell_type": "markdown",
   "id": "6f3ed9f8",
   "metadata": {},
   "source": [
    "### <span style=\"color:#ff5f27;\"> 🔮 Connecting to Hopsworks Feature Store </span>"
   ]
  },
  {
   "cell_type": "code",
   "execution_count": 16,
   "id": "20757217",
   "metadata": {},
   "outputs": [
    {
     "name": "stdout",
     "output_type": "stream",
     "text": [
      "Connected. Call `.close()` to terminate connection gracefully.\n",
      "\n",
      "Logged in to project, explore it here https://snurran.hops.works/p/5240\n",
      "Connected. Call `.close()` to terminate connection gracefully.\n"
     ]
    }
   ],
   "source": [
    "import hopsworks\n",
    "\n",
    "project = hopsworks.login()\n",
    "\n",
    "fs = project.get_feature_store() "
   ]
  },
  {
   "cell_type": "markdown",
   "id": "dedf2ca3",
   "metadata": {},
   "source": [
    "## <span style=\"color:#ff5f27;\">🪄 Creating Feature Groups</span>"
   ]
  },
  {
   "cell_type": "markdown",
   "id": "04232810",
   "metadata": {},
   "source": [
    "### <span style='color:#ff5f27'> 🌫 Air Quality Data"
   ]
  },
  {
   "cell_type": "code",
   "execution_count": 17,
   "id": "31bf5aa3",
   "metadata": {
    "scrolled": true,
    "tags": []
   },
   "outputs": [],
   "source": [
    "# Get or create feature group\n",
    "air_quality_fg = fs.get_or_create_feature_group(\n",
    "    name='air_quality',\n",
    "    description='Air Quality characteristics of each day',\n",
    "    version=1,\n",
    "    primary_key=['city','street','date'],\n",
    "    event_time=\"date\",\n",
    "    expectation_suite=aq_expectation_suite\n",
    ")    "
   ]
  },
  {
   "cell_type": "code",
   "execution_count": 18,
   "id": "7dd91383",
   "metadata": {},
   "outputs": [
    {
     "name": "stdout",
     "output_type": "stream",
     "text": [
      "Feature Group created successfully, explore it at \n",
      "https://snurran.hops.works/p/5240/fs/5188/fg/5170\n",
      "2024-02-18 09:14:15,767 INFO: \t1 expectation(s) included in expectation_suite.\n",
      "Validation succeeded.\n",
      "Validation Report saved successfully, explore a summary at https://snurran.hops.works/p/5240/fs/5188/fg/5170\n"
     ]
    },
    {
     "data": {
      "application/vnd.jupyter.widget-view+json": {
       "model_id": "63bcad5491f74c158b71c0643c0fdda6",
       "version_major": 2,
       "version_minor": 0
      },
      "text/plain": [
       "Uploading Dataframe: 0.00% |          | Rows 0/2253 | Elapsed Time: 00:00 | Remaining Time: ?"
      ]
     },
     "metadata": {},
     "output_type": "display_data"
    },
    {
     "name": "stdout",
     "output_type": "stream",
     "text": [
      "Launching job: air_quality_1_offline_fg_materialization\n",
      "Job started successfully, you can follow the progress at \n",
      "https://snurran.hops.works/p/5240/jobs/named/air_quality_1_offline_fg_materialization/executions\n"
     ]
    },
    {
     "data": {
      "text/plain": [
       "(<hsfs.core.job.Job at 0x7effa6781540>,\n",
       " {\n",
       "   \"evaluation_parameters\": {},\n",
       "   \"meta\": {\n",
       "     \"great_expectations_version\": \"0.15.12\",\n",
       "     \"expectation_suite_name\": \"aq_expectation_suite\",\n",
       "     \"run_id\": {\n",
       "       \"run_time\": \"2024-02-18T09:14:15.767744+00:00\",\n",
       "       \"run_name\": null\n",
       "     },\n",
       "     \"batch_kwargs\": {\n",
       "       \"ge_batch_id\": \"169be08e-ce3e-11ee-b4f7-92152048118b\"\n",
       "     },\n",
       "     \"batch_markers\": {},\n",
       "     \"batch_parameters\": {},\n",
       "     \"validation_time\": \"20240218T091415.767686Z\",\n",
       "     \"expectation_suite_meta\": {\n",
       "       \"great_expectations_version\": \"0.15.12\"\n",
       "     }\n",
       "   },\n",
       "   \"results\": [\n",
       "     {\n",
       "       \"result\": {\n",
       "         \"observed_value\": 4.0,\n",
       "         \"element_count\": 2253,\n",
       "         \"missing_count\": null,\n",
       "         \"missing_percent\": null\n",
       "       },\n",
       "       \"exception_info\": {\n",
       "         \"raised_exception\": false,\n",
       "         \"exception_message\": null,\n",
       "         \"exception_traceback\": null\n",
       "       },\n",
       "       \"meta\": {\n",
       "         \"ingestionResult\": \"INGESTED\",\n",
       "         \"validationTime\": \"2024-02-18T09:14:15.000767Z\"\n",
       "       },\n",
       "       \"success\": true,\n",
       "       \"expectation_config\": {\n",
       "         \"kwargs\": {\n",
       "           \"column\": \"pm25\",\n",
       "           \"min_value\": -0.1,\n",
       "           \"max_value\": 999.9,\n",
       "           \"strict_min\": true\n",
       "         },\n",
       "         \"expectation_type\": \"expect_column_min_to_be_between\",\n",
       "         \"meta\": {\n",
       "           \"expectationId\": 4197\n",
       "         }\n",
       "       }\n",
       "     }\n",
       "   ],\n",
       "   \"success\": true,\n",
       "   \"statistics\": {\n",
       "     \"evaluated_expectations\": 1,\n",
       "     \"successful_expectations\": 1,\n",
       "     \"unsuccessful_expectations\": 0,\n",
       "     \"success_percent\": 100.0\n",
       "   }\n",
       " })"
      ]
     },
     "execution_count": 18,
     "metadata": {},
     "output_type": "execute_result"
    }
   ],
   "source": [
    "# Insert data\n",
    "air_quality_fg.insert(df_air_quality)"
   ]
  },
  {
   "cell_type": "code",
   "execution_count": 19,
   "id": "f0803758",
   "metadata": {},
   "outputs": [
    {
     "data": {
      "text/plain": [
       "<hsfs.feature_group.FeatureGroup at 0x7effa69cdc00>"
      ]
     },
     "execution_count": 19,
     "metadata": {},
     "output_type": "execute_result"
    }
   ],
   "source": [
    "air_quality_fg.update_feature_description(\"date\", \"Date of measurement of air quality\")\n",
    "air_quality_fg.update_feature_description(\"city\", \"Place where the air quality was measured (sometimes a country in acqcn.org)\")\n",
    "air_quality_fg.update_feature_description(\"street\", \"Street in the city where the air quality was measured\")\n",
    "air_quality_fg.update_feature_description(\"pm25\", \"Particles less than 2.5 micrometers in diameter (fine particles) pose health risk\")"
   ]
  },
  {
   "cell_type": "markdown",
   "id": "d84bf3cb",
   "metadata": {},
   "source": [
    "### <span style='color:#ff5f27'> 🌦 Weather Data"
   ]
  },
  {
   "cell_type": "code",
   "execution_count": 20,
   "id": "608510f4",
   "metadata": {},
   "outputs": [],
   "source": [
    "# Get or create feature group \n",
    "weather_fg = fs.get_or_create_feature_group(\n",
    "    name='weather',\n",
    "    description='Weather characteristics of each day',\n",
    "    version=1,\n",
    "    primary_key=['city','date'],\n",
    "    event_time=\"date\",\n",
    "    expectation_suite=weather_expectation_suite\n",
    ") "
   ]
  },
  {
   "cell_type": "code",
   "execution_count": 21,
   "id": "4f5a0dea",
   "metadata": {
    "tags": []
   },
   "outputs": [
    {
     "name": "stdout",
     "output_type": "stream",
     "text": [
      "Feature Group created successfully, explore it at \n",
      "https://snurran.hops.works/p/5240/fs/5188/fg/5171\n",
      "2024-02-18 09:14:22,716 INFO: \t2 expectation(s) included in expectation_suite.\n",
      "Validation succeeded.\n",
      "Validation Report saved successfully, explore a summary at https://snurran.hops.works/p/5240/fs/5188/fg/5171\n"
     ]
    },
    {
     "data": {
      "application/vnd.jupyter.widget-view+json": {
       "model_id": "8a9a50ae687f471bb87328ff57aa1813",
       "version_major": 2,
       "version_minor": 0
      },
      "text/plain": [
       "Uploading Dataframe: 0.00% |          | Rows 0/2327 | Elapsed Time: 00:00 | Remaining Time: ?"
      ]
     },
     "metadata": {},
     "output_type": "display_data"
    },
    {
     "name": "stdout",
     "output_type": "stream",
     "text": [
      "Launching job: weather_1_offline_fg_materialization\n",
      "Job started successfully, you can follow the progress at \n",
      "https://snurran.hops.works/p/5240/jobs/named/weather_1_offline_fg_materialization/executions\n"
     ]
    },
    {
     "data": {
      "text/plain": [
       "(<hsfs.core.job.Job at 0x7effa5ab5c00>,\n",
       " {\n",
       "   \"evaluation_parameters\": {},\n",
       "   \"meta\": {\n",
       "     \"great_expectations_version\": \"0.15.12\",\n",
       "     \"expectation_suite_name\": \"weather_expectation_suite\",\n",
       "     \"run_id\": {\n",
       "       \"run_time\": \"2024-02-18T09:14:22.716559+00:00\",\n",
       "       \"run_name\": null\n",
       "     },\n",
       "     \"batch_kwargs\": {\n",
       "       \"ge_batch_id\": \"1ac0299a-ce3e-11ee-b4f7-92152048118b\"\n",
       "     },\n",
       "     \"batch_markers\": {},\n",
       "     \"batch_parameters\": {},\n",
       "     \"validation_time\": \"20240218T091422.716510Z\",\n",
       "     \"expectation_suite_meta\": {\n",
       "       \"great_expectations_version\": \"0.15.12\"\n",
       "     }\n",
       "   },\n",
       "   \"results\": [\n",
       "     {\n",
       "       \"result\": {\n",
       "         \"observed_value\": 0.0,\n",
       "         \"element_count\": 2327,\n",
       "         \"missing_count\": null,\n",
       "         \"missing_percent\": null\n",
       "       },\n",
       "       \"exception_info\": {\n",
       "         \"raised_exception\": false,\n",
       "         \"exception_message\": null,\n",
       "         \"exception_traceback\": null\n",
       "       },\n",
       "       \"meta\": {\n",
       "         \"ingestionResult\": \"INGESTED\",\n",
       "         \"validationTime\": \"2024-02-18T09:14:22.000716Z\"\n",
       "       },\n",
       "       \"success\": true,\n",
       "       \"expectation_config\": {\n",
       "         \"kwargs\": {\n",
       "           \"column\": \"precipitation_sum\",\n",
       "           \"min_value\": -0.1,\n",
       "           \"max_value\": 1000.0,\n",
       "           \"strict_min\": true\n",
       "         },\n",
       "         \"expectation_type\": \"expect_column_min_to_be_between\",\n",
       "         \"meta\": {\n",
       "           \"expectationId\": 4199\n",
       "         }\n",
       "       }\n",
       "     },\n",
       "     {\n",
       "       \"result\": {\n",
       "         \"observed_value\": 3.41525936126709,\n",
       "         \"element_count\": 2327,\n",
       "         \"missing_count\": null,\n",
       "         \"missing_percent\": null\n",
       "       },\n",
       "       \"exception_info\": {\n",
       "         \"raised_exception\": false,\n",
       "         \"exception_message\": null,\n",
       "         \"exception_traceback\": null\n",
       "       },\n",
       "       \"meta\": {\n",
       "         \"ingestionResult\": \"INGESTED\",\n",
       "         \"validationTime\": \"2024-02-18T09:14:22.000716Z\"\n",
       "       },\n",
       "       \"success\": true,\n",
       "       \"expectation_config\": {\n",
       "         \"kwargs\": {\n",
       "           \"column\": \"wind_speed_10m_max\",\n",
       "           \"min_value\": -0.1,\n",
       "           \"max_value\": 1000.0,\n",
       "           \"strict_min\": true\n",
       "         },\n",
       "         \"expectation_type\": \"expect_column_min_to_be_between\",\n",
       "         \"meta\": {\n",
       "           \"expectationId\": 4198\n",
       "         }\n",
       "       }\n",
       "     }\n",
       "   ],\n",
       "   \"success\": true,\n",
       "   \"statistics\": {\n",
       "     \"evaluated_expectations\": 2,\n",
       "     \"successful_expectations\": 2,\n",
       "     \"unsuccessful_expectations\": 0,\n",
       "     \"success_percent\": 100.0\n",
       "   }\n",
       " })"
      ]
     },
     "execution_count": 21,
     "metadata": {},
     "output_type": "execute_result"
    }
   ],
   "source": [
    "# Insert data\n",
    "weather_fg.insert(weather_df)"
   ]
  },
  {
   "cell_type": "code",
   "execution_count": 22,
   "id": "c2ec651c",
   "metadata": {},
   "outputs": [
    {
     "data": {
      "text/plain": [
       "<hsfs.feature_group.FeatureGroup at 0x7effa59f05b0>"
      ]
     },
     "execution_count": 22,
     "metadata": {},
     "output_type": "execute_result"
    }
   ],
   "source": [
    "weather_fg.update_feature_description(\"date\", \"Date of measurement of weather\")\n",
    "weather_fg.update_feature_description(\"city\", \"City where weather is measured/forecast for\")\n",
    "weather_fg.update_feature_description(\"temperature_2m_mean\", \"Temperature in Celsius\")\n",
    "weather_fg.update_feature_description(\"precipitation_sum\", \"Precipitation (rain/snow) in mm\")\n",
    "weather_fg.update_feature_description(\"wind_speed_10m_max\", \"Wind speed at 10m abouve ground\")\n",
    "weather_fg.update_feature_description(\"wind_direction_10m_dominant\", \"Dominant Wind direction over the dayd\")"
   ]
  },
  {
   "cell_type": "markdown",
   "id": "a599d16b",
   "metadata": {},
   "source": [
    "## <span style=\"color:#ff5f27;\">⏭️ **Next:** Part 02: Feature Pipeline \n",
    " </span> \n",
    "\n",
    "In the following notebook you will parse data and insert it into Feature Groups."
   ]
  },
  {
   "cell_type": "markdown",
   "id": "36c5c37a",
   "metadata": {},
   "source": [
    "## <span style=\"color:#ff5f27;\">⏭️ **Exercises:** \n",
    " </span> \n",
    "    \n",
    "    * Add a rolling window of 3 days and 5 days for 'pm25'\n",
    "        df.set_index(\"date\").rolling(3).mean().head()\n"
   ]
  },
  {
   "cell_type": "code",
   "execution_count": null,
   "id": "9dbd981d",
   "metadata": {},
   "outputs": [],
   "source": []
  }
 ],
 "metadata": {
  "kernelspec": {
   "display_name": "Python 3",
   "language": "python",
   "name": "python3"
  },
  "language_info": {
   "codemirror_mode": {
    "name": "ipython",
    "version": 3
   },
   "file_extension": ".py",
   "mimetype": "text/x-python",
   "name": "python",
   "nbconvert_exporter": "python",
   "pygments_lexer": "ipython3",
   "version": "3.10.11"
  }
 },
 "nbformat": 4,
 "nbformat_minor": 5
}
