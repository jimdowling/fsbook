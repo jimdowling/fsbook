{
 "cells": [
  {
   "cell_type": "markdown",
   "id": "2dbd2d53",
   "metadata": {},
   "source": [
    "# <span style=\"font-width:bold; font-size: 3rem; color:#1EB182;\"><img src=\"../images/icon102.png\" width=\"38px\"></img> **Hopsworks Feature Store** </span><span style=\"font-width:bold; font-size: 3rem; color:#333;\">- Part 04: Batch Inference</span>\n",
    "\n",
    "## 🗒️ This notebook is divided into the following sections:\n",
    "\n",
    "1. Load batch data.\n",
    "2. Predict using model from Model Registry."
   ]
  },
  {
   "cell_type": "markdown",
   "id": "7b8554da",
   "metadata": {},
   "source": [
    "## <span style='color:#ff5f27'> 📝 Imports"
   ]
  },
  {
   "cell_type": "code",
   "execution_count": 2,
   "id": "863b6b7f",
   "metadata": {},
   "outputs": [],
   "source": [
    "import joblib\n",
    "import datetime\n",
    "import time\n",
    "import pandas as pd\n",
    "from functions import *\n"
   ]
  },
  {
   "cell_type": "code",
   "execution_count": 3,
   "id": "a758aa52",
   "metadata": {},
   "outputs": [],
   "source": [
    "# Getting the current date\n",
    "today = datetime.date.today()"
   ]
  },
  {
   "cell_type": "markdown",
   "id": "26bf3f12",
   "metadata": {},
   "source": [
    "## <span style=\"color:#ff5f27;\"> 📡 Connecting to Hopsworks Feature Store </span>"
   ]
  },
  {
   "cell_type": "code",
   "execution_count": null,
   "id": "9a525d0e",
   "metadata": {},
   "outputs": [],
   "source": [
    "import hopsworks\n",
    "\n",
    "project = hopsworks.login()\n",
    "\n",
    "fs = project.get_feature_store()"
   ]
  },
  {
   "cell_type": "markdown",
   "id": "6ae1d3af",
   "metadata": {},
   "source": [
    "## <span style=\"color:#ff5f27;\"> ⚙️ Feature View Retrieval</span>\n"
   ]
  },
  {
   "cell_type": "code",
   "execution_count": null,
   "id": "27734af3",
   "metadata": {},
   "outputs": [],
   "source": [
    "# Retrieve the 'air_quality_fv' feature view\n",
    "feature_view = fs.get_feature_view(\n",
    "    name='air_quality_fv',\n",
    "    version=1,\n",
    ")"
   ]
  },
  {
   "cell_type": "markdown",
   "id": "27bb988d",
   "metadata": {},
   "source": [
    "## <span style=\"color:#ff5f27;\">🗄 Model Registry</span>\n"
   ]
  },
  {
   "cell_type": "code",
   "execution_count": null,
   "id": "e7daf2f4",
   "metadata": {},
   "outputs": [],
   "source": [
    "# Retrieve the model registry\n",
    "mr = project.get_model_registry()"
   ]
  },
  {
   "cell_type": "markdown",
   "id": "db622508",
   "metadata": {},
   "source": [
    "## <span style=\"color:#ff5f27;\">🪝 Retrieving model from Model Registry</span>"
   ]
  },
  {
   "cell_type": "code",
   "execution_count": null,
   "id": "df02101a",
   "metadata": {},
   "outputs": [],
   "source": [
    "# Retrieving the 'air_quality_xgboost_model' from the model registry\n",
    "retrieved_model = mr.get_model(\n",
    "    name=\"air_quality_xgboost_model\",\n",
    "    version=1,\n",
    ")\n",
    "\n",
    "# Downloading the saved model artifacts to a local directory\n",
    "saved_model_dir = retrieved_model.download()"
   ]
  },
  {
   "cell_type": "code",
   "execution_count": null,
   "id": "b381a026",
   "metadata": {},
   "outputs": [],
   "source": [
    "# Loading the XGBoost regressor model and label encoder from the saved model directory\n",
    "retrieved_xgboost_model = joblib.load(saved_model_dir + \"/xgboost_regressor.pkl\")\n",
    "retrieved_encoder = joblib.load(saved_model_dir + \"/label_encoder.pkl\")\n",
    "\n",
    "# Displaying the retrieved XGBoost regressor model\n",
    "retrieved_xgboost_model"
   ]
  },
  {
   "cell_type": "markdown",
   "id": "33eb2a47",
   "metadata": {},
   "source": [
    "## <span style=\"color:#ff5f27;\">✨ Get Weather Forecast Features with Feature View   </span>\n",
    "\n"
   ]
  },
  {
   "cell_type": "code",
   "execution_count": null,
   "id": "edf6af6a",
   "metadata": {},
   "outputs": [],
   "source": [
    "# Getting the current date\n",
    "today = datetime.date.today()"
   ]
  },
  {
   "cell_type": "code",
   "execution_count": null,
   "id": "f01d5620",
   "metadata": {},
   "outputs": [],
   "source": [
    "# Initializing batch scoring\n",
    "# feature_view.init_batch_scoring(1)\n",
    "\n",
    "# Retrieving batch data from the feature view with a start time set to the date threshold\n",
    "batch_data = feature_view.get_batch_data(start_time=today)"
   ]
  },
  {
   "cell_type": "markdown",
   "id": "026905b5",
   "metadata": {},
   "source": [
    "### <span style=\"color:#ff5f27;\">🤖 Making the predictions</span>"
   ]
  },
  {
   "cell_type": "code",
   "execution_count": null,
   "id": "fecaead5",
   "metadata": {},
   "outputs": [],
   "source": [
    "# Transforming the 'city_name' column in the batch data using the retrieved label encoder\n",
    "# encoded = retrieved_encoder.transform(batch_data['city_name'])\n",
    "\n",
    "# # Concatenating the label-encoded 'city_name' with the original batch data\n",
    "# X_batch = pd.concat([batch_data, pd.DataFrame(encoded)], axis=1)\n",
    "\n",
    "# # Dropping unnecessary columns ('date', 'city_name', 'unix_time') from the batch data\n",
    "# X_batch = X_batch.drop(columns=['date', 'city_name', 'unix_time'])\n",
    "\n",
    "# # Renaming the newly added column with label-encoded city names to 'city_name_encoded'\n",
    "# X_batch = X_batch.rename(columns={0: 'city_name_encoded'})\n",
    "\n",
    "# # Extracting the target variable 'pm2_5' from the batch data\n",
    "# y_batch = X_batch.pop('pm2_5')"
   ]
  },
  {
   "cell_type": "code",
   "execution_count": null,
   "id": "77a46036",
   "metadata": {},
   "outputs": [],
   "source": [
    "# Making predictions on the batch data using the retrieved XGBoost regressor model\n",
    "batch_data['pm25'] = retrieved_xgboost_model.predict(batch_data)\n",
    "\n",
    "# Displaying the first 5 predictions\n",
    "batch_data[:5]"
   ]
  },
  {
   "cell_type": "code",
   "execution_count": null,
   "id": "3cd7439e",
   "metadata": {},
   "outputs": [],
   "source": [
    "# draw a graph of the predictions with dates as a PNG and save it to the github repo\n",
    "# show it on github pages"
   ]
  },
  {
   "cell_type": "code",
   "execution_count": null,
   "id": "b8d48587",
   "metadata": {},
   "outputs": [],
   "source": [
    "# Get or create feature group\n",
    "monitor_fg = fs.get_or_create_feature_group(\n",
    "    name='monitoring',\n",
    "    description='Air Quality prediction monitoring',\n",
    "    version=1,\n",
    "    primary_key=['city','street','date'],\n",
    "    event_time=\"date\"\n",
    ")"
   ]
  },
  {
   "cell_type": "code",
   "execution_count": null,
   "id": "3f56457d",
   "metadata": {},
   "outputs": [],
   "source": [
    "monitor_fg.insert(batch_data)"
   ]
  },
  {
   "cell_type": "code",
   "execution_count": null,
   "id": "7bb30dc2",
   "metadata": {},
   "outputs": [],
   "source": [
    "monitoring_df = monitoring_df.read()\n",
    "# the batch_data won't have been sync'd yet, so we can just append it to the historical data\n",
    "# monitoring_df = monitoring_df.append(batch_data)"
   ]
  },
  {
   "cell_type": "code",
   "execution_count": null,
   "id": "80b671c6",
   "metadata": {},
   "outputs": [],
   "source": [
    "air_quality_fg = fs.get_feature_group(\n",
    "    name='air_quality',\n",
    "    version=1,\n",
    ")\n",
    "air_quality_df = air_quality_fg.read()\n",
    "\n",
    "outcome_df['date', 'outcome_pm25'] = air_quality_df[['date', 'pm25']]\n",
    "\n",
    "preds_df['date', 'prediction_pm25'] = monitoring_df[['date', 'pm25']]\n",
    "\n",
    "hindcast_df = pd.merge(monitoring_df, outcome_df, on=\"date\")"
   ]
  },
  {
   "cell_type": "code",
   "execution_count": null,
   "id": "c5882565",
   "metadata": {},
   "outputs": [],
   "source": [
    "# draw a hindcast graph of historical monitoring predictions vs outcomes\n",
    "import plotly.express as px\n",
    "fig = px.line(hindcast_df, x = \"date\" \n",
    "              #markers=True,  y = \"pm25\",\n",
    "              title = f\"Air Quality Forecast for {city}\"\n",
    "             )\n",
    "fig.update_layout(\n",
    "#    plot_bgcolor=\"white\",\n",
    "    margin=dict(t=50,l=10,b=10,r=10)\n",
    ")\n",
    "fig.update_layout(\n",
    "    xaxis_tickformat = '%d/%m (%a)<br>Time %h:%m <br> %Y'\n",
    ")\n",
    "\n",
    "fig.update_layout()\n",
    "\n",
    "fig.update_xaxes(\n",
    "        ticks=\"outside\", \n",
    "        tickwidth=2,\n",
    "        tickcolor='black',\n",
    "        ticklen=10,\n",
    "        title_text = \"Time\",\n",
    "        title_font = {\"size\": 36},\n",
    "        title_standoff = 25)\n",
    "fig.update_yaxes(\n",
    "        title_text = \"PM_25\",\n",
    "        title_font = {\"size\": 200},\n",
    "        title_standoff = 25,\n",
    ")\n",
    "\n",
    "fig.update_layout(\n",
    "        font=dict(\n",
    "          family=\"Time\",\n",
    "          size=24,\n",
    "          color=\"black\"\n",
    "        )\n",
    ")\n",
    "\n",
    "filename=\"latest_lahinch.png\"\n",
    "fig.write_image(file=filename, format=\"png\", width=1920, height=1280)\n",
    "#dataset_api = project.get_dataset_api()\n",
    "#uploaded_file_path = dataset_api.upload(filename, \"Resources\", overwrite=True)\n",
    "\n",
    "fig.show()\n",
    "# "
   ]
  },
  {
   "cell_type": "code",
   "execution_count": null,
   "id": "3cbcb9ab",
   "metadata": {},
   "outputs": [],
   "source": [
    "# Create figures for app\n",
    "fig_dir = 'app_figures'\n",
    "if os.path.isdir(fig_dir) == False:\n",
    "    os.mkdir(fig_dir)\n",
    "\n",
    "for i, col in enumerate(df.columns[1:9]):\n",
    "    plt.plot(x1, prediction[:, i])\n",
    "    plt.gcf().autofmt_xdate()\n",
    "    plt.xlabel('Date')\n",
    "    plt.ylabel(col)\n",
    "    plt.title('Prediction of ' + col)\n",
    "    plt.savefig(fig_dir + '/pred_' + col + '.png')\n",
    "    plt.clf()\n",
    "\n",
    "    # Upload the images to the dataset api in hopsworks\n",
    "    dataset_api.upload(fig_dir + '/pred_' + col + '.png', 'Resources/predictions', overwrite=True)\n",
    "\n",
    "    plt.plot(x2, prediction_eval[:, i], label='Prediction')\n",
    "    plt.plot(x2, df.iloc[-24:][col], label='Outcome')\n",
    "    plt.xlabel('Date')\n",
    "    plt.ylabel(col)\n",
    "    plt.title('Prediction of ' + col)\n",
    "    plt.gcf().autofmt_xdate()\n",
    "    plt.legend()\n",
    "    plt.savefig(fig_dir + '/prev_' + col + '.png')\n",
    "    plt.clf()\n",
    "\n",
    "# \n",
    "\n"
   ]
  },
  {
   "cell_type": "markdown",
   "id": "d3ef8b42",
   "metadata": {},
   "source": [
    "---\n",
    "## <span style=\"color:#ff5f27;\">👾 Now try out the Streamlit App!</span>"
   ]
  },
  {
   "cell_type": "code",
   "execution_count": null,
   "id": "78015193",
   "metadata": {},
   "outputs": [],
   "source": [
    "# !python3 -m streamlit run streamlit_app.py"
   ]
  },
  {
   "cell_type": "markdown",
   "id": "66171a22",
   "metadata": {},
   "source": [
    "---\n",
    "\n",
    "### <span style=\"color:#ff5f27;\">🥳 <b> Next Steps  </b> </span>\n",
    "Congratulations you've now completed the Air Quality tutorial for Managed Hopsworks.\n",
    "\n",
    "Check out our other tutorials on ➡ https://github.com/logicalclocks/hopsworks-tutorials\n",
    "\n",
    "Or documentation at ➡ https://docs.hopsworks.ai"
   ]
  }
 ],
 "metadata": {
  "kernelspec": {
   "display_name": "Python 3",
   "language": "python",
   "name": "python3"
  },
  "language_info": {
   "codemirror_mode": {
    "name": "ipython",
    "version": 3
   },
   "file_extension": ".py",
   "mimetype": "text/x-python",
   "name": "python",
   "nbconvert_exporter": "python",
   "pygments_lexer": "ipython3",
   "version": "3.10.11"
  }
 },
 "nbformat": 4,
 "nbformat_minor": 5
}
